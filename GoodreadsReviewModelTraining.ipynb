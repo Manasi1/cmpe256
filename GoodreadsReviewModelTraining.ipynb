{
  "nbformat": 4,
  "nbformat_minor": 0,
  "metadata": {
    "colab": {
      "name": "GoodreadsReviewModelTraining.ipynb",
      "provenance": [],
      "machine_shape": "hm",
      "authorship_tag": "ABX9TyMJDj1CtmnRBLQqu6EU+7Ta",
      "include_colab_link": true
    },
    "kernelspec": {
      "display_name": "Python 3",
      "name": "python3"
    }
  },
  "cells": [
    {
      "cell_type": "markdown",
      "metadata": {
        "id": "view-in-github",
        "colab_type": "text"
      },
      "source": [
        "<a href=\"https://colab.research.google.com/github/Manasi1/cmpe256/blob/main/GoodreadsReviewModelTraining.ipynb\" target=\"_parent\"><img src=\"https://colab.research.google.com/assets/colab-badge.svg\" alt=\"Open In Colab\"/></a>"
      ]
    },
    {
      "cell_type": "markdown",
      "metadata": {
        "id": "E8isvz21AOJQ"
      },
      "source": [
        "## **Evaluation Metric for Training model for Goodreads Reviews Data**"
      ]
    },
    {
      "cell_type": "markdown",
      "metadata": {
        "id": "am37iUycAQRo"
      },
      "source": [
        "#### **Importing Surprise library for Collabertive filtering algorithms, Pandas**\n",
        "#### **for loading dataset, and matplotlib library for visualizations**. "
      ]
    },
    {
      "cell_type": "code",
      "metadata": {
        "id": "WCjN7a-Utafz",
        "colab": {
          "base_uri": "https://localhost:8080/"
        },
        "outputId": "f6d1b442-11f3-48c6-f32a-fc5858d11de3"
      },
      "source": [
        "# Credits-Prof Eirinaki, Rashmi Sharma and Aditya Patel\n",
        "# conda install -c conda-forge scikit-surprise\n",
        "!pip install scikit-surprise\n",
        "from surprise import BaselineOnly\n",
        "from surprise import Dataset\n",
        "from surprise import Reader\n",
        "from surprise.model_selection.split import train_test_split\n",
        "from surprise.model_selection import cross_validate, GridSearchCV\n",
        "import pandas as pd\n",
        "import numpy as np\n",
        "import os, io\n",
        "from surprise import KNNBasic, KNNWithMeans, KNNWithZScore, SlopeOne, NMF\n",
        "from surprise import SVDpp\n",
        "from surprise import SVD\n",
        "from surprise import accuracy\n",
        "\n",
        "from collections import defaultdict\n",
        "import matplotlib.pyplot as plt\n",
        "%matplotlib inline"
      ],
      "execution_count": null,
      "outputs": [
        {
          "output_type": "stream",
          "text": [
            "Collecting scikit-surprise\n",
            "\u001b[?25l  Downloading https://files.pythonhosted.org/packages/97/37/5d334adaf5ddd65da99fc65f6507e0e4599d092ba048f4302fe8775619e8/scikit-surprise-1.1.1.tar.gz (11.8MB)\n",
            "\u001b[K     |████████████████████████████████| 11.8MB 3.9MB/s \n",
            "\u001b[?25hRequirement already satisfied: joblib>=0.11 in /usr/local/lib/python3.6/dist-packages (from scikit-surprise) (0.17.0)\n",
            "Requirement already satisfied: numpy>=1.11.2 in /usr/local/lib/python3.6/dist-packages (from scikit-surprise) (1.18.5)\n",
            "Requirement already satisfied: scipy>=1.0.0 in /usr/local/lib/python3.6/dist-packages (from scikit-surprise) (1.4.1)\n",
            "Requirement already satisfied: six>=1.10.0 in /usr/local/lib/python3.6/dist-packages (from scikit-surprise) (1.15.0)\n",
            "Building wheels for collected packages: scikit-surprise\n",
            "  Building wheel for scikit-surprise (setup.py) ... \u001b[?25l\u001b[?25hdone\n",
            "  Created wheel for scikit-surprise: filename=scikit_surprise-1.1.1-cp36-cp36m-linux_x86_64.whl size=1670946 sha256=312105f1ff33c2b5dc77ca5e0c8fe2494de4b74b31ad77ca4be13e0d70bfb050\n",
            "  Stored in directory: /root/.cache/pip/wheels/78/9c/3d/41b419c9d2aff5b6e2b4c0fc8d25c538202834058f9ed110d0\n",
            "Successfully built scikit-surprise\n",
            "Installing collected packages: scikit-surprise\n",
            "Successfully installed scikit-surprise-1.1.1\n"
          ],
          "name": "stdout"
        }
      ]
    },
    {
      "cell_type": "code",
      "metadata": {
        "id": "ZCgP9-GztQr4",
        "colab": {
          "base_uri": "https://localhost:8080/"
        },
        "outputId": "028ed78b-2fe7-4a87-b623-142b431df120"
      },
      "source": [
        "# mount to Google Drive\n",
        "from google.colab import drive\n",
        "drive.mount('/content/drive')"
      ],
      "execution_count": null,
      "outputs": [
        {
          "output_type": "stream",
          "text": [
            "Mounted at /content/drive\n"
          ],
          "name": "stdout"
        }
      ]
    },
    {
      "cell_type": "code",
      "metadata": {
        "id": "SRtmI2nJaSwK",
        "colab": {
          "base_uri": "https://localhost:8080/",
          "height": 306
        },
        "outputId": "7625185f-4236-4118-cfb3-607c096c25ef"
      },
      "source": [
        "# Get the dataframe from CSV named goodread_reviews_1.csv in Google Drive\n",
        "\n",
        "# Go to folder containing CSV\n",
        "%cd \"/content/drive/My Drive/data/ce256/project\"\n",
        "# load first 4 million reviews\n",
        "goodreads_df = pd.read_csv(\"goodreads_reviews_1.csv\")\n",
        "\n",
        "# Check the CSV in Google Drive has the correct data\n",
        "goodreads_df.head()"
      ],
      "execution_count": null,
      "outputs": [
        {
          "output_type": "stream",
          "text": [
            "/content/drive/.shortcut-targets-by-id/1HAaJ2jKojgPKa8wfJoWiFU_cYq8hnytg/project\n"
          ],
          "name": "stdout"
        },
        {
          "output_type": "execute_result",
          "data": {
            "text/html": [
              "<div>\n",
              "<style scoped>\n",
              "    .dataframe tbody tr th:only-of-type {\n",
              "        vertical-align: middle;\n",
              "    }\n",
              "\n",
              "    .dataframe tbody tr th {\n",
              "        vertical-align: top;\n",
              "    }\n",
              "\n",
              "    .dataframe thead th {\n",
              "        text-align: right;\n",
              "    }\n",
              "</style>\n",
              "<table border=\"1\" class=\"dataframe\">\n",
              "  <thead>\n",
              "    <tr style=\"text-align: right;\">\n",
              "      <th></th>\n",
              "      <th>user_id</th>\n",
              "      <th>book_id</th>\n",
              "      <th>review_id</th>\n",
              "      <th>rating</th>\n",
              "      <th>review_text</th>\n",
              "      <th>date_added</th>\n",
              "      <th>date_updated</th>\n",
              "      <th>read_at</th>\n",
              "      <th>started_at</th>\n",
              "      <th>n_votes</th>\n",
              "      <th>n_comments</th>\n",
              "    </tr>\n",
              "  </thead>\n",
              "  <tbody>\n",
              "    <tr>\n",
              "      <th>0</th>\n",
              "      <td>8842281e1d1347389f2ab93d60773d4d</td>\n",
              "      <td>24375664</td>\n",
              "      <td>5cd416f3efc3f944fce4ce2db2290d5e</td>\n",
              "      <td>5</td>\n",
              "      <td>Mind blowingly cool. Best science fiction I've...</td>\n",
              "      <td>Fri Aug 25 13:55:02 -0700 2017</td>\n",
              "      <td>Mon Oct 09 08:55:59 -0700 2017</td>\n",
              "      <td>Sat Oct 07 00:00:00 -0700 2017</td>\n",
              "      <td>Sat Aug 26 00:00:00 -0700 2017</td>\n",
              "      <td>16</td>\n",
              "      <td>0</td>\n",
              "    </tr>\n",
              "    <tr>\n",
              "      <th>1</th>\n",
              "      <td>8842281e1d1347389f2ab93d60773d4d</td>\n",
              "      <td>18245960</td>\n",
              "      <td>dfdbb7b0eb5a7e4c26d59a937e2e5feb</td>\n",
              "      <td>5</td>\n",
              "      <td>This is a special book. It started slow for ab...</td>\n",
              "      <td>Sun Jul 30 07:44:10 -0700 2017</td>\n",
              "      <td>Wed Aug 30 00:00:26 -0700 2017</td>\n",
              "      <td>Sat Aug 26 12:05:52 -0700 2017</td>\n",
              "      <td>Tue Aug 15 13:23:18 -0700 2017</td>\n",
              "      <td>28</td>\n",
              "      <td>1</td>\n",
              "    </tr>\n",
              "    <tr>\n",
              "      <th>2</th>\n",
              "      <td>8842281e1d1347389f2ab93d60773d4d</td>\n",
              "      <td>6392944</td>\n",
              "      <td>5e212a62bced17b4dbe41150e5bb9037</td>\n",
              "      <td>3</td>\n",
              "      <td>I haven't read a fun mystery book in a while a...</td>\n",
              "      <td>Mon Jul 24 02:48:17 -0700 2017</td>\n",
              "      <td>Sun Jul 30 09:28:03 -0700 2017</td>\n",
              "      <td>Tue Jul 25 00:00:00 -0700 2017</td>\n",
              "      <td>Mon Jul 24 00:00:00 -0700 2017</td>\n",
              "      <td>6</td>\n",
              "      <td>0</td>\n",
              "    </tr>\n",
              "    <tr>\n",
              "      <th>3</th>\n",
              "      <td>8842281e1d1347389f2ab93d60773d4d</td>\n",
              "      <td>22078596</td>\n",
              "      <td>fdd13cad0695656be99828cd75d6eb73</td>\n",
              "      <td>4</td>\n",
              "      <td>Fun, fast paced, and disturbing tale of murder...</td>\n",
              "      <td>Mon Jul 24 02:33:09 -0700 2017</td>\n",
              "      <td>Sun Jul 30 10:23:54 -0700 2017</td>\n",
              "      <td>Sun Jul 30 15:42:05 -0700 2017</td>\n",
              "      <td>Tue Jul 25 00:00:00 -0700 2017</td>\n",
              "      <td>22</td>\n",
              "      <td>4</td>\n",
              "    </tr>\n",
              "    <tr>\n",
              "      <th>4</th>\n",
              "      <td>8842281e1d1347389f2ab93d60773d4d</td>\n",
              "      <td>6644782</td>\n",
              "      <td>bd0df91c9d918c0e433b9ab3a9a5c451</td>\n",
              "      <td>4</td>\n",
              "      <td>A fun book that gives you a sense of living in...</td>\n",
              "      <td>Mon Jul 24 02:28:14 -0700 2017</td>\n",
              "      <td>Thu Aug 24 00:07:20 -0700 2017</td>\n",
              "      <td>Sat Aug 05 00:00:00 -0700 2017</td>\n",
              "      <td>Sun Jul 30 00:00:00 -0700 2017</td>\n",
              "      <td>8</td>\n",
              "      <td>0</td>\n",
              "    </tr>\n",
              "  </tbody>\n",
              "</table>\n",
              "</div>"
            ],
            "text/plain": [
              "                            user_id   book_id  ... n_votes  n_comments\n",
              "0  8842281e1d1347389f2ab93d60773d4d  24375664  ...      16           0\n",
              "1  8842281e1d1347389f2ab93d60773d4d  18245960  ...      28           1\n",
              "2  8842281e1d1347389f2ab93d60773d4d   6392944  ...       6           0\n",
              "3  8842281e1d1347389f2ab93d60773d4d  22078596  ...      22           4\n",
              "4  8842281e1d1347389f2ab93d60773d4d   6644782  ...       8           0\n",
              "\n",
              "[5 rows x 11 columns]"
            ]
          },
          "metadata": {
            "tags": []
          },
          "execution_count": 3
        }
      ]
    },
    {
      "cell_type": "markdown",
      "metadata": {
        "id": "kyAq_WMkR-8e"
      },
      "source": [
        "## Understanding Metadata of the dataset"
      ]
    },
    {
      "cell_type": "code",
      "metadata": {
        "id": "ViVLMP7pugmN",
        "colab": {
          "base_uri": "https://localhost:8080/"
        },
        "outputId": "bf1a45eb-a1b8-4bc7-c903-0e5e2b9de89f"
      },
      "source": [
        "goodreads_df.info()"
      ],
      "execution_count": null,
      "outputs": [
        {
          "output_type": "stream",
          "text": [
            "<class 'pandas.core.frame.DataFrame'>\n",
            "RangeIndex: 4000001 entries, 0 to 4000000\n",
            "Data columns (total 11 columns):\n",
            " #   Column        Dtype \n",
            "---  ------        ----- \n",
            " 0   user_id       object\n",
            " 1   book_id       int64 \n",
            " 2   review_id     object\n",
            " 3   rating        int64 \n",
            " 4   review_text   object\n",
            " 5   date_added    object\n",
            " 6   date_updated  object\n",
            " 7   read_at       object\n",
            " 8   started_at    object\n",
            " 9   n_votes       int64 \n",
            " 10  n_comments    int64 \n",
            "dtypes: int64(4), object(7)\n",
            "memory usage: 335.7+ MB\n"
          ],
          "name": "stdout"
        }
      ]
    },
    {
      "cell_type": "code",
      "metadata": {
        "id": "60uZgGOeum0l",
        "colab": {
          "base_uri": "https://localhost:8080/",
          "height": 297
        },
        "outputId": "5fc2064c-0848-4c0c-94be-4cf6821a9178"
      },
      "source": [
        "goodreads_df.describe()"
      ],
      "execution_count": null,
      "outputs": [
        {
          "output_type": "execute_result",
          "data": {
            "text/html": [
              "<div>\n",
              "<style scoped>\n",
              "    .dataframe tbody tr th:only-of-type {\n",
              "        vertical-align: middle;\n",
              "    }\n",
              "\n",
              "    .dataframe tbody tr th {\n",
              "        vertical-align: top;\n",
              "    }\n",
              "\n",
              "    .dataframe thead th {\n",
              "        text-align: right;\n",
              "    }\n",
              "</style>\n",
              "<table border=\"1\" class=\"dataframe\">\n",
              "  <thead>\n",
              "    <tr style=\"text-align: right;\">\n",
              "      <th></th>\n",
              "      <th>book_id</th>\n",
              "      <th>rating</th>\n",
              "      <th>n_votes</th>\n",
              "      <th>n_comments</th>\n",
              "    </tr>\n",
              "  </thead>\n",
              "  <tbody>\n",
              "    <tr>\n",
              "      <th>count</th>\n",
              "      <td>4.000001e+06</td>\n",
              "      <td>4.000001e+06</td>\n",
              "      <td>4.000001e+06</td>\n",
              "      <td>4.000001e+06</td>\n",
              "    </tr>\n",
              "    <tr>\n",
              "      <th>mean</th>\n",
              "      <td>1.290124e+07</td>\n",
              "      <td>3.768724e+00</td>\n",
              "      <td>1.192645e+00</td>\n",
              "      <td>3.384324e-01</td>\n",
              "    </tr>\n",
              "    <tr>\n",
              "      <th>std</th>\n",
              "      <td>1.025331e+07</td>\n",
              "      <td>1.241666e+00</td>\n",
              "      <td>8.657892e+00</td>\n",
              "      <td>2.968977e+00</td>\n",
              "    </tr>\n",
              "    <tr>\n",
              "      <th>min</th>\n",
              "      <td>1.000000e+00</td>\n",
              "      <td>0.000000e+00</td>\n",
              "      <td>-3.000000e+00</td>\n",
              "      <td>-1.000000e+00</td>\n",
              "    </tr>\n",
              "    <tr>\n",
              "      <th>25%</th>\n",
              "      <td>1.885616e+06</td>\n",
              "      <td>3.000000e+00</td>\n",
              "      <td>0.000000e+00</td>\n",
              "      <td>0.000000e+00</td>\n",
              "    </tr>\n",
              "    <tr>\n",
              "      <th>50%</th>\n",
              "      <td>1.301010e+07</td>\n",
              "      <td>4.000000e+00</td>\n",
              "      <td>0.000000e+00</td>\n",
              "      <td>0.000000e+00</td>\n",
              "    </tr>\n",
              "    <tr>\n",
              "      <th>75%</th>\n",
              "      <td>2.082104e+07</td>\n",
              "      <td>5.000000e+00</td>\n",
              "      <td>1.000000e+00</td>\n",
              "      <td>0.000000e+00</td>\n",
              "    </tr>\n",
              "    <tr>\n",
              "      <th>max</th>\n",
              "      <td>3.649449e+07</td>\n",
              "      <td>5.000000e+00</td>\n",
              "      <td>2.419000e+03</td>\n",
              "      <td>1.532000e+03</td>\n",
              "    </tr>\n",
              "  </tbody>\n",
              "</table>\n",
              "</div>"
            ],
            "text/plain": [
              "            book_id        rating       n_votes    n_comments\n",
              "count  4.000001e+06  4.000001e+06  4.000001e+06  4.000001e+06\n",
              "mean   1.290124e+07  3.768724e+00  1.192645e+00  3.384324e-01\n",
              "std    1.025331e+07  1.241666e+00  8.657892e+00  2.968977e+00\n",
              "min    1.000000e+00  0.000000e+00 -3.000000e+00 -1.000000e+00\n",
              "25%    1.885616e+06  3.000000e+00  0.000000e+00  0.000000e+00\n",
              "50%    1.301010e+07  4.000000e+00  0.000000e+00  0.000000e+00\n",
              "75%    2.082104e+07  5.000000e+00  1.000000e+00  0.000000e+00\n",
              "max    3.649449e+07  5.000000e+00  2.419000e+03  1.532000e+03"
            ]
          },
          "metadata": {
            "tags": []
          },
          "execution_count": 5
        }
      ]
    },
    {
      "cell_type": "markdown",
      "metadata": {
        "id": "oewv0nYcSJhA"
      },
      "source": [
        "## Calculate total count of each rating"
      ]
    },
    {
      "cell_type": "code",
      "metadata": {
        "id": "Wof3NWRRzFf-",
        "colab": {
          "base_uri": "https://localhost:8080/",
          "height": 266
        },
        "outputId": "2476c853-1bfb-41be-cac1-94c3eeec23e8"
      },
      "source": [
        "total_count_rating = goodreads_df.groupby('rating')['rating'].agg(['count'])\n",
        "total_count_rating"
      ],
      "execution_count": null,
      "outputs": [
        {
          "output_type": "execute_result",
          "data": {
            "text/html": [
              "<div>\n",
              "<style scoped>\n",
              "    .dataframe tbody tr th:only-of-type {\n",
              "        vertical-align: middle;\n",
              "    }\n",
              "\n",
              "    .dataframe tbody tr th {\n",
              "        vertical-align: top;\n",
              "    }\n",
              "\n",
              "    .dataframe thead th {\n",
              "        text-align: right;\n",
              "    }\n",
              "</style>\n",
              "<table border=\"1\" class=\"dataframe\">\n",
              "  <thead>\n",
              "    <tr style=\"text-align: right;\">\n",
              "      <th></th>\n",
              "      <th>count</th>\n",
              "    </tr>\n",
              "    <tr>\n",
              "      <th>rating</th>\n",
              "      <th></th>\n",
              "    </tr>\n",
              "  </thead>\n",
              "  <tbody>\n",
              "    <tr>\n",
              "      <th>0</th>\n",
              "      <td>130331</td>\n",
              "    </tr>\n",
              "    <tr>\n",
              "      <th>1</th>\n",
              "      <td>114107</td>\n",
              "    </tr>\n",
              "    <tr>\n",
              "      <th>2</th>\n",
              "      <td>285595</td>\n",
              "    </tr>\n",
              "    <tr>\n",
              "      <th>3</th>\n",
              "      <td>808260</td>\n",
              "    </tr>\n",
              "    <tr>\n",
              "      <th>4</th>\n",
              "      <td>1343716</td>\n",
              "    </tr>\n",
              "    <tr>\n",
              "      <th>5</th>\n",
              "      <td>1317992</td>\n",
              "    </tr>\n",
              "  </tbody>\n",
              "</table>\n",
              "</div>"
            ],
            "text/plain": [
              "          count\n",
              "rating         \n",
              "0        130331\n",
              "1        114107\n",
              "2        285595\n",
              "3        808260\n",
              "4       1343716\n",
              "5       1317992"
            ]
          },
          "metadata": {
            "tags": []
          },
          "execution_count": 9
        }
      ]
    },
    {
      "cell_type": "markdown",
      "metadata": {
        "id": "bMKx_7QkWM_v"
      },
      "source": [
        "## Unique book ids, user ids and total rating count"
      ]
    },
    {
      "cell_type": "code",
      "metadata": {
        "id": "oou3MhKaxsEi",
        "colab": {
          "base_uri": "https://localhost:8080/"
        },
        "outputId": "986d59e2-8db4-486c-e923-d5e2b9c5a4e1"
      },
      "source": [
        "book_count = goodreads_df[\"book_id\"].nunique()\n",
        "user_count = goodreads_df['user_id'].nunique()\n",
        "rating_count = goodreads_df[\"rating\"].count()\n",
        "\n",
        "print('Unique Book Ids : ',book_count)\n",
        "print('Unique User Ids : ',user_count)\n",
        "print('Total rating count : ',user_count)"
      ],
      "execution_count": null,
      "outputs": [
        {
          "output_type": "stream",
          "text": [
            "Unique Book Ids :  963125\n",
            "Unique User Ids :  80920\n",
            "Total rating count :  80920\n"
          ],
          "name": "stdout"
        }
      ]
    },
    {
      "cell_type": "markdown",
      "metadata": {
        "id": "vJ1EPIcQWztC"
      },
      "source": [
        "# **Visualize the rating count**"
      ]
    },
    {
      "cell_type": "code",
      "metadata": {
        "id": "E4omPyhP5cuw"
      },
      "source": [
        "rts_gp = goodreads_df.groupby(by=['rating']).agg({'user_id': 'count'}).reset_index()\n",
        "rts_gp.columns = ['Rating', 'Count']"
      ],
      "execution_count": null,
      "outputs": []
    },
    {
      "cell_type": "code",
      "metadata": {
        "id": "yDuv8aVR5Rqq",
        "colab": {
          "base_uri": "https://localhost:8080/",
          "height": 302
        },
        "outputId": "1b99a6c3-54be-4b38-d5b9-5727d109c9c5"
      },
      "source": [
        "plt.barh(rts_gp.Rating, rts_gp.Count, color='royalblue')\n",
        "plt.title('Overall Count of Ratings', fontsize=15)\n",
        "plt.xlabel('Count', fontsize=15)\n",
        "plt.ylabel('Rating', fontsize=15)\n",
        "plt.grid(ls='dotted')\n",
        "plt.show()"
      ],
      "execution_count": null,
      "outputs": [
        {
          "output_type": "display_data",
          "data": {
            "image/png": "[encoded data removed]",
            "text/plain": [
              "<Figure size 432x288 with 1 Axes>"
            ]
          },
          "metadata": {
            "tags": [],
            "needs_background": "light"
          }
        }
      ]
    },
    {
      "cell_type": "code",
      "metadata": {
        "id": "POwC17h8ywJ-",
        "colab": {
          "base_uri": "https://localhost:8080/",
          "height": 596
        },
        "outputId": "a917844d-1b09-4397-ce23-af2622c79ad5"
      },
      "source": [
        "ax = p.plot(kind = 'barh', legend = False, figsize = (15,10))\n",
        "plt.title('Total pool: {:,} Books, {:,} users, {:,} ratings given'.format(book_count, user_count, rating_count), fontsize=20)\n",
        "plt.axis('off')\n",
        "          \n",
        "for i in range(1,6):\n",
        "    ax.text(p.iloc[i-1][0]/4, i-1, 'Rating {}: {:.0f}%'.format(i, p.iloc[i-1][0]*100 / p.sum()[0]), color = 'black', weight = 'bold')"
      ],
      "execution_count": null,
      "outputs": [
        {
          "output_type": "display_data",
          "data": {
            "image/png": "[encoded data removed]",
            "text/plain": [
              "<Figure size 1080x720 with 1 Axes>"
            ]
          },
          "metadata": {
            "tags": [],
            "needs_background": "light"
          }
        }
      ]
    },
    {
      "cell_type": "markdown",
      "metadata": {
        "id": "qqsDkSCWXXBI"
      },
      "source": [
        "# **Check for Null values in User id, Book Id, and Review Id**"
      ]
    },
    {
      "cell_type": "code",
      "metadata": {
        "id": "aRIb7cHrzdBc",
        "colab": {
          "base_uri": "https://localhost:8080/"
        },
        "outputId": "9755e0b8-ce3d-4b79-83ad-179008b21a44"
      },
      "source": [
        "goodreads_df.isnull().sum()"
      ],
      "execution_count": null,
      "outputs": [
        {
          "output_type": "execute_result",
          "data": {
            "text/plain": [
              "user_id               0\n",
              "book_id               0\n",
              "review_id             0\n",
              "rating                0\n",
              "review_text        1770\n",
              "date_added            0\n",
              "date_updated          0\n",
              "read_at          710737\n",
              "started_at      1790967\n",
              "n_votes               0\n",
              "n_comments            0\n",
              "dtype: int64"
            ]
          },
          "metadata": {
            "tags": []
          },
          "execution_count": 11
        }
      ]
    },
    {
      "cell_type": "markdown",
      "metadata": {
        "id": "tBY0HnjRjqVZ"
      },
      "source": [
        "# **Data Slicing**\n",
        "To deal with huge dataset we need to trim the dataset for training the model. This will also improve the quality of our dataset.\n",
        "Delete rows that contains books with less reviews.\n",
        "Delete rows that contains users who give too reviews"
      ]
    },
    {
      "cell_type": "code",
      "metadata": {
        "id": "OLALVR6XiSpr",
        "colab": {
          "base_uri": "https://localhost:8080/"
        },
        "outputId": "69515574-a27b-473d-e716-de1c2b7fa0fb"
      },
      "source": [
        "f = ['count','mean']\n",
        "\n",
        "df_book_summary = goodreads_df.groupby('book_id')['rating'].agg(f)\n",
        "book_benchmark = round(df_book_summary['count'].quantile(0.8),0)\n",
        "drop_book_list = df_book_summary[df_book_summary['count'] < book_benchmark].index\n",
        "\n",
        "print('Book minimum times of review: {}'.format(book_benchmark))\n",
        "\n",
        "df_user_summary = goodreads_df.groupby('user_id')['rating'].agg(f)\n",
        "user_benchmark = round(df_user_summary['count'].quantile(0.8),0)\n",
        "drop_user_list = df_user_summary[df_user_summary['count'] < user_benchmark].index\n",
        "\n",
        "print('User minimum times of review: {}'.format(user_benchmark))"
      ],
      "execution_count": null,
      "outputs": [
        {
          "output_type": "stream",
          "text": [
            "Book minimum times of review: 3.0\n",
            "User minimum times of review: 53.0\n"
          ],
          "name": "stdout"
        }
      ]
    },
    {
      "cell_type": "markdown",
      "metadata": {
        "id": "rthfRdbHXtbn"
      },
      "source": [
        "# **Trim Data**"
      ]
    },
    {
      "cell_type": "code",
      "metadata": {
        "id": "CfYPw_IOlhIA",
        "colab": {
          "base_uri": "https://localhost:8080/"
        },
        "outputId": "486a23d8-cdc3-43c1-d5de-fd8c1ca3daec"
      },
      "source": [
        "print('Original Shape: {}'.format(goodreads_df.shape))\n",
        "goodreads_df = goodreads_df[~goodreads_df['book_id'].isin(drop_book_list)]\n",
        "goodreads_df = goodreads_df[~goodreads_df['user_id'].isin(drop_user_list)]\n",
        "print('After Trim Shape: {}'.format(goodreads_df.shape))\n",
        "print('-Data Examples-')\n",
        "print(goodreads_df.iloc[::20000, :])"
      ],
      "execution_count": null,
      "outputs": [
        {
          "output_type": "stream",
          "text": [
            "Original Shape: (4000001, 11)\n",
            "After Trim Shape: (2482671, 11)\n",
            "-Data Examples-\n",
            "                                  user_id   book_id  ... n_votes  n_comments\n",
            "0        8842281e1d1347389f2ab93d60773d4d  24375664  ...      16           0\n",
            "31697    037c382333b7084ccee4cdec7401de90     24178  ...       0           1\n",
            "63419    61ab7baff4576c60ff7348ae12f7a331    234225  ...       0           0\n",
            "93997    d76bb2c5bcebe4bedc35d3597f54ed99  23253574  ...       1           0\n",
            "126509   9f3f45feec6f98922c607c1813a2e3fa     18490  ...       0           0\n",
            "...                                   ...       ...  ...     ...         ...\n",
            "3868292  d286122fed6ded84ff53993335bfd59c  17737072  ...       0           0\n",
            "3900488  ae8f7de4bf2de5ac4ecd4b639779f280     74532  ...       0           0\n",
            "3930763  379e40cd406bc77fe83f9f00bc73525a   7260188  ...       0           0\n",
            "3962765  58606e3de9355f7962434800012625c0  17852872  ...      12           0\n",
            "3995592  4c15c984a987fa94c39260c5c0a716b4  30130718  ...       0           0\n",
            "\n",
            "[125 rows x 11 columns]\n"
          ],
          "name": "stdout"
        }
      ]
    },
    {
      "cell_type": "markdown",
      "metadata": {
        "id": "0kC9-YhEXz-Q"
      },
      "source": [
        "# **Taking initial 25% of total books for Model**\n",
        "Using Full dataset   gives memory issue as it requires more than 30 GB ram for model training**"
      ]
    },
    {
      "cell_type": "code",
      "metadata": {
        "id": "8ko0afWd-4tM"
      },
      "source": [
        "goodreads_df=goodreads_df[:550000]"
      ],
      "execution_count": null,
      "outputs": []
    },
    {
      "cell_type": "code",
      "metadata": {
        "id": "4V6Ftuf5-KOU"
      },
      "source": [
        "reader = Reader(rating_scale=(1,5))\n",
        "\n",
        "data = Dataset.load_from_df(goodreads_df[['user_id', 'book_id', 'rating']], reader)\n"
      ],
      "execution_count": null,
      "outputs": []
    },
    {
      "cell_type": "markdown",
      "metadata": {
        "id": "vvx_uKJkciM5"
      },
      "source": [
        "# **Splitting dataset in the ratio of 8:2**"
      ]
    },
    {
      "cell_type": "code",
      "metadata": {
        "id": "1BWN8UAFl94r"
      },
      "source": [
        "#create training set\n",
        "trainingSet, testSet = train_test_split(data, test_size=0.2, train_size=None, random_state=None, shuffle=True)"
      ],
      "execution_count": null,
      "outputs": []
    },
    {
      "cell_type": "markdown",
      "metadata": {
        "id": "s6Wio4ftc1gx"
      },
      "source": [
        "# **Defined Parameters for KNN**"
      ]
    },
    {
      "cell_type": "code",
      "metadata": {
        "id": "4XjTQRdxM45d"
      },
      "source": [
        "#lets configure some parameters for Collaborative Filtering Algorithm\n",
        "sim_options = {\n",
        "    'name': 'cosine', #similarity measure default is MSD\n",
        "    'user_based': False #user-based CF\n",
        "}"
      ],
      "execution_count": null,
      "outputs": []
    },
    {
      "cell_type": "markdown",
      "metadata": {
        "id": "DUqLEbWkcukT"
      },
      "source": [
        "# **Defined Parameters for SVD**"
      ]
    },
    {
      "cell_type": "code",
      "metadata": {
        "id": "aiXzXP1sbiTB"
      },
      "source": [
        "#SVD\n",
        "svd = SVD(n_factors=5, reg_all=0.1, n_epochs=1, biased = True, init_mean= 0, init_std_dev=0.1, lr_all=0.001)"
      ],
      "execution_count": null,
      "outputs": []
    },
    {
      "cell_type": "code",
      "metadata": {
        "id": "4CDcPeZHzDVI"
      },
      "source": [
        "svd.fit(trainingSet) #fit model to the training set\n",
        "predictions_svd = svd.test(testSet) #predict for test set values"
      ],
      "execution_count": null,
      "outputs": []
    },
    {
      "cell_type": "markdown",
      "metadata": {
        "id": "rnI6WjCcc7Pz"
      },
      "source": [
        "# **Cross Validation perfomed on SVD**"
      ]
    },
    {
      "cell_type": "code",
      "metadata": {
        "id": "nAkxkrVsgEiN",
        "colab": {
          "base_uri": "https://localhost:8080/"
        },
        "outputId": "e1ab9dfb-545f-4162-a7f1-46a35be5a8ce"
      },
      "source": [
        "svd_cv = cross_validate(svd, data, cv=10, verbose=True) ##rerun the training part with different parameters"
      ],
      "execution_count": null,
      "outputs": [
        {
          "output_type": "stream",
          "text": [
            "Evaluating RMSE, MAE of algorithm SVD on 10 split(s).\n",
            "\n",
            "                  Fold 1  Fold 2  Fold 3  Fold 4  Fold 5  Fold 6  Fold 7  Fold 8  Fold 9  Fold 10 Mean    Std     \n",
            "RMSE (testset)    1.1357  1.1456  1.1373  1.1401  1.1528  1.1367  1.1462  1.1413  1.1469  1.1442  1.1427  0.0051  \n",
            "MAE (testset)     0.8775  0.8825  0.8781  0.8804  0.8849  0.8779  0.8832  0.8804  0.8825  0.8812  0.8808  0.0023  \n",
            "Fit time          0.81    1.15    1.19    1.21    1.22    1.49    1.18    1.17    1.21    1.25    1.19    0.16    \n",
            "Test time         0.85    0.43    0.44    0.83    0.44    0.43    0.82    0.43    0.53    0.82    0.60    0.19    \n"
          ],
          "name": "stdout"
        }
      ]
    },
    {
      "cell_type": "code",
      "metadata": {
        "id": "DuXbmdSXNYin",
        "colab": {
          "base_uri": "https://localhost:8080/"
        },
        "outputId": "5450b0cc-b248-4d66-ebce-b9b9420e7eb4"
      },
      "source": [
        "#KNN\n",
        "#knn = KNNBasic(sim_options=sim_options,k=3,min_k=1) #neighbours=3, other parameters set as above\n",
        "#knn.fit(trainingSet) #fit model to the training set\n",
        "#predictions_knn = knn.test(testSet) #predict for test set values"
      ],
      "execution_count": null,
      "outputs": [
        {
          "output_type": "stream",
          "text": [
            "Computing the cosine similarity matrix...\n"
          ],
          "name": "stdout"
        }
      ]
    },
    {
      "cell_type": "markdown",
      "metadata": {
        "id": "OkvUslqIdPIm"
      },
      "source": [
        "# **Cross validation performed on k-NN Based Algorithms**"
      ]
    },
    {
      "cell_type": "code",
      "metadata": {
        "id": "FgXsQt4q6NOx"
      },
      "source": [
        "knnbasic_cv = cross_validate(KNNBasic(), data, cv=5, n_jobs=5, verbose=False)\n"
      ],
      "execution_count": null,
      "outputs": []
    },
    {
      "cell_type": "code",
      "metadata": {
        "id": "LmtsTaVk8W4Z"
      },
      "source": [
        "knnmeans_cv = cross_validate(KNNWithMeans(), data, cv=5, n_jobs=5, verbose=False)\n"
      ],
      "execution_count": null,
      "outputs": []
    },
    {
      "cell_type": "code",
      "metadata": {
        "id": "Q0p_uMyt-It5"
      },
      "source": [
        "knnz_cv = cross_validate(KNNWithZScore(), data, cv=5, n_jobs=5, verbose=False)"
      ],
      "execution_count": null,
      "outputs": []
    },
    {
      "cell_type": "markdown",
      "metadata": {
        "id": "tPuc36h7dho8"
      },
      "source": [
        "# **Comparison of all algorithms on RMSE and MAE**"
      ]
    },
    {
      "cell_type": "code",
      "metadata": {
        "id": "jwIrM1QhPH-2",
        "colab": {
          "base_uri": "https://localhost:8080/"
        },
        "outputId": "b4a5cc4c-30eb-4b50-ea48-7ab7d522f49b"
      },
      "source": [
        "print('Algorithm\\t RMSE\\t\\t MAE')\n",
        "print()\n",
        "print('KNN Basic', '\\t', round(knnbasic_cv['test_rmse'].mean(), 4), '\\t', round(knnbasic_cv['test_mae'].mean(), 4))\n",
        "print('KNN Means', '\\t', round(knnmeans_cv['test_rmse'].mean(), 4), '\\t', round(knnmeans_cv['test_mae'].mean(), 4))\n",
        "print('KNN ZScore', '\\t', round(knnz_cv['test_rmse'].mean(), 4), '\\t', round(knnz_cv['test_mae'].mean(), 4))\n",
        "print()\n",
        "print('SVD', '\\t\\t', round(svd_cv['test_rmse'].mean(), 4), '\\t', round(svd_cv['test_mae'].mean(), 4))\n",
        "print()"
      ],
      "execution_count": null,
      "outputs": [
        {
          "output_type": "stream",
          "text": [
            "Algorithm\t RMSE\t\t MAE\n",
            "\n",
            "KNN Basic \t 1.2634 \t 0.9374\n",
            "KNN Means \t 1.1561 \t 0.8567\n",
            "KNN ZScore \t 1.1547 \t 0.8493\n",
            "\n",
            "SVD \t\t 1.1427 \t 0.8809\n",
            "\n"
          ],
          "name": "stdout"
        }
      ]
    },
    {
      "cell_type": "markdown",
      "metadata": {
        "id": "DUKeeKXld0KO"
      },
      "source": [
        "# **Visualization of Evaluation Metric**"
      ]
    },
    {
      "cell_type": "code",
      "metadata": {
        "id": "Tryn2GEAHHrr",
        "colab": {
          "base_uri": "https://localhost:8080/",
          "height": 357
        },
        "outputId": "1853c92f-910a-42d9-8106-d7f75e8f10e6"
      },
      "source": [
        "x_algo = ['KNN Basic', 'KNN Means', 'KNN ZScore', 'SVD']\n",
        "all_algos_cv = [knnbasic_cv, knnmeans_cv, knnz_cv, svd_cv]\n",
        "\n",
        "rmse_cv = [round(res['test_rmse'].mean(), 4) for res in all_algos_cv]\n",
        "mae_cv = [round(res['test_mae'].mean(), 4) for res in all_algos_cv]\n",
        "\n",
        "plt.figure(figsize=(20,5))\n",
        "\n",
        "plt.subplot(1, 2, 1)\n",
        "plt.title('Comparison of Algorithms on RMSE', loc='center', fontsize=15)\n",
        "plt.plot(x_algo, rmse_cv, label='RMSE', color='darkgreen', marker='o')\n",
        "plt.xlabel('Algorithms', fontsize=15)\n",
        "plt.ylabel('RMSE Value', fontsize=15)\n",
        "plt.legend()\n",
        "plt.grid(ls='dashed')\n",
        "\n",
        "plt.subplot(1, 2, 2)\n",
        "plt.title('Comparison of Algorithms on MAE', loc='center', fontsize=15)\n",
        "plt.plot(x_algo, mae_cv, label='MAE', color='navy', marker='o')\n",
        "plt.xlabel('Algorithms', fontsize=15)\n",
        "plt.ylabel('MAE Value', fontsize=15)\n",
        "plt.legend()\n",
        "plt.grid(ls='dashed')\n",
        "\n",
        "plt.show()\n"
      ],
      "execution_count": null,
      "outputs": [
        {
          "output_type": "display_data",
          "data": {
            "image/png": "[encoded data removed]",
            "text/plain": [
              "<Figure size 1440x360 with 2 Axes>"
            ]
          },
          "metadata": {
            "tags": [],
            "needs_background": "light"
          }
        }
      ]
    },
    {
      "cell_type": "markdown",
      "metadata": {
        "id": "c9zYqcr2bfkg"
      },
      "source": [
        "# **Using GridserachSV to get best parameter for SVD**"
      ]
    },
    {
      "cell_type": "code",
      "metadata": {
        "id": "ofQetVHeVGK3"
      },
      "source": [
        "# Parameter space\n",
        "svd_param_grid = {'n_epochs': [1, 5], \n",
        "                  'lr_all': [0.007, 0.009, 0.01],\n",
        "                  'reg_all': [0.4, 0.6]}\n",
        "\n",
        "\n",
        "svd_gs = GridSearchCV(SVD, svd_param_grid, measures=['rmse', 'mae'], cv=5, n_jobs=5)\n",
        "svd_gs.fit(data)\n"
      ],
      "execution_count": null,
      "outputs": []
    },
    {
      "cell_type": "markdown",
      "metadata": {
        "id": "sO_JPcNFbYir"
      },
      "source": [
        "# **Best parameters for SVD**"
      ]
    },
    {
      "cell_type": "code",
      "metadata": {
        "id": "sZ2Q9qVbbwx6",
        "colab": {
          "base_uri": "https://localhost:8080/"
        },
        "outputId": "cccc590f-1ba9-4c7d-b67c-066cbf0b3547"
      },
      "source": [
        "print('RMSE =', svd_gs.best_params['rmse'])\n",
        "print('MAE =', svd_gs.best_params['mae'])"
      ],
      "execution_count": null,
      "outputs": [
        {
          "output_type": "stream",
          "text": [
            "RMSE = {'n_epochs': 5, 'lr_all': 0.01, 'reg_all': 0.4}\n",
            "MAE = {'n_epochs': 5, 'lr_all': 0.01, 'reg_all': 0.4}\n"
          ],
          "name": "stdout"
        }
      ]
    },
    {
      "cell_type": "code",
      "metadata": {
        "id": "3ixHX0KkVUtT",
        "colab": {
          "base_uri": "https://localhost:8080/"
        },
        "outputId": "8ef3b409-4259-46d7-8ee8-c433849e3354"
      },
      "source": [
        "print('SVD   - RMSE:', round(svd_gs.best_score['rmse'], 4), '; MAE:', round(svd_gs.best_score['mae'], 4))"
      ],
      "execution_count": null,
      "outputs": [
        {
          "output_type": "stream",
          "text": [
            "SVD   - RMSE: 1.0614 ; MAE: 0.8046\n"
          ],
          "name": "stdout"
        }
      ]
    },
    {
      "cell_type": "markdown",
      "metadata": {
        "id": "jeE1rLp3b8Xb"
      },
      "source": [
        "# **Change parameters on KNN using GridSearchCV**"
      ]
    },
    {
      "cell_type": "code",
      "metadata": {
        "id": "7HOCgaxOb7aV"
      },
      "source": [
        "param_grid = {'k': [15, 20, 25, 30, 40, 50, 60]}\n",
        "\n",
        "knnbasic_gs = GridSearchCV(KNNBasic, param_grid, measures=['rmse', 'mae'], cv=5, n_jobs=5)\n",
        "knnbasic_gs.fit(data)"
      ],
      "execution_count": null,
      "outputs": []
    },
    {
      "cell_type": "code",
      "metadata": {
        "id": "DHwXmtlld9Qm"
      },
      "source": [
        "knnmeans_gs = GridSearchCV(KNNWithMeans, param_grid, measures=['rmse', 'mae'], cv=5, n_jobs=5)\n",
        "knnmeans_gs.fit(data)"
      ],
      "execution_count": null,
      "outputs": []
    },
    {
      "cell_type": "code",
      "metadata": {
        "id": "wqOHqFgYeTH1"
      },
      "source": [
        "knnz_gs = GridSearchCV(KNNWithZScore, param_grid, measures=['rmse', 'mae'], cv=5, n_jobs=5)\n",
        "knnz_gs.fit(data)"
      ],
      "execution_count": null,
      "outputs": []
    },
    {
      "cell_type": "code",
      "metadata": {
        "id": "HBHumsyBeah5"
      },
      "source": [
        "x = [15, 20, 25, 30, 40, 50, 60]\n",
        "y1 = knnbasic_gs.cv_results['mean_test_rmse']\n",
        "y2 = knnbasic_gs.cv_results['mean_test_mae']\n",
        "\n",
        "y3 = knnmeans_gs.cv_results['mean_test_rmse']\n",
        "y4 = knnmeans_gs.cv_results['mean_test_mae']\n",
        "\n",
        "y5 = knnz_gs.cv_results['mean_test_rmse']\n",
        "y6 = knnz_gs.cv_results['mean_test_mae']"
      ],
      "execution_count": null,
      "outputs": []
    },
    {
      "cell_type": "code",
      "metadata": {
        "id": "VOPvk6PIeh8-",
        "colab": {
          "base_uri": "https://localhost:8080/",
          "height": 357
        },
        "outputId": "8ad5a2cd-f123-4316-f1cb-27802e8d77db"
      },
      "source": [
        "plt.figure(figsize=(18,5))\n",
        "\n",
        "plt.subplot(1, 2, 1)\n",
        "plt.title('K Neighbors vs RMSE', loc='center', fontsize=15)\n",
        "plt.plot(x, y1, label='KNNBasic', color='lightcoral', marker='o')\n",
        "plt.plot(x, y5, label='KNNWithZScore', color='indianred', marker='o')\n",
        "plt.plot(x, y3, label='KNNWithMeans', color='darkred', marker='o')\n",
        "plt.xlabel('K Neighbor', fontsize=15)\n",
        "plt.ylabel('RMSE Value', fontsize=15)\n",
        "plt.legend()\n",
        "plt.grid(ls='dotted')\n",
        "\n",
        "plt.subplot(1, 2, 2)\n",
        "plt.title('K Neighbors vs MAE', loc='center', fontsize=15)\n",
        "plt.plot(x, y2, label='KNNBasic', color='lightcoral', marker='o')\n",
        "plt.plot(x, y4, label='KNNWithMeans', color='indianred', marker='o')\n",
        "plt.plot(x, y6, label='KNNWithZScore', color='darkred', marker='o')\n",
        "plt.xlabel('K Neighbor', fontsize=15)\n",
        "plt.ylabel('MAE Value', fontsize=15)\n",
        "plt.legend()\n",
        "plt.grid(ls='dotted')\n",
        "\n",
        "plt.show()"
      ],
      "execution_count": null,
      "outputs": [
        {
          "output_type": "display_data",
          "data": {
            "image/png": "[encoded data removed]",
            "text/plain": [
              "<Figure size 1296x360 with 2 Axes>"
            ]
          },
          "metadata": {
            "tags": [],
            "needs_background": "light"
          }
        }
      ]
    }
  ]
}