{
  "nbformat": 4,
  "nbformat_minor": 0,
  "metadata": {
    "colab": {
      "name": "CE 256 Project - Amazon Book Recommendations Using Amazon and Goodreads Reviews",
      "provenance": [],
      "collapsed_sections": []
    },
    "kernelspec": {
      "name": "python3",
      "display_name": "Python 3"
    }
  },
  "cells": [
    {
      "cell_type": "markdown",
      "metadata": {
        "id": "VokDH1xNM0Io"
      },
      "source": [
        "- Loading 4 million Amazon about 4.51 GB RAM\n",
        "- Loading 4 million Amazon + 4 million Goodreads about 8.39 GB RAM (sometimes 10 GB?)\n",
        "- Creating 8 million combined DF with ASIN, Goodreads book ID, user_id, review_text, rating, isAmazon about 19.77 GB RAM\n",
        "- Loading 8 million combined DF aboout 7.09 GB RAM"
      ]
    },
    {
      "cell_type": "markdown",
      "metadata": {
        "id": "tSVms2a5iHP-"
      },
      "source": [
        "Notes\n",
        "- Load entire Amazon and Goodreads review datasets through batching.\n",
        "    - Save first 4 million, next 4 million etc. as separate CSVs in Google Drive, then\n",
        "    load these CSVs as DataFrames and combine the DataFrames into one DF.\n",
        "    Finally save the DF as a CSV in Drive to make loading time faster.\n",
        "- Combine Amazon and Goodreads DFs into one dataset. Save as CSV in Drive to make loading time faster. \n",
        "Use ISBN and extra Kaggle dataset.\n",
        "- Split combined dataset DF into train and test. \n",
        "Test should only be reviews from Amazon since want to recommend to Amazon users.\n",
        "- Do ex. item-based CF using ratings, ex. 5 stars, to recommend books. Use\n",
        "  as baseline result.\n",
        "    - Display title and authors of final list of recommended books.\n",
        "- Advanced algorithms, ex. sentiment analysis, ex. find similar users based on text reviews, to improve results."
      ]
    },
    {
      "cell_type": "code",
      "metadata": {
        "id": "f5NDXrN2CtH7"
      },
      "source": [
        "import os\n",
        "import json\n",
        "import gzip\n",
        "import pandas as pd\n",
        "from urllib.request import urlopen\n",
        "\n",
        "import numpy as np"
      ],
      "execution_count": null,
      "outputs": []
    },
    {
      "cell_type": "code",
      "metadata": {
        "id": "0iHUxaQ4YcZu",
        "outputId": "948d9063-7bd6-46f6-ee40-b02a8e1487f7",
        "colab": {
          "base_uri": "https://localhost:8080/"
        }
      },
      "source": [
        "# install to use Goodreads API\n",
        "!pip install goodreads_api_client"
      ],
      "execution_count": null,
      "outputs": [
        {
          "output_type": "stream",
          "text": [
            "Collecting goodreads_api_client\n",
            "  Downloading https://files.pythonhosted.org/packages/1f/03/c7c9e027761d382a92c0cb4acf3bf1650ac2e844fd55851e08ccf950687a/goodreads_api_client-0.1.0.dev4-py2.py3-none-any.whl\n",
            "Collecting xmltodict==0.11.0\n",
            "  Downloading https://files.pythonhosted.org/packages/42/a9/7e99652c6bc619d19d58cdd8c47560730eb5825d43a7e25db2e1d776ceb7/xmltodict-0.11.0-py2.py3-none-any.whl\n",
            "Collecting rauth==0.7.3\n",
            "  Downloading https://files.pythonhosted.org/packages/43/aa/7c8e852275394d65ac5bf3ac9945ecaafe4d083089e09cb0a267efea389a/rauth-0.7.3.tar.gz\n",
            "Collecting requests==2.18.3\n",
            "\u001b[?25l  Downloading https://files.pythonhosted.org/packages/ba/92/c35ed010e8f96781f08dfa6d9a6a19445a175a9304aceedece77cd48b68f/requests-2.18.3-py2.py3-none-any.whl (88kB)\n",
            "\u001b[K     |████████████████████████████████| 92kB 4.6MB/s \n",
            "\u001b[?25hRequirement already satisfied: chardet<3.1.0,>=3.0.2 in /usr/local/lib/python3.6/dist-packages (from requests==2.18.3->goodreads_api_client) (3.0.4)\n",
            "Requirement already satisfied: certifi>=2017.4.17 in /usr/local/lib/python3.6/dist-packages (from requests==2.18.3->goodreads_api_client) (2020.6.20)\n",
            "Collecting idna<2.6,>=2.5\n",
            "\u001b[?25l  Downloading https://files.pythonhosted.org/packages/11/7d/9bbbd7bb35f34b0169542487d2a8859e44306bb2e6a4455d491800a5621f/idna-2.5-py2.py3-none-any.whl (55kB)\n",
            "\u001b[K     |████████████████████████████████| 61kB 6.3MB/s \n",
            "\u001b[?25hCollecting urllib3<1.23,>=1.21.1\n",
            "\u001b[?25l  Downloading https://files.pythonhosted.org/packages/63/cb/6965947c13a94236f6d4b8223e21beb4d576dc72e8130bd7880f600839b8/urllib3-1.22-py2.py3-none-any.whl (132kB)\n",
            "\u001b[K     |████████████████████████████████| 133kB 12.9MB/s \n",
            "\u001b[?25hBuilding wheels for collected packages: rauth\n",
            "  Building wheel for rauth (setup.py) ... \u001b[?25l\u001b[?25hdone\n",
            "  Created wheel for rauth: filename=rauth-0.7.3-cp36-none-any.whl size=16055 sha256=59d6e444c40c96c8751b1b0bac822bd96fe128f974ccb69ebfb32faefc472e68\n",
            "  Stored in directory: /root/.cache/pip/wheels/7b/94/5d/81afc278dd5da884a0002563dc4b0fe85f9067a5a40f76f858\n",
            "Successfully built rauth\n",
            "\u001b[31mERROR: tensorflow-datasets 4.0.1 has requirement requests>=2.19.0, but you'll have requests 2.18.3 which is incompatible.\u001b[0m\n",
            "\u001b[31mERROR: tensorboard 2.3.0 has requirement requests<3,>=2.21.0, but you'll have requests 2.18.3 which is incompatible.\u001b[0m\n",
            "\u001b[31mERROR: pandas-datareader 0.9.0 has requirement requests>=2.19.0, but you'll have requests 2.18.3 which is incompatible.\u001b[0m\n",
            "\u001b[31mERROR: google-colab 1.0.0 has requirement requests~=2.23.0, but you'll have requests 2.18.3 which is incompatible.\u001b[0m\n",
            "\u001b[31mERROR: datascience 0.10.6 has requirement folium==0.2.1, but you'll have folium 0.8.3 which is incompatible.\u001b[0m\n",
            "Installing collected packages: xmltodict, idna, urllib3, requests, rauth, goodreads-api-client\n",
            "  Found existing installation: idna 2.10\n",
            "    Uninstalling idna-2.10:\n",
            "      Successfully uninstalled idna-2.10\n",
            "  Found existing installation: urllib3 1.24.3\n",
            "    Uninstalling urllib3-1.24.3:\n",
            "      Successfully uninstalled urllib3-1.24.3\n",
            "  Found existing installation: requests 2.23.0\n",
            "    Uninstalling requests-2.23.0:\n",
            "      Successfully uninstalled requests-2.23.0\n",
            "Successfully installed goodreads-api-client-0.1.0.dev4 idna-2.5 rauth-0.7.3 requests-2.18.3 urllib3-1.22 xmltodict-0.11.0\n"
          ],
          "name": "stdout"
        }
      ]
    },
    {
      "cell_type": "code",
      "metadata": {
        "id": "4UctXIm51vSL",
        "outputId": "7c3ce186-c8a5-4a79-d0b9-7096b410525b",
        "colab": {
          "base_uri": "https://localhost:8080/"
        }
      },
      "source": [
        "from google.colab import drive\n",
        "drive.mount('/content/drive')"
      ],
      "execution_count": null,
      "outputs": [
        {
          "output_type": "stream",
          "text": [
            "Drive already mounted at /content/drive; to attempt to forcibly remount, call drive.mount(\"/content/drive\", force_remount=True).\n"
          ],
          "name": "stdout"
        }
      ]
    },
    {
      "cell_type": "code",
      "metadata": {
        "id": "c8IvkzdVYsZl"
      },
      "source": [
        "import goodreads_api_client as gr"
      ],
      "execution_count": null,
      "outputs": []
    },
    {
      "cell_type": "markdown",
      "metadata": {
        "id": "fCZRwOf5lYkE"
      },
      "source": [
        "Goodreads API Client is a Python wrapper around the Goodreads API.\n",
        "\n",
        "https://pypi.org/project/goodreads-api-client/"
      ]
    },
    {
      "cell_type": "code",
      "metadata": {
        "id": "f652oAKrlVic"
      },
      "source": [
        "  # Set client API key\n",
        "  api_key = 'afbTRMOw7ZbCHlQS4kDRQ'\n",
        "  client = gr.Client(developer_key=api_key)"
      ],
      "execution_count": null,
      "outputs": []
    },
    {
      "cell_type": "markdown",
      "metadata": {
        "id": "2NY3czJM1qYw"
      },
      "source": [
        "# **Preprocessing**"
      ]
    },
    {
      "cell_type": "markdown",
      "metadata": {
        "id": "YJDLhVtO6SB6"
      },
      "source": [
        "**Preprocessing** - Amazon\n",
        "\n",
        "Amazon dataset: https://nijianmo.github.io/amazon/index.html"
      ]
    },
    {
      "cell_type": "markdown",
      "metadata": {
        "id": "2tqNgR9_eWeY"
      },
      "source": [
        "First, get the Amazon dataset `Books_5.json.gz`, either by running `wget `or using the existing file in Google Drive.\n",
        "\n",
        "Currently using file in Google Drive."
      ]
    },
    {
      "cell_type": "code",
      "metadata": {
        "id": "feWoOrmt4Tja"
      },
      "source": [
        "# Already done, commented out\n",
        "# Download the Amazon 5-core Books review subset\n",
        "# Note: The dataset is 6.61 GB and will take a long time to load (> 5 minutes).\n",
        "# !wget http://deepyeti.ucsd.edu/jianmo/amazon/categoryFilesSmall/Books_5.json.gz"
      ],
      "execution_count": null,
      "outputs": []
    },
    {
      "cell_type": "code",
      "metadata": {
        "id": "twAQyMc2CzaL",
        "outputId": "e2585e30-ec9f-4c36-e13e-6555dc2450d7",
        "colab": {
          "base_uri": "https://localhost:8080/"
        }
      },
      "source": [
        "# mount to Google Drive\n",
        "from google.colab import drive\n",
        "drive.mount('/content/drive')"
      ],
      "execution_count": null,
      "outputs": [
        {
          "output_type": "stream",
          "text": [
            "Drive already mounted at /content/drive; to attempt to forcibly remount, call drive.mount(\"/content/drive\", force_remount=True).\n"
          ],
          "name": "stdout"
        }
      ]
    },
    {
      "cell_type": "code",
      "metadata": {
        "id": "o0Ubyi0xHaUP",
        "outputId": "b028d21f-0e05-482c-f87d-dacdf4ef1de0",
        "colab": {
          "base_uri": "https://localhost:8080/"
        }
      },
      "source": [
        "# go to folder containing Books_5.json.gz\n",
        "%cd \"/content/drive/My Drive/data/ce256/project\""
      ],
      "execution_count": null,
      "outputs": [
        {
          "output_type": "stream",
          "text": [
            "/content/drive/.shortcut-targets-by-id/1HAaJ2jKojgPKa8wfJoWiFU_cYq8hnytg/project\n"
          ],
          "name": "stdout"
        }
      ]
    },
    {
      "cell_type": "markdown",
      "metadata": {
        "id": "WzsOnQMiTlY6"
      },
      "source": [
        "We can get a Pandas DataFrame from the dataset. Google Colab has limited RAM and will crash if the entire dataset is loaded, so the DataFrame can contain the first 8 million reviews from the dataset."
      ]
    },
    {
      "cell_type": "markdown",
      "metadata": {
        "id": "PiwmnqP2l1i8"
      },
      "source": [
        "The DataFrame is combined from separate DataFrames. One has the first 4 million reviews, the other has the next 4 million.\n",
        "\n",
        "Get the separate DFs by loading the data to a list and converting the list to a DF. \n",
        "\n",
        "Then combine the DFs together. The resulting DataFrame is already saved as a CSV in Google Drive.\n",
        "\n",
        "Currently using the CSV in Google Drive."
      ]
    },
    {
      "cell_type": "markdown",
      "metadata": {
        "id": "gIO4nWyZ1lbJ"
      },
      "source": [
        "Load the metadata as JSON and DataFrame.\n",
        "\n",
        "From colab notebook: https://colab.research.google.com/drive/1Zv6MARGQcrBbLHyjPVVMZVnRWsRnVMpV\n"
      ]
    },
    {
      "cell_type": "code",
      "metadata": {
        "id": "7igYuRaV4bF7",
        "outputId": "ef78d408-0912-4cd3-ad2d-093355ae2c78",
        "colab": {
          "base_uri": "https://localhost:8080/",
          "height": 191
        }
      },
      "source": [
        "# Already done, commented out\n",
        "'''\n",
        "### load the meta data\n",
        "\n",
        "# NOTE: This step takes a very long time (> 10 minutes).\n",
        "# If trying to load all the data,\n",
        "# Google Colab will crash with a \"using all available RAM\" error.\n",
        "data = []\n",
        "# Get the first 4 million reviews\n",
        "# 0\n",
        "# 4000000\n",
        "# Get the next 4 - 8 million reviews\n",
        "# start_review_index = 4000000\n",
        "# max_reviews = 8000000\n",
        "# Get the next 8 - 12 million reviews\n",
        "# start_review_index = 8000000\n",
        "# max_reviews = 12000000\n",
        "# Get the next 12 - 16 million reviews\n",
        "# start_review_index = 12000000\n",
        "# max_reviews = 16000000\n",
        "# Get the next 16 - 20 million reviews\n",
        "# start_review_index = 16000000\n",
        "# max_reviews = 20000000\n",
        "# Get the next 20 - 24 million reviews\n",
        "# Index of first review\n",
        "# start_review_index = 20000000\n",
        "# Index of last review + 1\n",
        "# max_reviews = 24000000\n",
        "# Get the next 24 million reviews and up\n",
        "# Index of first review\n",
        "start_review_index = 24000000\n",
        "# no max_reviews because getting all other reviews including last review\n",
        "f = gzip.open('Books_5.json.gz')\n",
        "for index, line in enumerate(f):\n",
        "    # if (index >= start_review_index and index < max_reviews):\n",
        "    if (index >= start_review_index):\n",
        "      # Each JSON line in the file is a review.\n",
        "      # Convert line of JSON in file to Python dictionary, then append to data list\n",
        "      review = json.loads(line.strip())\n",
        "      data.append(review)\n",
        "f.close()\n",
        "    \n",
        "# total length of list, this number equals total number of products\n",
        "print(len(data))\n",
        "\n",
        "# first row of the list\n",
        "print(data[0])\n",
        "'''"
      ],
      "execution_count": null,
      "outputs": [
        {
          "output_type": "execute_result",
          "data": {
            "application/vnd.google.colaboratory.intrinsic+json": {
              "type": "string"
            },
            "text/plain": [
              "'\\n### load the meta data\\n\\n# NOTE: This step takes a very long time (> 10 minutes).\\n# If trying to load all the data,\\n# Google Colab will crash with a \"using all available RAM\" error.\\ndata = []\\n# Get the first 4 million reviews\\n# 0\\n# 4000000\\n# Get the next 4 - 8 million reviews\\n# start_review_index = 4000000\\n# max_reviews = 8000000\\n# Get the next 8 - 12 million reviews\\n# start_review_index = 8000000\\n# max_reviews = 12000000\\n# Get the next 12 - 16 million reviews\\n# start_review_index = 12000000\\n# max_reviews = 16000000\\n# Get the next 16 - 20 million reviews\\n# start_review_index = 16000000\\n# max_reviews = 20000000\\n# Get the next 20 - 24 million reviews\\n# Index of first review\\n# start_review_index = 20000000\\n# Index of last review + 1\\n# max_reviews = 24000000\\n# Get the next 24 million reviews and up\\n# Index of first review\\nstart_review_index = 24000000\\n# no max_reviews because getting all other reviews including last review\\nf = gzip.open(\\'Books_5.json.gz\\')\\nfor index, line in enumerate(f):\\n    # if (index >= start_review_index and index < max_reviews):\\n    if (index >= start_review_index):\\n      # Each JSON line in the file is a review.\\n      # Convert line of JSON in file to Python dictionary, then append to data list\\n      review = json.loads(line.strip())\\n      data.append(review)\\nf.close()\\n    \\n# total length of list, this number equals total number of products\\nprint(len(data))\\n\\n# first row of the list\\nprint(data[0])\\n'"
            ]
          },
          "metadata": {
            "tags": []
          },
          "execution_count": 8
        }
      ]
    },
    {
      "cell_type": "code",
      "metadata": {
        "id": "knpHP22w4scK",
        "outputId": "fa945564-af03-45bb-abbb-afb9a4a9d6bf",
        "colab": {
          "base_uri": "https://localhost:8080/",
          "height": 35
        }
      },
      "source": [
        "# Already done, commented out\n",
        "'''\n",
        "# convert list into pandas dataframe\n",
        "df = pd.DataFrame.from_dict(data)\n",
        "\n",
        "print(len(df))\n",
        "'''"
      ],
      "execution_count": null,
      "outputs": [
        {
          "output_type": "execute_result",
          "data": {
            "application/vnd.google.colaboratory.intrinsic+json": {
              "type": "string"
            },
            "text/plain": [
              "'\\n# convert list into pandas dataframe\\ndf = pd.DataFrame.from_dict(data)\\n\\nprint(len(df))\\n'"
            ]
          },
          "metadata": {
            "tags": []
          },
          "execution_count": 9
        }
      ]
    },
    {
      "cell_type": "code",
      "metadata": {
        "id": "6LBLzsFU5LJ_",
        "outputId": "6a261e73-fcb9-44b7-ac1b-ce6767198bb2",
        "colab": {
          "base_uri": "https://localhost:8080/"
        }
      },
      "source": [
        "# Already done, commented out\n",
        "\n",
        "# Save the first 4 million reviews in amazon_reviews_1.csv\n",
        "# df.to_csv(\"amazon_reviews_1\", index=False)\n",
        "# Save the next 4 - 8 million reviews in amazon_reviews_2.csv\n",
        "# df.to_csv(\"amazon_reviews_2\", index=False)\n",
        "# Save the next 8 - 12 million reviews in amazon_reviews_3.csv\n",
        "# df.to_csv(\"amazon_reviews_3\", index=False)\n",
        "# Save the next 12 - 16 million reviews in amazon_reviews_4.csv\n",
        "# df.to_csv(\"amazon_reviews_4\", index=False)\n",
        "# Save the next 16 - 20 million reviews in amazon_reviews_5.csv\n",
        "# df.to_csv(\"amazon_reviews_5\", index=False)\n",
        "# Save the next 20 - 24 million reviews in amazon_reviews_6.csv\n",
        "# df.to_csv(\"amazon_reviews_6\", index=False)\n",
        "# Save the next 24 million reviews and up in amazon_reviews_7.csv\n",
        "# df.to_csv(\"amazon_reviews_7\", index=False)\n",
        "print(\"Finished saving.\")"
      ],
      "execution_count": null,
      "outputs": [
        {
          "output_type": "stream",
          "text": [
            "Finished saving.\n"
          ],
          "name": "stdout"
        }
      ]
    },
    {
      "cell_type": "markdown",
      "metadata": {
        "id": "EEMy47-ZmROm"
      },
      "source": [
        "Combine the DataFrames containing parts of the Amazon dataset into a combined DataFrame, then save that as a CSV.\n",
        "\n",
        "Link: https://www.datacamp.com/community/tutorials/joining-dataframes-pandas"
      ]
    },
    {
      "cell_type": "code",
      "metadata": {
        "id": "LIbkc-Xspcgq",
        "outputId": "bc88b3f3-7e94-4cea-f20f-c39d59729024",
        "colab": {
          "base_uri": "https://localhost:8080/",
          "height": 53
        }
      },
      "source": [
        "# Already done, commented out\n",
        "'''\n",
        "# Go to folder containing amazon_reviews.csv\n",
        "%cd \"/content/drive/My Drive/data/ce256/project\"\n",
        "amazon_0_to_4mill_df = pd.read_csv('amazon_reviews_1')\n",
        "amazon_4mill_to_8mill_df = pd.read_csv('amazon_reviews_2')\n",
        "'''"
      ],
      "execution_count": null,
      "outputs": [
        {
          "output_type": "execute_result",
          "data": {
            "application/vnd.google.colaboratory.intrinsic+json": {
              "type": "string"
            },
            "text/plain": [
              "'\\n# Go to folder containing amazon_reviews.csv\\n%cd \"/content/drive/My Drive/data/ce256/project\"\\namazon_0_to_4mill_df = pd.read_csv(\\'amazon_reviews_1\\')\\namazon_4mill_to_8mill_df = pd.read_csv(\\'amazon_reviews_2\\')\\n'"
            ]
          },
          "metadata": {
            "tags": []
          },
          "execution_count": 11
        }
      ]
    },
    {
      "cell_type": "code",
      "metadata": {
        "id": "JEt0svQIdPrB",
        "outputId": "8ea34a28-db36-4eea-981b-412fc6dce6bd",
        "colab": {
          "base_uri": "https://localhost:8080/",
          "height": 70
        }
      },
      "source": [
        "# Already done, commented out\n",
        "'''\n",
        "# Concatenate the first 8 million review dfs into a combined df. Ignore the index of the separate dfs.\n",
        "frames = [amazon_0_to_4mill_df, amazon_4mill_to_8mill_df]\n",
        "combined_amazon_0_to_8mill_df = pd.concat(frames, ignore_index=True)\n",
        "'''"
      ],
      "execution_count": null,
      "outputs": [
        {
          "output_type": "execute_result",
          "data": {
            "application/vnd.google.colaboratory.intrinsic+json": {
              "type": "string"
            },
            "text/plain": [
              "'\\n# Concatenate the first 8 million review dfs into a combined df. Ignore the index of the separate dfs.\\nframes = [amazon_0_to_4mill_df, amazon_4mill_to_8mill_df]\\ncombined_amazon_0_to_8mill_df = pd.concat(frames, ignore_index=True)\\n'"
            ]
          },
          "metadata": {
            "tags": []
          },
          "execution_count": 12
        }
      ]
    },
    {
      "cell_type": "code",
      "metadata": {
        "id": "IR4p2RvDep6d",
        "outputId": "971ce3a2-280b-4e6b-d50e-ebd255b8b181",
        "colab": {
          "base_uri": "https://localhost:8080/",
          "height": 53
        }
      },
      "source": [
        "# Already done, commented out\n",
        "'''\n",
        "# Save the combined dataframe as a CSV\n",
        "# combined_amazon_0_to_8mill_df.to_csv(\"combined_amazon_reviews_0_to_8mill.csv\", index=False)\n",
        "print(\"Finished saving.\")\n",
        "'''"
      ],
      "execution_count": null,
      "outputs": [
        {
          "output_type": "execute_result",
          "data": {
            "application/vnd.google.colaboratory.intrinsic+json": {
              "type": "string"
            },
            "text/plain": [
              "'\\n# Save the combined dataframe as a CSV\\n# combined_amazon_0_to_8mill_df.to_csv(\"combined_amazon_reviews_0_to_8mill.csv\", index=False)\\nprint(\"Finished saving.\")\\n'"
            ]
          },
          "metadata": {
            "tags": []
          },
          "execution_count": 13
        }
      ]
    },
    {
      "cell_type": "markdown",
      "metadata": {
        "id": "zr-1YtGiLgRH"
      },
      "source": [
        "Finished combining the DataFrames containing parts of the Amazon dataset into a combined DataFrame.\n",
        "\n",
        "Can now use the DataFrame or get it from the CSV."
      ]
    },
    {
      "cell_type": "code",
      "metadata": {
        "id": "5f_Mkrn3dBfP",
        "outputId": "82aab336-7b2d-4cef-f8d8-048c2ec2d04c",
        "colab": {
          "base_uri": "https://localhost:8080/"
        }
      },
      "source": [
        "# mount to Google Drive\n",
        "from google.colab import drive\n",
        "drive.mount('/content/drive')"
      ],
      "execution_count": null,
      "outputs": [
        {
          "output_type": "stream",
          "text": [
            "Drive already mounted at /content/drive; to attempt to forcibly remount, call drive.mount(\"/content/drive\", force_remount=True).\n"
          ],
          "name": "stdout"
        }
      ]
    },
    {
      "cell_type": "code",
      "metadata": {
        "id": "xGcQBhPzgvdI",
        "outputId": "ef336338-534c-4ac4-851f-6f03431dde35",
        "colab": {
          "base_uri": "https://localhost:8080/",
          "height": 465
        }
      },
      "source": [
        "# Get the dataframe from CSV named combined_amazon_reviews_0_to_8mill.csv in Google Drive\n",
        "\n",
        "# Go to folder containing CSV\n",
        "%cd \"/content/drive/My Drive/data/ce256/project\"\n",
        "# amazon_df = pd.read_csv('combined_amazon_reviews_0_to_8mill.csv')\n",
        "# load first 4 million reviews\n",
        "amazon_df = pd.read_csv(\"amazon_reviews_1\")\n",
        "\n",
        "# Check the CSV in Google Drive has the correct data\n",
        "amazon_df.head()"
      ],
      "execution_count": null,
      "outputs": [
        {
          "output_type": "stream",
          "text": [
            "/content/drive/My Drive/data/ce256/project\n"
          ],
          "name": "stdout"
        },
        {
          "output_type": "stream",
          "text": [
            "/usr/local/lib/python3.6/dist-packages/IPython/core/interactiveshell.py:2718: DtypeWarning: Columns (10,11) have mixed types.Specify dtype option on import or set low_memory=False.\n",
            "  interactivity=interactivity, compiler=compiler, result=result)\n"
          ],
          "name": "stderr"
        },
        {
          "output_type": "execute_result",
          "data": {
            "text/html": [
              "<div>\n",
              "<style scoped>\n",
              "    .dataframe tbody tr th:only-of-type {\n",
              "        vertical-align: middle;\n",
              "    }\n",
              "\n",
              "    .dataframe tbody tr th {\n",
              "        vertical-align: top;\n",
              "    }\n",
              "\n",
              "    .dataframe thead th {\n",
              "        text-align: right;\n",
              "    }\n",
              "</style>\n",
              "<table border=\"1\" class=\"dataframe\">\n",
              "  <thead>\n",
              "    <tr style=\"text-align: right;\">\n",
              "      <th></th>\n",
              "      <th>overall</th>\n",
              "      <th>verified</th>\n",
              "      <th>reviewTime</th>\n",
              "      <th>reviewerID</th>\n",
              "      <th>asin</th>\n",
              "      <th>style</th>\n",
              "      <th>reviewerName</th>\n",
              "      <th>reviewText</th>\n",
              "      <th>summary</th>\n",
              "      <th>unixReviewTime</th>\n",
              "      <th>vote</th>\n",
              "      <th>image</th>\n",
              "    </tr>\n",
              "  </thead>\n",
              "  <tbody>\n",
              "    <tr>\n",
              "      <th>0</th>\n",
              "      <td>5.0</td>\n",
              "      <td>False</td>\n",
              "      <td>03 30, 2005</td>\n",
              "      <td>A1REUF3A1YCPHM</td>\n",
              "      <td>0001713353</td>\n",
              "      <td>{'Format:': ' Hardcover'}</td>\n",
              "      <td>TW Ervin II</td>\n",
              "      <td>The King, the Mice and the Cheese by Nancy Gur...</td>\n",
              "      <td>A story children will love and learn from</td>\n",
              "      <td>1112140800</td>\n",
              "      <td>NaN</td>\n",
              "      <td>NaN</td>\n",
              "    </tr>\n",
              "    <tr>\n",
              "      <th>1</th>\n",
              "      <td>5.0</td>\n",
              "      <td>True</td>\n",
              "      <td>06 20, 2016</td>\n",
              "      <td>AVP0HXC9FG790</td>\n",
              "      <td>0001713353</td>\n",
              "      <td>NaN</td>\n",
              "      <td>Amazon Customer</td>\n",
              "      <td>The kids loved it!</td>\n",
              "      <td>Five Stars</td>\n",
              "      <td>1466380800</td>\n",
              "      <td>NaN</td>\n",
              "      <td>NaN</td>\n",
              "    </tr>\n",
              "    <tr>\n",
              "      <th>2</th>\n",
              "      <td>5.0</td>\n",
              "      <td>True</td>\n",
              "      <td>01 24, 2016</td>\n",
              "      <td>A324TTUBKTN73A</td>\n",
              "      <td>0001713353</td>\n",
              "      <td>{'Format:': ' Paperback'}</td>\n",
              "      <td>Tekla Borner</td>\n",
              "      <td>My students (3 &amp; 4 year olds) loved this book!...</td>\n",
              "      <td>Five Stars</td>\n",
              "      <td>1453593600</td>\n",
              "      <td>NaN</td>\n",
              "      <td>NaN</td>\n",
              "    </tr>\n",
              "    <tr>\n",
              "      <th>3</th>\n",
              "      <td>5.0</td>\n",
              "      <td>False</td>\n",
              "      <td>07 9, 2015</td>\n",
              "      <td>A2RE7WG349NV5D</td>\n",
              "      <td>0001713353</td>\n",
              "      <td>{'Format:': ' Paperback'}</td>\n",
              "      <td>Deborah K Woroniecki</td>\n",
              "      <td>LOVE IT</td>\n",
              "      <td>Five Stars</td>\n",
              "      <td>1436400000</td>\n",
              "      <td>NaN</td>\n",
              "      <td>NaN</td>\n",
              "    </tr>\n",
              "    <tr>\n",
              "      <th>4</th>\n",
              "      <td>5.0</td>\n",
              "      <td>True</td>\n",
              "      <td>01 18, 2015</td>\n",
              "      <td>A32B7QIUDQCD0E</td>\n",
              "      <td>0001713353</td>\n",
              "      <td>NaN</td>\n",
              "      <td>E</td>\n",
              "      <td>Great!</td>\n",
              "      <td>Five Stars</td>\n",
              "      <td>1421539200</td>\n",
              "      <td>NaN</td>\n",
              "      <td>NaN</td>\n",
              "    </tr>\n",
              "  </tbody>\n",
              "</table>\n",
              "</div>"
            ],
            "text/plain": [
              "   overall  verified   reviewTime  ... unixReviewTime vote image\n",
              "0      5.0     False  03 30, 2005  ...     1112140800  NaN   NaN\n",
              "1      5.0      True  06 20, 2016  ...     1466380800  NaN   NaN\n",
              "2      5.0      True  01 24, 2016  ...     1453593600  NaN   NaN\n",
              "3      5.0     False   07 9, 2015  ...     1436400000  NaN   NaN\n",
              "4      5.0      True  01 18, 2015  ...     1421539200  NaN   NaN\n",
              "\n",
              "[5 rows x 12 columns]"
            ]
          },
          "metadata": {
            "tags": []
          },
          "execution_count": 3
        }
      ]
    },
    {
      "cell_type": "markdown",
      "metadata": {
        "id": "nKOFH24YoEd0"
      },
      "source": [
        "Now that we have the Amazon DataFrame, we need to preprocess it before combining it with the GoodReads DataFrame. The ML model can use one combined dataset, which is made up of the two DataFrames.\n",
        "\n",
        "There should be a way to know which reviews in the combined dataset are from Amazon. This is to make sure the test data are all from Amazon, since we want to recommend books to Amazon users."
      ]
    },
    {
      "cell_type": "markdown",
      "metadata": {
        "id": "8RU4uVRgsP11"
      },
      "source": [
        "To check if a review if from Amazon or Goodreads, we can add an extra column `isAmazon` to each DataFrame. The value is 1 for all Amazon reviews and 0 for all GoodReads reviews."
      ]
    },
    {
      "cell_type": "code",
      "metadata": {
        "id": "9gWR5FhDt2SJ"
      },
      "source": [
        "# Get the numer of rows of the df. Each row is a review.\n",
        "num_rows = len(amazon_df.index)\n",
        "# Create a list of 1's since all reviews in Amazon dataset are from Amazon\n",
        "list_of_ones = [1] * num_rows\n",
        "# Add a new column named 'isAmazon' set to the list\n",
        "amazon_df['isAmazon'] = list_of_ones"
      ],
      "execution_count": null,
      "outputs": []
    },
    {
      "cell_type": "code",
      "metadata": {
        "id": "4tskOFEFiIux",
        "outputId": "a7ef6c26-c0d7-488b-c63e-a866fda6fa2c",
        "colab": {
          "base_uri": "https://localhost:8080/"
        }
      },
      "source": [
        "# Check column names\n",
        "print(list(amazon_df.columns))\n",
        "# Check number of columns\n",
        "print(len(list(amazon_df.columns)))"
      ],
      "execution_count": null,
      "outputs": [
        {
          "output_type": "stream",
          "text": [
            "['overall', 'verified', 'reviewTime', 'reviewerID', 'asin', 'style', 'reviewerName', 'reviewText', 'summary', 'unixReviewTime', 'vote', 'image', 'isAmazon']\n",
            "13\n"
          ],
          "name": "stdout"
        }
      ]
    },
    {
      "cell_type": "markdown",
      "metadata": {
        "id": "MohnG5Y1RPq6"
      },
      "source": [
        "**Preprocessing** - Goodreads\n",
        "\n",
        "Goodreads dataset: https://sites.google.com/eng.ucsd.edu/ucsdbookgraph/home"
      ]
    },
    {
      "cell_type": "markdown",
      "metadata": {
        "id": "nJyLFQdS0Ury"
      },
      "source": [
        "Get the reviews dataset `goodreads_reviews_dedup.json.gz`, using the existing file in Google Drive."
      ]
    },
    {
      "cell_type": "code",
      "metadata": {
        "id": "m8vm42-X4ZpY",
        "outputId": "068ea1bc-ccf3-413f-cabd-56e822f8eeee",
        "colab": {
          "base_uri": "https://localhost:8080/"
        }
      },
      "source": [
        "# mount to Google Drive\n",
        "from google.colab import drive\n",
        "drive.mount('/content/drive')"
      ],
      "execution_count": null,
      "outputs": [
        {
          "output_type": "stream",
          "text": [
            "Drive already mounted at /content/drive; to attempt to forcibly remount, call drive.mount(\"/content/drive\", force_remount=True).\n"
          ],
          "name": "stdout"
        }
      ]
    },
    {
      "cell_type": "code",
      "metadata": {
        "id": "Afkweu93E2W1",
        "outputId": "5b8a1674-ccfa-45c7-9db8-a8f330cfdea1",
        "colab": {
          "base_uri": "https://localhost:8080/"
        }
      },
      "source": [
        "# go to folder containing goodreads_reviews_dedup.json.gz\n",
        "%cd \"/content/drive/My Drive/data/ce256/project\""
      ],
      "execution_count": null,
      "outputs": [
        {
          "output_type": "stream",
          "text": [
            "/content/drive/.shortcut-targets-by-id/1HAaJ2jKojgPKa8wfJoWiFU_cYq8hnytg/project\n"
          ],
          "name": "stdout"
        }
      ]
    },
    {
      "cell_type": "markdown",
      "metadata": {
        "id": "ScFWijUONid3"
      },
      "source": [
        "Load the reviews.\n",
        "\n",
        "Notebook: https://github.com/MengtingWan/goodreads/blob/master/samples.ipynb"
      ]
    },
    {
      "cell_type": "code",
      "metadata": {
        "id": "1txnf1BcFFe8"
      },
      "source": [
        "# This function shows how to load datasets\n",
        "def load_data(file_name, head = 4000000): # 500\n",
        "    count = 0\n",
        "    data = []\n",
        "    with gzip.open(file_name) as fin:\n",
        "        for l in fin:\n",
        "            d = json.loads(l)\n",
        "            count += 1\n",
        "            data.append(d)\n",
        "            \n",
        "            # break if reaches the 100th line\n",
        "            if (head is not None) and (count > head):\n",
        "                break\n",
        "    return data"
      ],
      "execution_count": null,
      "outputs": []
    },
    {
      "cell_type": "code",
      "metadata": {
        "id": "htcMNFw5FP3F",
        "outputId": "453f88a2-79f9-4ab1-cf4f-31b74fed9076",
        "colab": {
          "base_uri": "https://localhost:8080/"
        }
      },
      "source": [
        "# Already done, commented out\n",
        "'''\n",
        "# Load and display sample records of book reviews\n",
        "reviews = load_data('goodreads_reviews_dedup.json.gz')\n",
        "np.random.choice(reviews)\n",
        "'''"
      ],
      "execution_count": null,
      "outputs": [
        {
          "output_type": "execute_result",
          "data": {
            "text/plain": [
              "{'book_id': '22668737',\n",
              " 'date_added': 'Wed Apr 01 16:27:05 -0700 2015',\n",
              " 'date_updated': 'Mon Mar 07 21:47:19 -0800 2016',\n",
              " 'n_comments': 0,\n",
              " 'n_votes': 2,\n",
              " 'rating': 3,\n",
              " 'read_at': 'Sat Mar 05 00:00:00 -0800 2016',\n",
              " 'review_id': 'b4a2eda146403d57962e0d21234602c3',\n",
              " 'review_text': '3 Pamphlet loving stars! \\n I had downloaded Against the Ropes to review because I quite like the writing of Jeanette Murray but I didn\\'t realize at the time it was part 2 of a series. Which made me have to read this book first, so I could get a grip on the story. These books need to be read as a series NOT as a standalones. \\n That being said once I started Below the Belt it took me forever to get hooked. I kept putting the book down and starting a new book instead, but I really wanted to get to Graham\\'s story in Fight to the Finish, so I had to get through these two books first. \\n This series starts with a group of Marine\\'s coming together to have the chance at the All Military Games boxing team. At first each is for their own, but as the stories progress all the Marines come together as a team and as friends. The three oldest on the team are Brad Costa, Greg Higgs & Graham Sweeney. These three become fast friends and each story is about each of these men and their woman. \\n Brad Costa has a reason for wanting to make this team, which makes him almost desperate for it. Marianne Cook is the head trainer for this team and wants to do it right. So when she immediately meets Brad and is drawn to him, it makes things a bit challenging for her. \\n Right at the beginning of tryouts Brad hurts his knee but keeps it a secret from everyone, even his new trainer and bed pal Marianne. While everyone is training there is some vandalism happening towards the team making everyone on edge. The stress of tryouts and the vandalism isn\\'t enough for Brad because secrets always have a way of coming out. \\n Once the truth comes out, it\\'s always how the situation can be fixed in the end, and Brad had his work cut out for him. \\n \"If you can\\'t take the information I just gave you and out two with two together, then the both of you aren\\'t ready to date a turnip.\" \\n Once I finally got into the story, I found it cute. I liked Marianne\\'s sense of humor and sarcasm. However, even though for the most part I did like Brad, his Jesus H\\'s got to be too redundant throughout the story. Their chemistry was good, but the banter between Brad, Greg and Graham as well as Marianne, Reagan and Kara is what keeps you wanting to find out more from this series. If it wasn\\'t for that I don\\'t know if I would have finished this book. Another thing that was hard on the eyes at times was Marine and Marianne because they were so close in spelling it played the occasional trick on my eye making me have to often re-read a part or sentence.',\n",
              " 'started_at': '',\n",
              " 'user_id': '68f9915717ccc347b5f46f1b11ec40fe'}"
            ]
          },
          "metadata": {
            "tags": []
          },
          "execution_count": 6
        }
      ]
    },
    {
      "cell_type": "code",
      "metadata": {
        "id": "gRevvw7OlvgR",
        "outputId": "a64074cf-245b-453f-c90a-a9c3fcb972e3",
        "colab": {
          "base_uri": "https://localhost:8080/",
          "height": 586
        }
      },
      "source": [
        "# Already done, commented out\n",
        "'''\n",
        "# convert list into pandas dataframe\n",
        "goodreads_df = pd.DataFrame.from_dict(reviews)\n",
        "\n",
        "print(len(goodreads_df))\n",
        "goodreads_df.head()\n",
        "'''"
      ],
      "execution_count": null,
      "outputs": [
        {
          "output_type": "stream",
          "text": [
            "4000001\n"
          ],
          "name": "stdout"
        },
        {
          "output_type": "execute_result",
          "data": {
            "text/html": [
              "<div>\n",
              "<style scoped>\n",
              "    .dataframe tbody tr th:only-of-type {\n",
              "        vertical-align: middle;\n",
              "    }\n",
              "\n",
              "    .dataframe tbody tr th {\n",
              "        vertical-align: top;\n",
              "    }\n",
              "\n",
              "    .dataframe thead th {\n",
              "        text-align: right;\n",
              "    }\n",
              "</style>\n",
              "<table border=\"1\" class=\"dataframe\">\n",
              "  <thead>\n",
              "    <tr style=\"text-align: right;\">\n",
              "      <th></th>\n",
              "      <th>user_id</th>\n",
              "      <th>book_id</th>\n",
              "      <th>review_id</th>\n",
              "      <th>rating</th>\n",
              "      <th>review_text</th>\n",
              "      <th>date_added</th>\n",
              "      <th>date_updated</th>\n",
              "      <th>read_at</th>\n",
              "      <th>started_at</th>\n",
              "      <th>n_votes</th>\n",
              "      <th>n_comments</th>\n",
              "    </tr>\n",
              "  </thead>\n",
              "  <tbody>\n",
              "    <tr>\n",
              "      <th>0</th>\n",
              "      <td>8842281e1d1347389f2ab93d60773d4d</td>\n",
              "      <td>24375664</td>\n",
              "      <td>5cd416f3efc3f944fce4ce2db2290d5e</td>\n",
              "      <td>5</td>\n",
              "      <td>Mind blowingly cool. Best science fiction I've...</td>\n",
              "      <td>Fri Aug 25 13:55:02 -0700 2017</td>\n",
              "      <td>Mon Oct 09 08:55:59 -0700 2017</td>\n",
              "      <td>Sat Oct 07 00:00:00 -0700 2017</td>\n",
              "      <td>Sat Aug 26 00:00:00 -0700 2017</td>\n",
              "      <td>16</td>\n",
              "      <td>0</td>\n",
              "    </tr>\n",
              "    <tr>\n",
              "      <th>1</th>\n",
              "      <td>8842281e1d1347389f2ab93d60773d4d</td>\n",
              "      <td>18245960</td>\n",
              "      <td>dfdbb7b0eb5a7e4c26d59a937e2e5feb</td>\n",
              "      <td>5</td>\n",
              "      <td>This is a special book. It started slow for ab...</td>\n",
              "      <td>Sun Jul 30 07:44:10 -0700 2017</td>\n",
              "      <td>Wed Aug 30 00:00:26 -0700 2017</td>\n",
              "      <td>Sat Aug 26 12:05:52 -0700 2017</td>\n",
              "      <td>Tue Aug 15 13:23:18 -0700 2017</td>\n",
              "      <td>28</td>\n",
              "      <td>1</td>\n",
              "    </tr>\n",
              "    <tr>\n",
              "      <th>2</th>\n",
              "      <td>8842281e1d1347389f2ab93d60773d4d</td>\n",
              "      <td>6392944</td>\n",
              "      <td>5e212a62bced17b4dbe41150e5bb9037</td>\n",
              "      <td>3</td>\n",
              "      <td>I haven't read a fun mystery book in a while a...</td>\n",
              "      <td>Mon Jul 24 02:48:17 -0700 2017</td>\n",
              "      <td>Sun Jul 30 09:28:03 -0700 2017</td>\n",
              "      <td>Tue Jul 25 00:00:00 -0700 2017</td>\n",
              "      <td>Mon Jul 24 00:00:00 -0700 2017</td>\n",
              "      <td>6</td>\n",
              "      <td>0</td>\n",
              "    </tr>\n",
              "    <tr>\n",
              "      <th>3</th>\n",
              "      <td>8842281e1d1347389f2ab93d60773d4d</td>\n",
              "      <td>22078596</td>\n",
              "      <td>fdd13cad0695656be99828cd75d6eb73</td>\n",
              "      <td>4</td>\n",
              "      <td>Fun, fast paced, and disturbing tale of murder...</td>\n",
              "      <td>Mon Jul 24 02:33:09 -0700 2017</td>\n",
              "      <td>Sun Jul 30 10:23:54 -0700 2017</td>\n",
              "      <td>Sun Jul 30 15:42:05 -0700 2017</td>\n",
              "      <td>Tue Jul 25 00:00:00 -0700 2017</td>\n",
              "      <td>22</td>\n",
              "      <td>4</td>\n",
              "    </tr>\n",
              "    <tr>\n",
              "      <th>4</th>\n",
              "      <td>8842281e1d1347389f2ab93d60773d4d</td>\n",
              "      <td>6644782</td>\n",
              "      <td>bd0df91c9d918c0e433b9ab3a9a5c451</td>\n",
              "      <td>4</td>\n",
              "      <td>A fun book that gives you a sense of living in...</td>\n",
              "      <td>Mon Jul 24 02:28:14 -0700 2017</td>\n",
              "      <td>Thu Aug 24 00:07:20 -0700 2017</td>\n",
              "      <td>Sat Aug 05 00:00:00 -0700 2017</td>\n",
              "      <td>Sun Jul 30 00:00:00 -0700 2017</td>\n",
              "      <td>8</td>\n",
              "      <td>0</td>\n",
              "    </tr>\n",
              "  </tbody>\n",
              "</table>\n",
              "</div>"
            ],
            "text/plain": [
              "                            user_id   book_id  ... n_votes  n_comments\n",
              "0  8842281e1d1347389f2ab93d60773d4d  24375664  ...      16           0\n",
              "1  8842281e1d1347389f2ab93d60773d4d  18245960  ...      28           1\n",
              "2  8842281e1d1347389f2ab93d60773d4d   6392944  ...       6           0\n",
              "3  8842281e1d1347389f2ab93d60773d4d  22078596  ...      22           4\n",
              "4  8842281e1d1347389f2ab93d60773d4d   6644782  ...       8           0\n",
              "\n",
              "[5 rows x 11 columns]"
            ]
          },
          "metadata": {
            "tags": []
          },
          "execution_count": 7
        }
      ]
    },
    {
      "cell_type": "code",
      "metadata": {
        "id": "kMZagLmbjgeO",
        "outputId": "33c44e9f-86e2-4279-cd32-4fd495345f5e",
        "colab": {
          "base_uri": "https://localhost:8080/"
        }
      },
      "source": [
        "# Save the dataframe as a CSV\n",
        "# goodreads_df.to_csv(\"goodreads_reviews_1.csv\", index=False)\n",
        "print(\"Finished saving.\")"
      ],
      "execution_count": null,
      "outputs": [
        {
          "output_type": "stream",
          "text": [
            "Finished saving.\n"
          ],
          "name": "stdout"
        }
      ]
    },
    {
      "cell_type": "code",
      "metadata": {
        "id": "WsLWMbxqnUG9",
        "outputId": "25b9779d-f6c3-456b-8ff3-d76c168fb918",
        "colab": {
          "base_uri": "https://localhost:8080/",
          "height": 306
        }
      },
      "source": [
        "# Get the dataframe from CSV named goodread_reviews_1.csv in Google Drive\n",
        "\n",
        "# Go to folder containing CSV\n",
        "%cd \"/content/drive/My Drive/data/ce256/project\"\n",
        "# load first 4 million reviews\n",
        "goodreads_df = pd.read_csv(\"goodreads_reviews_1.csv\")\n",
        "\n",
        "# Check the CSV in Google Drive has the correct data\n",
        "goodreads_df.head()"
      ],
      "execution_count": null,
      "outputs": [
        {
          "output_type": "stream",
          "text": [
            "/content/drive/.shortcut-targets-by-id/1HAaJ2jKojgPKa8wfJoWiFU_cYq8hnytg/project\n"
          ],
          "name": "stdout"
        },
        {
          "output_type": "execute_result",
          "data": {
            "text/html": [
              "<div>\n",
              "<style scoped>\n",
              "    .dataframe tbody tr th:only-of-type {\n",
              "        vertical-align: middle;\n",
              "    }\n",
              "\n",
              "    .dataframe tbody tr th {\n",
              "        vertical-align: top;\n",
              "    }\n",
              "\n",
              "    .dataframe thead th {\n",
              "        text-align: right;\n",
              "    }\n",
              "</style>\n",
              "<table border=\"1\" class=\"dataframe\">\n",
              "  <thead>\n",
              "    <tr style=\"text-align: right;\">\n",
              "      <th></th>\n",
              "      <th>user_id</th>\n",
              "      <th>book_id</th>\n",
              "      <th>review_id</th>\n",
              "      <th>rating</th>\n",
              "      <th>review_text</th>\n",
              "      <th>date_added</th>\n",
              "      <th>date_updated</th>\n",
              "      <th>read_at</th>\n",
              "      <th>started_at</th>\n",
              "      <th>n_votes</th>\n",
              "      <th>n_comments</th>\n",
              "    </tr>\n",
              "  </thead>\n",
              "  <tbody>\n",
              "    <tr>\n",
              "      <th>0</th>\n",
              "      <td>8842281e1d1347389f2ab93d60773d4d</td>\n",
              "      <td>24375664</td>\n",
              "      <td>5cd416f3efc3f944fce4ce2db2290d5e</td>\n",
              "      <td>5</td>\n",
              "      <td>Mind blowingly cool. Best science fiction I've...</td>\n",
              "      <td>Fri Aug 25 13:55:02 -0700 2017</td>\n",
              "      <td>Mon Oct 09 08:55:59 -0700 2017</td>\n",
              "      <td>Sat Oct 07 00:00:00 -0700 2017</td>\n",
              "      <td>Sat Aug 26 00:00:00 -0700 2017</td>\n",
              "      <td>16</td>\n",
              "      <td>0</td>\n",
              "    </tr>\n",
              "    <tr>\n",
              "      <th>1</th>\n",
              "      <td>8842281e1d1347389f2ab93d60773d4d</td>\n",
              "      <td>18245960</td>\n",
              "      <td>dfdbb7b0eb5a7e4c26d59a937e2e5feb</td>\n",
              "      <td>5</td>\n",
              "      <td>This is a special book. It started slow for ab...</td>\n",
              "      <td>Sun Jul 30 07:44:10 -0700 2017</td>\n",
              "      <td>Wed Aug 30 00:00:26 -0700 2017</td>\n",
              "      <td>Sat Aug 26 12:05:52 -0700 2017</td>\n",
              "      <td>Tue Aug 15 13:23:18 -0700 2017</td>\n",
              "      <td>28</td>\n",
              "      <td>1</td>\n",
              "    </tr>\n",
              "    <tr>\n",
              "      <th>2</th>\n",
              "      <td>8842281e1d1347389f2ab93d60773d4d</td>\n",
              "      <td>6392944</td>\n",
              "      <td>5e212a62bced17b4dbe41150e5bb9037</td>\n",
              "      <td>3</td>\n",
              "      <td>I haven't read a fun mystery book in a while a...</td>\n",
              "      <td>Mon Jul 24 02:48:17 -0700 2017</td>\n",
              "      <td>Sun Jul 30 09:28:03 -0700 2017</td>\n",
              "      <td>Tue Jul 25 00:00:00 -0700 2017</td>\n",
              "      <td>Mon Jul 24 00:00:00 -0700 2017</td>\n",
              "      <td>6</td>\n",
              "      <td>0</td>\n",
              "    </tr>\n",
              "    <tr>\n",
              "      <th>3</th>\n",
              "      <td>8842281e1d1347389f2ab93d60773d4d</td>\n",
              "      <td>22078596</td>\n",
              "      <td>fdd13cad0695656be99828cd75d6eb73</td>\n",
              "      <td>4</td>\n",
              "      <td>Fun, fast paced, and disturbing tale of murder...</td>\n",
              "      <td>Mon Jul 24 02:33:09 -0700 2017</td>\n",
              "      <td>Sun Jul 30 10:23:54 -0700 2017</td>\n",
              "      <td>Sun Jul 30 15:42:05 -0700 2017</td>\n",
              "      <td>Tue Jul 25 00:00:00 -0700 2017</td>\n",
              "      <td>22</td>\n",
              "      <td>4</td>\n",
              "    </tr>\n",
              "    <tr>\n",
              "      <th>4</th>\n",
              "      <td>8842281e1d1347389f2ab93d60773d4d</td>\n",
              "      <td>6644782</td>\n",
              "      <td>bd0df91c9d918c0e433b9ab3a9a5c451</td>\n",
              "      <td>4</td>\n",
              "      <td>A fun book that gives you a sense of living in...</td>\n",
              "      <td>Mon Jul 24 02:28:14 -0700 2017</td>\n",
              "      <td>Thu Aug 24 00:07:20 -0700 2017</td>\n",
              "      <td>Sat Aug 05 00:00:00 -0700 2017</td>\n",
              "      <td>Sun Jul 30 00:00:00 -0700 2017</td>\n",
              "      <td>8</td>\n",
              "      <td>0</td>\n",
              "    </tr>\n",
              "  </tbody>\n",
              "</table>\n",
              "</div>"
            ],
            "text/plain": [
              "                            user_id   book_id  ... n_votes  n_comments\n",
              "0  8842281e1d1347389f2ab93d60773d4d  24375664  ...      16           0\n",
              "1  8842281e1d1347389f2ab93d60773d4d  18245960  ...      28           1\n",
              "2  8842281e1d1347389f2ab93d60773d4d   6392944  ...       6           0\n",
              "3  8842281e1d1347389f2ab93d60773d4d  22078596  ...      22           4\n",
              "4  8842281e1d1347389f2ab93d60773d4d   6644782  ...       8           0\n",
              "\n",
              "[5 rows x 11 columns]"
            ]
          },
          "metadata": {
            "tags": []
          },
          "execution_count": 17
        }
      ]
    },
    {
      "cell_type": "markdown",
      "metadata": {
        "id": "Yv1Ch2GWfaTH"
      },
      "source": [
        "To check if a review if from Amazon or Goodreads, we can add an extra column `isAmazon` to each DataFrame. The value is 1 for all Amazon reviews and 0 for all GoodReads reviews."
      ]
    },
    {
      "cell_type": "code",
      "metadata": {
        "id": "vfJHthf4f5JN"
      },
      "source": [
        "# Get the numer of rows of the df. Each row is a review.\n",
        "num_rows = len(goodreads_df.index)\n",
        "# Create a list of 0's since all reviews in Goodreads dataset are not from Amazon\n",
        "list_of_zeros = [0] * num_rows\n",
        "# Add a new column named 'isAmazon' set to the list\n",
        "goodreads_df['isAmazon'] = list_of_zeros"
      ],
      "execution_count": null,
      "outputs": []
    },
    {
      "cell_type": "code",
      "metadata": {
        "id": "aiaLFUK5gEB-",
        "outputId": "37ed589d-dd04-47ca-c237-446bba1d7485",
        "colab": {
          "base_uri": "https://localhost:8080/"
        }
      },
      "source": [
        "# Check column names\n",
        "print(list(goodreads_df.columns))\n",
        "# Check number of columns\n",
        "print(len(list(goodreads_df.columns)))"
      ],
      "execution_count": null,
      "outputs": [
        {
          "output_type": "stream",
          "text": [
            "['user_id', 'book_id', 'review_id', 'rating', 'review_text', 'date_added', 'date_updated', 'read_at', 'started_at', 'n_votes', 'n_comments', 'isAmazon']\n",
            "12\n"
          ],
          "name": "stdout"
        }
      ]
    },
    {
      "cell_type": "markdown",
      "metadata": {
        "id": "LoAIhYznmjui"
      },
      "source": [
        "**Preprocessing** - Combine datasets"
      ]
    },
    {
      "cell_type": "markdown",
      "metadata": {
        "id": "hhJ3QBmPX6PE"
      },
      "source": [
        "The combined dataset can have user ID, ASIN, Goodreads book ID, review text, and rating"
      ]
    },
    {
      "cell_type": "code",
      "metadata": {
        "id": "pJyeEVSgoIAJ",
        "outputId": "0084e4fe-d780-4156-bbbe-11ff11622124",
        "colab": {
          "base_uri": "https://localhost:8080/"
        }
      },
      "source": [
        "# Create a combined df\n",
        "combined_df = pd.DataFrame()\n",
        "# Create one column with the ASIN and another column with Goodreads book ID\n",
        "# Amazon ASIN column converted to list\n",
        "asin_col_list = amazon_df[\"asin\"].tolist()\n",
        "# List of zeros to be appended after the asin list,\n",
        "# if assuming no Goodreads reviews have ASIN\n",
        "zeros_asin_col_list = [0] * len(goodreads_df.index)\n",
        "# Create combined list\n",
        "combined_asin_col_list = asin_col_list + zeros_asin_col_list\n",
        "# Assign list to column\n",
        "combined_df[\"asin\"] = combined_asin_col_list\n",
        "\n",
        "# List of zeros to be appended before the book_id list,\n",
        "# if assuming no Amazon reviews have Goodreads book ID\n",
        "zeros_book_id_col_list = [0] * len(amazon_df.index)\n",
        "# Goodreads book_id column converted to list\n",
        "book_id_col_list = goodreads_df[\"book_id\"].tolist()\n",
        "# Create combined list\n",
        "combined_book_id_col_list = zeros_book_id_col_list + book_id_col_list\n",
        "# Assign list to column\n",
        "combined_df[\"book_id\"] = combined_book_id_col_list\n",
        "print(\"Finished asin and book id concat\")\n",
        "print(combined_df.head())\n",
        "\n",
        "# Create a column made up of Amazon and Goodreads user IDs\n",
        "combined_df[\"user_id\"] = amazon_df[\"reviewerID\"] + goodreads_df[\"user_id\"]\n",
        "# Create a column made up of both Amazon and Goodreads review texts\n",
        "print(\"Finished user id concat\")\n",
        "combined_df[\"review_text\"] = amazon_df[\"reviewText\"] + goodreads_df[\"review_text\"]\n",
        "print(\"Finished review text concat\")\n",
        "# Create a column made up of both Amazon ratings and Goodreads ratings\n",
        "# Amazon reviews are doubles, Goodreads are ints\n",
        "combined_df[\"rating\"] = amazon_df[\"overall\"] + goodreads_df[\"rating\"]\n",
        "print(\"Finished rating concat\")\n",
        "# Create a column saying whether the review was originally from Amazon or Goodreads\n",
        "combined_df[\"isAmazon\"] = amazon_df[\"isAmazon\"] + goodreads_df[\"isAmazon\"]\n",
        "print(\"Finished is amazon concat\")\n",
        "\n",
        "combined_df.head()"
      ],
      "execution_count": null,
      "outputs": [
        {
          "output_type": "stream",
          "text": [
            "Finished user id concat\n"
          ],
          "name": "stdout"
        }
      ]
    },
    {
      "cell_type": "code",
      "metadata": {
        "id": "BqgrVGbKYDcc"
      },
      "source": [
        "# Save the combined dataframe as a CSV\n",
        "# combined_df.to_csv(\"combined_reviews_8mill.csv\", index=False)\n",
        "print(\"Finished saving.\")"
      ],
      "execution_count": null,
      "outputs": []
    },
    {
      "cell_type": "markdown",
      "metadata": {
        "id": "sF-K9pper3Qn"
      },
      "source": [
        "We can also check the review text of the combined dataset to make sure there are no duplicate review texts."
      ]
    },
    {
      "cell_type": "markdown",
      "metadata": {
        "id": "DAkeWrGiYhdt"
      },
      "source": [
        "# **Training**"
      ]
    },
    {
      "cell_type": "markdown",
      "metadata": {
        "id": "3Z-QQHKBYXxC"
      },
      "source": [
        "**Training** - Train a model on the Amazon dataset"
      ]
    },
    {
      "cell_type": "code",
      "metadata": {
        "id": "kf4koE0jvx-Q"
      },
      "source": [
        "import os\n",
        "import json\n",
        "import gzip\n",
        "import pandas as pd\n",
        "from urllib.request import urlopen\n",
        "\n",
        "import numpy as np"
      ],
      "execution_count": null,
      "outputs": []
    },
    {
      "cell_type": "code",
      "metadata": {
        "id": "_C5nA-twaXZa",
        "outputId": "c3f731da-5472-40df-e83f-91c579c528a4",
        "colab": {
          "base_uri": "https://localhost:8080/"
        }
      },
      "source": [
        "# mount to Google Drive\n",
        "from google.colab import drive\n",
        "drive.mount('/content/drive')"
      ],
      "execution_count": null,
      "outputs": [
        {
          "output_type": "stream",
          "text": [
            "Mounted at /content/drive\n"
          ],
          "name": "stdout"
        }
      ]
    },
    {
      "cell_type": "code",
      "metadata": {
        "id": "89EUBGh6Yr1q",
        "outputId": "b471ec63-e70a-44b2-df06-46b074c2a486",
        "colab": {
          "base_uri": "https://localhost:8080/",
          "height": 395
        }
      },
      "source": [
        "# Get the first 4 million reviews from CSV named amazon_reviews_1 in Google Drive\n",
        "\n",
        "# Go to folder containing CSV\n",
        "%cd \"/content/drive/My Drive/data/ce256/project\"\n",
        "# load first 4 million reviews\n",
        "amazon_df = pd.read_csv(\"amazon_reviews_1\")\n",
        "\n",
        "# Check the CSV in Google Drive has the correct data\n",
        "amazon_df.head()"
      ],
      "execution_count": null,
      "outputs": [
        {
          "output_type": "stream",
          "text": [
            "/content/drive/My Drive/data/ce256/project\n"
          ],
          "name": "stdout"
        },
        {
          "output_type": "stream",
          "text": [
            "/usr/local/lib/python3.6/dist-packages/IPython/core/interactiveshell.py:2718: DtypeWarning: Columns (10,11) have mixed types.Specify dtype option on import or set low_memory=False.\n",
            "  interactivity=interactivity, compiler=compiler, result=result)\n"
          ],
          "name": "stderr"
        },
        {
          "output_type": "execute_result",
          "data": {
            "text/html": [
              "<div>\n",
              "<style scoped>\n",
              "    .dataframe tbody tr th:only-of-type {\n",
              "        vertical-align: middle;\n",
              "    }\n",
              "\n",
              "    .dataframe tbody tr th {\n",
              "        vertical-align: top;\n",
              "    }\n",
              "\n",
              "    .dataframe thead th {\n",
              "        text-align: right;\n",
              "    }\n",
              "</style>\n",
              "<table border=\"1\" class=\"dataframe\">\n",
              "  <thead>\n",
              "    <tr style=\"text-align: right;\">\n",
              "      <th></th>\n",
              "      <th>overall</th>\n",
              "      <th>verified</th>\n",
              "      <th>reviewTime</th>\n",
              "      <th>reviewerID</th>\n",
              "      <th>asin</th>\n",
              "      <th>style</th>\n",
              "      <th>reviewerName</th>\n",
              "      <th>reviewText</th>\n",
              "      <th>summary</th>\n",
              "      <th>unixReviewTime</th>\n",
              "      <th>vote</th>\n",
              "      <th>image</th>\n",
              "    </tr>\n",
              "  </thead>\n",
              "  <tbody>\n",
              "    <tr>\n",
              "      <th>0</th>\n",
              "      <td>5.0</td>\n",
              "      <td>False</td>\n",
              "      <td>03 30, 2005</td>\n",
              "      <td>A1REUF3A1YCPHM</td>\n",
              "      <td>0001713353</td>\n",
              "      <td>{'Format:': ' Hardcover'}</td>\n",
              "      <td>TW Ervin II</td>\n",
              "      <td>The King, the Mice and the Cheese by Nancy Gur...</td>\n",
              "      <td>A story children will love and learn from</td>\n",
              "      <td>1112140800</td>\n",
              "      <td>NaN</td>\n",
              "      <td>NaN</td>\n",
              "    </tr>\n",
              "    <tr>\n",
              "      <th>1</th>\n",
              "      <td>5.0</td>\n",
              "      <td>True</td>\n",
              "      <td>06 20, 2016</td>\n",
              "      <td>AVP0HXC9FG790</td>\n",
              "      <td>0001713353</td>\n",
              "      <td>NaN</td>\n",
              "      <td>Amazon Customer</td>\n",
              "      <td>The kids loved it!</td>\n",
              "      <td>Five Stars</td>\n",
              "      <td>1466380800</td>\n",
              "      <td>NaN</td>\n",
              "      <td>NaN</td>\n",
              "    </tr>\n",
              "    <tr>\n",
              "      <th>2</th>\n",
              "      <td>5.0</td>\n",
              "      <td>True</td>\n",
              "      <td>01 24, 2016</td>\n",
              "      <td>A324TTUBKTN73A</td>\n",
              "      <td>0001713353</td>\n",
              "      <td>{'Format:': ' Paperback'}</td>\n",
              "      <td>Tekla Borner</td>\n",
              "      <td>My students (3 &amp; 4 year olds) loved this book!...</td>\n",
              "      <td>Five Stars</td>\n",
              "      <td>1453593600</td>\n",
              "      <td>NaN</td>\n",
              "      <td>NaN</td>\n",
              "    </tr>\n",
              "    <tr>\n",
              "      <th>3</th>\n",
              "      <td>5.0</td>\n",
              "      <td>False</td>\n",
              "      <td>07 9, 2015</td>\n",
              "      <td>A2RE7WG349NV5D</td>\n",
              "      <td>0001713353</td>\n",
              "      <td>{'Format:': ' Paperback'}</td>\n",
              "      <td>Deborah K Woroniecki</td>\n",
              "      <td>LOVE IT</td>\n",
              "      <td>Five Stars</td>\n",
              "      <td>1436400000</td>\n",
              "      <td>NaN</td>\n",
              "      <td>NaN</td>\n",
              "    </tr>\n",
              "    <tr>\n",
              "      <th>4</th>\n",
              "      <td>5.0</td>\n",
              "      <td>True</td>\n",
              "      <td>01 18, 2015</td>\n",
              "      <td>A32B7QIUDQCD0E</td>\n",
              "      <td>0001713353</td>\n",
              "      <td>NaN</td>\n",
              "      <td>E</td>\n",
              "      <td>Great!</td>\n",
              "      <td>Five Stars</td>\n",
              "      <td>1421539200</td>\n",
              "      <td>NaN</td>\n",
              "      <td>NaN</td>\n",
              "    </tr>\n",
              "  </tbody>\n",
              "</table>\n",
              "</div>"
            ],
            "text/plain": [
              "   overall  verified   reviewTime  ... unixReviewTime vote image\n",
              "0      5.0     False  03 30, 2005  ...     1112140800  NaN   NaN\n",
              "1      5.0      True  06 20, 2016  ...     1466380800  NaN   NaN\n",
              "2      5.0      True  01 24, 2016  ...     1453593600  NaN   NaN\n",
              "3      5.0     False   07 9, 2015  ...     1436400000  NaN   NaN\n",
              "4      5.0      True  01 18, 2015  ...     1421539200  NaN   NaN\n",
              "\n",
              "[5 rows x 12 columns]"
            ]
          },
          "metadata": {
            "tags": []
          },
          "execution_count": 3
        }
      ]
    },
    {
      "cell_type": "code",
      "metadata": {
        "id": "jit-bP_yxOsq",
        "outputId": "5dc3ccfd-c5df-42e9-a0a7-1fadbf84b462",
        "colab": {
          "base_uri": "https://localhost:8080/",
          "height": 202
        }
      },
      "source": [
        "# Create ratings df containing only user ID, ASIN as book ID, and rating\n",
        "'''\n",
        "amazon_ratings_df = pd.DataFrame()\n",
        "amazon_ratings_df[\"reviewerId\"] = amazon_df[\"reviewerId\"]\n",
        "amazon_ratings_df[\"asin\"] = amazon_df[\"asin\"]\n",
        "amazon_ratings_df[\"overall\"] = amazon_df[\"overall\"]\n",
        "'''\n",
        "amazon_ratings_df = amazon_df[[\"reviewerID\", \"asin\", \"overall\"]].copy()\n",
        "amazon_ratings_df.head()"
      ],
      "execution_count": null,
      "outputs": [
        {
          "output_type": "execute_result",
          "data": {
            "text/html": [
              "<div>\n",
              "<style scoped>\n",
              "    .dataframe tbody tr th:only-of-type {\n",
              "        vertical-align: middle;\n",
              "    }\n",
              "\n",
              "    .dataframe tbody tr th {\n",
              "        vertical-align: top;\n",
              "    }\n",
              "\n",
              "    .dataframe thead th {\n",
              "        text-align: right;\n",
              "    }\n",
              "</style>\n",
              "<table border=\"1\" class=\"dataframe\">\n",
              "  <thead>\n",
              "    <tr style=\"text-align: right;\">\n",
              "      <th></th>\n",
              "      <th>reviewerID</th>\n",
              "      <th>asin</th>\n",
              "      <th>overall</th>\n",
              "    </tr>\n",
              "  </thead>\n",
              "  <tbody>\n",
              "    <tr>\n",
              "      <th>0</th>\n",
              "      <td>A1REUF3A1YCPHM</td>\n",
              "      <td>0001713353</td>\n",
              "      <td>5.0</td>\n",
              "    </tr>\n",
              "    <tr>\n",
              "      <th>1</th>\n",
              "      <td>AVP0HXC9FG790</td>\n",
              "      <td>0001713353</td>\n",
              "      <td>5.0</td>\n",
              "    </tr>\n",
              "    <tr>\n",
              "      <th>2</th>\n",
              "      <td>A324TTUBKTN73A</td>\n",
              "      <td>0001713353</td>\n",
              "      <td>5.0</td>\n",
              "    </tr>\n",
              "    <tr>\n",
              "      <th>3</th>\n",
              "      <td>A2RE7WG349NV5D</td>\n",
              "      <td>0001713353</td>\n",
              "      <td>5.0</td>\n",
              "    </tr>\n",
              "    <tr>\n",
              "      <th>4</th>\n",
              "      <td>A32B7QIUDQCD0E</td>\n",
              "      <td>0001713353</td>\n",
              "      <td>5.0</td>\n",
              "    </tr>\n",
              "  </tbody>\n",
              "</table>\n",
              "</div>"
            ],
            "text/plain": [
              "       reviewerID        asin  overall\n",
              "0  A1REUF3A1YCPHM  0001713353      5.0\n",
              "1   AVP0HXC9FG790  0001713353      5.0\n",
              "2  A324TTUBKTN73A  0001713353      5.0\n",
              "3  A2RE7WG349NV5D  0001713353      5.0\n",
              "4  A32B7QIUDQCD0E  0001713353      5.0"
            ]
          },
          "metadata": {
            "tags": []
          },
          "execution_count": 4
        }
      ]
    },
    {
      "cell_type": "code",
      "metadata": {
        "id": "DUh-2cqfktlB"
      },
      "source": [
        "# Save the Amazon user ID, ASIN as book ID, and rating dataframe as a CSV\n",
        "# amazon_ratings_df.to_csv(\"ratings_4mill_amazon.csv\", index=False)\n",
        "# print(\"Finished saving.\")"
      ],
      "execution_count": null,
      "outputs": []
    },
    {
      "cell_type": "code",
      "metadata": {
        "id": "gcGYmYxOb3kI",
        "outputId": "a7ad790d-908e-4e40-9ede-e93ada710098",
        "colab": {
          "base_uri": "https://localhost:8080/"
        }
      },
      "source": [
        "# Credits-Prof Eirinaki, Rashmi Sharma and Aditya Patel\n",
        "# conda install -c conda-forge scikit-surprise\n",
        "!pip install scikit-surprise\n",
        "from surprise import BaselineOnly\n",
        "from surprise import Dataset\n",
        "from surprise import Reader\n",
        "from surprise.model_selection.split import train_test_split\n",
        "from surprise.model_selection import cross_validate, GridSearchCV\n",
        "import pandas as pd\n",
        "import numpy as np\n",
        "import os, io\n",
        "from surprise import KNNBasic, KNNWithMeans\n",
        "from surprise import SVDpp\n",
        "from surprise import SVD\n",
        "from surprise import accuracy"
      ],
      "execution_count": null,
      "outputs": [
        {
          "output_type": "stream",
          "text": [
            "Collecting scikit-surprise\n",
            "\u001b[?25l  Downloading https://files.pythonhosted.org/packages/97/37/5d334adaf5ddd65da99fc65f6507e0e4599d092ba048f4302fe8775619e8/scikit-surprise-1.1.1.tar.gz (11.8MB)\n",
            "\u001b[K     |████████████████████████████████| 11.8MB 365kB/s \n",
            "\u001b[?25hRequirement already satisfied: joblib>=0.11 in /usr/local/lib/python3.6/dist-packages (from scikit-surprise) (0.17.0)\n",
            "Requirement already satisfied: numpy>=1.11.2 in /usr/local/lib/python3.6/dist-packages (from scikit-surprise) (1.18.5)\n",
            "Requirement already satisfied: scipy>=1.0.0 in /usr/local/lib/python3.6/dist-packages (from scikit-surprise) (1.4.1)\n",
            "Requirement already satisfied: six>=1.10.0 in /usr/local/lib/python3.6/dist-packages (from scikit-surprise) (1.15.0)\n",
            "Building wheels for collected packages: scikit-surprise\n",
            "  Building wheel for scikit-surprise (setup.py) ... \u001b[?25l\u001b[?25hdone\n",
            "  Created wheel for scikit-surprise: filename=scikit_surprise-1.1.1-cp36-cp36m-linux_x86_64.whl size=1670933 sha256=2a75f33f5259eae36a5aeb8c5d758ed09331e410cb7f7f181b828814d53f5515\n",
            "  Stored in directory: /root/.cache/pip/wheels/78/9c/3d/41b419c9d2aff5b6e2b4c0fc8d25c538202834058f9ed110d0\n",
            "Successfully built scikit-surprise\n",
            "Installing collected packages: scikit-surprise\n",
            "Successfully installed scikit-surprise-1.1.1\n"
          ],
          "name": "stdout"
        }
      ]
    },
    {
      "cell_type": "code",
      "metadata": {
        "id": "zdK6lommb5v_"
      },
      "source": [
        "reader = Reader(rating_scale=(1,5))  #invoke reader instance of surprise library\n",
        "data=Dataset.load_from_df(amazon_ratings_df,reader) #load dataset into Surprise datastructure Dataset"
      ],
      "execution_count": null,
      "outputs": []
    },
    {
      "cell_type": "code",
      "metadata": {
        "id": "8ARnhnCtiOV5"
      },
      "source": [
        "#create training set\n",
        "trainingSet, testSet = train_test_split(data, test_size=0.2, train_size=None, random_state=None, shuffle=True)"
      ],
      "execution_count": null,
      "outputs": []
    },
    {
      "cell_type": "code",
      "metadata": {
        "id": "Sa9Py3ltiR1M"
      },
      "source": [
        "#SVD\n",
        "svd = SVD()\n",
        "svd.fit(trainingSet) #fit model to the training set\n",
        "predictions_svd = svd.test(testSet) #predict for test set values"
      ],
      "execution_count": null,
      "outputs": []
    },
    {
      "cell_type": "markdown",
      "metadata": {
        "id": "VaAzeGIepHgF"
      },
      "source": [
        "Testing"
      ]
    },
    {
      "cell_type": "code",
      "metadata": {
        "id": "gBygpY-QiVCf",
        "outputId": "f0b832ae-81cb-4c06-b646-d4848e49512c",
        "colab": {
          "base_uri": "https://localhost:8080/"
        }
      },
      "source": [
        "#validating rating predictions using RMSE\n",
        "accuracy.rmse(predictions_svd, verbose=True) "
      ],
      "execution_count": null,
      "outputs": [
        {
          "output_type": "stream",
          "text": [
            "RMSE: 0.9682\n"
          ],
          "name": "stdout"
        },
        {
          "output_type": "execute_result",
          "data": {
            "text/plain": [
              "0.9681906345336332"
            ]
          },
          "metadata": {
            "tags": []
          },
          "execution_count": 96
        }
      ]
    },
    {
      "cell_type": "markdown",
      "metadata": {
        "id": "fMf6eZd4pLW-"
      },
      "source": [
        "Making Predictions"
      ]
    },
    {
      "cell_type": "code",
      "metadata": {
        "id": "W1oOIVP6Dhxo",
        "outputId": "079b977b-e30d-44a1-a3b7-7d5cdc19fdca",
        "colab": {
          "base_uri": "https://localhost:8080/"
        }
      },
      "source": [
        "#print(predictions_svd[0])\n",
        "# print(predictions_svd[1])\n",
        "print(len(predictions_svd))\n",
        "# Get predicted and actual ratings of a user\n",
        "for pred in predictions_svd:\n",
        "  if pred[0] == \"AQEO3JYVJJH31\":\n",
        "    print(pred)"
      ],
      "execution_count": null,
      "outputs": [
        {
          "output_type": "stream",
          "text": [
            "user: AV1LMQTN6YCIH item: 0307583260 r_ui = 2.00   est = 3.15   {'was_impossible': False}\n",
            "800000\n",
            "user: AQEO3JYVJJH31 item: 0091944244 r_ui = 5.00   est = 4.54   {'was_impossible': False}\n"
          ],
          "name": "stdout"
        }
      ]
    },
    {
      "cell_type": "code",
      "metadata": {
        "id": "YQxd8ZYc6Ai3",
        "outputId": "9d1f655b-7230-48c1-cb69-e249f3d610f3",
        "colab": {
          "base_uri": "https://localhost:8080/"
        }
      },
      "source": [
        "# Get predicted ratings of a user in the dataset\n",
        "amazon_user_id = \"AQEO3JYVJJH31\"\n",
        "svd.predict(amazon_user_id, \"0091944244\") # A Gentleman in Moscow, user already rated this 5.0\n",
        "svd.predict(amazon_user_id, \"0007548672\") # All the Light We Cannot See, user already rated this 5.0\n",
        "svd.predict(amazon_user_id, \"0001713353\") # The King, the Mice and the Cheese\n",
        "svd.predict(amazon_user_id, \"0001384198\") # The Little Engine that Could\n",
        "svd.predict(amazon_user_id, \"0002005263\") # The Sinister Pig\n",
        "svd.predict(amazon_user_id, \"059035342X\") # Harry Potter and the Sorcerer's Stone, not in dataset"
      ],
      "execution_count": null,
      "outputs": [
        {
          "output_type": "execute_result",
          "data": {
            "text/plain": [
              "Prediction(uid='AQEO3JYVJJH31', iid='059035342X', r_ui=None, est=4.479512448921906, details={'was_impossible': False})"
            ]
          },
          "metadata": {
            "tags": []
          },
          "execution_count": 98
        }
      ]
    },
    {
      "cell_type": "markdown",
      "metadata": {
        "id": "jT8kNOmvtkr0"
      },
      "source": [
        "Making predictions using user and book dfs"
      ]
    },
    {
      "cell_type": "code",
      "metadata": {
        "id": "OCCVwZKp3s2F"
      },
      "source": [
        "# read the csv into a dataframe\n",
        "#path = \"/content/drive/My Drive/data/ce256/project/sample_user_name.csv\"\n",
        "#user_df = pd.read_csv(path)\n",
        "\n",
        "user_df = pd.read_csv(\"sample_user_name.csv\")"
      ],
      "execution_count": null,
      "outputs": []
    },
    {
      "cell_type": "code",
      "metadata": {
        "id": "7T-ibMui30R-",
        "outputId": "f607c618-6466-4e5b-847c-bd8cadeb00bf",
        "colab": {
          "base_uri": "https://localhost:8080/",
          "height": 79
        }
      },
      "source": [
        "user_df.head(5)"
      ],
      "execution_count": null,
      "outputs": [
        {
          "output_type": "execute_result",
          "data": {
            "text/html": [
              "<div>\n",
              "<style scoped>\n",
              "    .dataframe tbody tr th:only-of-type {\n",
              "        vertical-align: middle;\n",
              "    }\n",
              "\n",
              "    .dataframe tbody tr th {\n",
              "        vertical-align: top;\n",
              "    }\n",
              "\n",
              "    .dataframe thead th {\n",
              "        text-align: right;\n",
              "    }\n",
              "</style>\n",
              "<table border=\"1\" class=\"dataframe\">\n",
              "  <thead>\n",
              "    <tr style=\"text-align: right;\">\n",
              "      <th></th>\n",
              "      <th>username</th>\n",
              "      <th>id</th>\n",
              "    </tr>\n",
              "  </thead>\n",
              "  <tbody>\n",
              "    <tr>\n",
              "      <th>0</th>\n",
              "      <td>user1</td>\n",
              "      <td>AQEO3JYVJJH31</td>\n",
              "    </tr>\n",
              "  </tbody>\n",
              "</table>\n",
              "</div>"
            ],
            "text/plain": [
              "  username             id\n",
              "0    user1  AQEO3JYVJJH31"
            ]
          },
          "metadata": {
            "tags": []
          },
          "execution_count": 100
        }
      ]
    },
    {
      "cell_type": "code",
      "metadata": {
        "id": "VQOcxdPo314L"
      },
      "source": [
        "user_dict = {}\n",
        "for i in range(len(user_df)):\n",
        "    user_dict[user_df.iloc[i].username] = user_df.iloc[i].id"
      ],
      "execution_count": null,
      "outputs": []
    },
    {
      "cell_type": "code",
      "metadata": {
        "id": "v2O8pTQdDEr-",
        "outputId": "fabf3905-8da5-4aa0-84dd-2f269f93972c",
        "colab": {
          "base_uri": "https://localhost:8080/"
        }
      },
      "source": [
        "print(user_dict)"
      ],
      "execution_count": null,
      "outputs": [
        {
          "output_type": "stream",
          "text": [
            "{'user1': 'AQEO3JYVJJH31'}\n"
          ],
          "name": "stdout"
        }
      ]
    },
    {
      "cell_type": "code",
      "metadata": {
        "id": "SLfoWrle33gi"
      },
      "source": [
        "# read the csv into a dataframe\n",
        "path = \"/content/drive/My Drive/data/ce256/project/sample_book_name.csv\"\n",
        "book_df = pd.read_csv(path)\n",
        "\n",
        "#movie_df = pd.read_csv(\"movie_name.csv\")"
      ],
      "execution_count": null,
      "outputs": []
    },
    {
      "cell_type": "code",
      "metadata": {
        "id": "QORu7gsa4AJ0",
        "outputId": "7e3a2bad-2069-4d69-d1b9-e7b42fe1546f",
        "colab": {
          "base_uri": "https://localhost:8080/",
          "height": 171
        }
      },
      "source": [
        "book_df.head(5)"
      ],
      "execution_count": null,
      "outputs": [
        {
          "output_type": "execute_result",
          "data": {
            "text/html": [
              "<div>\n",
              "<style scoped>\n",
              "    .dataframe tbody tr th:only-of-type {\n",
              "        vertical-align: middle;\n",
              "    }\n",
              "\n",
              "    .dataframe tbody tr th {\n",
              "        vertical-align: top;\n",
              "    }\n",
              "\n",
              "    .dataframe thead th {\n",
              "        text-align: right;\n",
              "    }\n",
              "</style>\n",
              "<table border=\"1\" class=\"dataframe\">\n",
              "  <thead>\n",
              "    <tr style=\"text-align: right;\">\n",
              "      <th></th>\n",
              "      <th>bookName</th>\n",
              "      <th>id</th>\n",
              "    </tr>\n",
              "  </thead>\n",
              "  <tbody>\n",
              "    <tr>\n",
              "      <th>0</th>\n",
              "      <td>A Gentleman in Moscow</td>\n",
              "      <td>91944244</td>\n",
              "    </tr>\n",
              "    <tr>\n",
              "      <th>1</th>\n",
              "      <td>All the Light We Cannot See</td>\n",
              "      <td>7548672</td>\n",
              "    </tr>\n",
              "    <tr>\n",
              "      <th>2</th>\n",
              "      <td>The Anatomy of Peace: Resolving the Heart of C...</td>\n",
              "      <td>141047666</td>\n",
              "    </tr>\n",
              "    <tr>\n",
              "      <th>3</th>\n",
              "      <td>The Complete Idiot's Guide to Music Theory</td>\n",
              "      <td>28643771</td>\n",
              "    </tr>\n",
              "  </tbody>\n",
              "</table>\n",
              "</div>"
            ],
            "text/plain": [
              "                                            bookName         id\n",
              "0                              A Gentleman in Moscow   91944244\n",
              "1                        All the Light We Cannot See    7548672\n",
              "2  The Anatomy of Peace: Resolving the Heart of C...  141047666\n",
              "3         The Complete Idiot's Guide to Music Theory   28643771"
            ]
          },
          "metadata": {
            "tags": []
          },
          "execution_count": 104
        }
      ]
    },
    {
      "cell_type": "code",
      "metadata": {
        "id": "ZmbwlIlJbpFw"
      },
      "source": [
        "\"\"\"Add leading zeros to get the correct 10-digit ASIN.\n",
        ":param book_df: The df containing a column called \"id\" which need to be 10-digit ASINs\n",
        "\"\"\"\n",
        "def add_leading_zeros_to_ids(book_df):\n",
        "  for id in book_df[\"id\"]:\n",
        "    # print(str(id).zfill(10))\n",
        "    ten_digit_id = str(id).zfill(10)\n",
        "    book_df[\"id\"] = book_df[\"id\"].replace([id], ten_digit_id)"
      ],
      "execution_count": null,
      "outputs": []
    },
    {
      "cell_type": "code",
      "metadata": {
        "id": "9WnqIZIvhNiv",
        "outputId": "dc4e669d-2eb8-42a3-aec7-c5652a52d41b",
        "colab": {
          "base_uri": "https://localhost:8080/",
          "height": 171
        }
      },
      "source": [
        "add_leading_zeros_to_ids(book_df)\n",
        "book_df.head()"
      ],
      "execution_count": null,
      "outputs": [
        {
          "output_type": "execute_result",
          "data": {
            "text/html": [
              "<div>\n",
              "<style scoped>\n",
              "    .dataframe tbody tr th:only-of-type {\n",
              "        vertical-align: middle;\n",
              "    }\n",
              "\n",
              "    .dataframe tbody tr th {\n",
              "        vertical-align: top;\n",
              "    }\n",
              "\n",
              "    .dataframe thead th {\n",
              "        text-align: right;\n",
              "    }\n",
              "</style>\n",
              "<table border=\"1\" class=\"dataframe\">\n",
              "  <thead>\n",
              "    <tr style=\"text-align: right;\">\n",
              "      <th></th>\n",
              "      <th>bookName</th>\n",
              "      <th>id</th>\n",
              "    </tr>\n",
              "  </thead>\n",
              "  <tbody>\n",
              "    <tr>\n",
              "      <th>0</th>\n",
              "      <td>A Gentleman in Moscow</td>\n",
              "      <td>0091944244</td>\n",
              "    </tr>\n",
              "    <tr>\n",
              "      <th>1</th>\n",
              "      <td>All the Light We Cannot See</td>\n",
              "      <td>0007548672</td>\n",
              "    </tr>\n",
              "    <tr>\n",
              "      <th>2</th>\n",
              "      <td>The Anatomy of Peace: Resolving the Heart of C...</td>\n",
              "      <td>0141047666</td>\n",
              "    </tr>\n",
              "    <tr>\n",
              "      <th>3</th>\n",
              "      <td>The Complete Idiot's Guide to Music Theory</td>\n",
              "      <td>0028643771</td>\n",
              "    </tr>\n",
              "  </tbody>\n",
              "</table>\n",
              "</div>"
            ],
            "text/plain": [
              "                                            bookName          id\n",
              "0                              A Gentleman in Moscow  0091944244\n",
              "1                        All the Light We Cannot See  0007548672\n",
              "2  The Anatomy of Peace: Resolving the Heart of C...  0141047666\n",
              "3         The Complete Idiot's Guide to Music Theory  0028643771"
            ]
          },
          "metadata": {
            "tags": []
          },
          "execution_count": 106
        }
      ]
    },
    {
      "cell_type": "code",
      "metadata": {
        "id": "DcNhGpQV4J5A"
      },
      "source": [
        "book_dict = {}\n",
        "for i in range(len(book_df)):\n",
        "    book_dict[book_df.iloc[i].id] = book_df.iloc[i].bookName"
      ],
      "execution_count": null,
      "outputs": []
    },
    {
      "cell_type": "code",
      "metadata": {
        "id": "ASd5f_PTJxHq",
        "outputId": "1922cd51-b0f9-45be-d8f3-aeded4b6c8e6",
        "colab": {
          "base_uri": "https://localhost:8080/"
        }
      },
      "source": [
        "print(book_dict)"
      ],
      "execution_count": null,
      "outputs": [
        {
          "output_type": "stream",
          "text": [
            "{'0091944244': 'A Gentleman in Moscow', '0007548672': 'All the Light We Cannot See', '0141047666': 'The Anatomy of Peace: Resolving the Heart of Conflict', '0028643771': \"The Complete Idiot's Guide to Music Theory\"}\n"
          ],
          "name": "stdout"
        }
      ]
    },
    {
      "cell_type": "code",
      "metadata": {
        "id": "ZdeRMZGw1zJ6"
      },
      "source": [
        "from collections import defaultdict\n",
        "\n",
        "def getBookRecommendations(topN=3):\n",
        "    top_recs = defaultdict(list)\n",
        "    # for uid, iid, true_r, est, _ in predictions: \n",
        "    for uid, iid, true_r, est, _ in predictions_svd: \n",
        "        top_recs[uid].append((iid, est))\n",
        "     \n",
        "    for uid, user_ratings in top_recs.items():\n",
        "        user_ratings.sort(key = lambda x: x[1], reverse = True)\n",
        "        top_recs[uid] = user_ratings[:topN]\n",
        "     \n",
        "    return top_recs "
      ],
      "execution_count": null,
      "outputs": []
    },
    {
      "cell_type": "code",
      "metadata": {
        "id": "-SnPJdNz3nbq"
      },
      "source": [
        "recommendations = getBookRecommendations(3)"
      ],
      "execution_count": null,
      "outputs": []
    },
    {
      "cell_type": "code",
      "metadata": {
        "id": "68I2ZoqB4Uav"
      },
      "source": [
        "def getBookName(book_id):\n",
        "    if book_id not in book_dict:\n",
        "        return \"\"\n",
        "    b = book_dict[book_id]\n",
        "    return b"
      ],
      "execution_count": null,
      "outputs": []
    },
    {
      "cell_type": "code",
      "metadata": {
        "id": "4l7Lt1UU4dbX"
      },
      "source": [
        "def getBookRecommendationsForUser(userId, recommendations):\n",
        "    if userId not in user_dict:\n",
        "        print(\"User id is not present\")\n",
        "        return\n",
        "    u_id = user_dict[userId]\n",
        "    recommended_books = recommendations[u_id]\n",
        "    book_list = []\n",
        "    for book in recommended_books:\n",
        "        book_list.append((getBookName(book[0]),book[1]))\n",
        "    return book_list    "
      ],
      "execution_count": null,
      "outputs": []
    },
    {
      "cell_type": "code",
      "metadata": {
        "id": "A-bqnUIa4qcA",
        "outputId": "f387379a-f64f-4d9c-fe3c-add8184c6cac",
        "colab": {
          "base_uri": "https://localhost:8080/"
        }
      },
      "source": [
        "# change to user ID\n",
        "getBookRecommendationsForUser('user1',recommendations)"
      ],
      "execution_count": null,
      "outputs": [
        {
          "output_type": "execute_result",
          "data": {
            "text/plain": [
              "[('A Gentleman in Moscow', 4.539754210244321)]"
            ]
          },
          "metadata": {
            "tags": []
          },
          "execution_count": 113
        }
      ]
    },
    {
      "cell_type": "markdown",
      "metadata": {
        "id": "9l2DUsaPZm8e"
      },
      "source": [
        "**Training** - Train a model on the Goodreads dataset"
      ]
    },
    {
      "cell_type": "code",
      "metadata": {
        "id": "cD95K_CrZm8t"
      },
      "source": [
        "import os\n",
        "import json\n",
        "import gzip\n",
        "import pandas as pd\n",
        "from urllib.request import urlopen\n",
        "\n",
        "import numpy as np"
      ],
      "execution_count": null,
      "outputs": []
    },
    {
      "cell_type": "code",
      "metadata": {
        "id": "YW86aAz-Zm8z",
        "outputId": "7dbf1198-b88d-4ac0-9e56-164f8c2be5a8",
        "colab": {
          "base_uri": "https://localhost:8080/"
        }
      },
      "source": [
        "# mount to Google Drive\n",
        "from google.colab import drive\n",
        "drive.mount('/content/drive')"
      ],
      "execution_count": null,
      "outputs": [
        {
          "output_type": "stream",
          "text": [
            "Mounted at /content/drive\n"
          ],
          "name": "stdout"
        }
      ]
    },
    {
      "cell_type": "code",
      "metadata": {
        "id": "808vDh_tZm83",
        "outputId": "78ded8aa-d424-4ac4-bf6e-753c2350d5ac",
        "colab": {
          "base_uri": "https://localhost:8080/",
          "height": 586
        }
      },
      "source": [
        "# Get the first 4 million reviews from CSV named goodreads_reviews_1 in Google Drive\n",
        "\n",
        "# Go to folder containing CSV\n",
        "%cd \"/content/drive/My Drive/data/ce256/project\"\n",
        "# load first 4 million reviews\n",
        "goodreads_df = pd.read_csv(\"goodreads_reviews_1.csv\")\n",
        "\n",
        "# Check the CSV in Google Drive has the correct data\n",
        "goodreads_df.head()"
      ],
      "execution_count": null,
      "outputs": [
        {
          "output_type": "stream",
          "text": [
            "/content/drive/My Drive/data/ce256/project\n"
          ],
          "name": "stdout"
        },
        {
          "output_type": "execute_result",
          "data": {
            "text/html": [
              "<div>\n",
              "<style scoped>\n",
              "    .dataframe tbody tr th:only-of-type {\n",
              "        vertical-align: middle;\n",
              "    }\n",
              "\n",
              "    .dataframe tbody tr th {\n",
              "        vertical-align: top;\n",
              "    }\n",
              "\n",
              "    .dataframe thead th {\n",
              "        text-align: right;\n",
              "    }\n",
              "</style>\n",
              "<table border=\"1\" class=\"dataframe\">\n",
              "  <thead>\n",
              "    <tr style=\"text-align: right;\">\n",
              "      <th></th>\n",
              "      <th>user_id</th>\n",
              "      <th>book_id</th>\n",
              "      <th>review_id</th>\n",
              "      <th>rating</th>\n",
              "      <th>review_text</th>\n",
              "      <th>date_added</th>\n",
              "      <th>date_updated</th>\n",
              "      <th>read_at</th>\n",
              "      <th>started_at</th>\n",
              "      <th>n_votes</th>\n",
              "      <th>n_comments</th>\n",
              "    </tr>\n",
              "  </thead>\n",
              "  <tbody>\n",
              "    <tr>\n",
              "      <th>0</th>\n",
              "      <td>8842281e1d1347389f2ab93d60773d4d</td>\n",
              "      <td>24375664</td>\n",
              "      <td>5cd416f3efc3f944fce4ce2db2290d5e</td>\n",
              "      <td>5</td>\n",
              "      <td>Mind blowingly cool. Best science fiction I've...</td>\n",
              "      <td>Fri Aug 25 13:55:02 -0700 2017</td>\n",
              "      <td>Mon Oct 09 08:55:59 -0700 2017</td>\n",
              "      <td>Sat Oct 07 00:00:00 -0700 2017</td>\n",
              "      <td>Sat Aug 26 00:00:00 -0700 2017</td>\n",
              "      <td>16</td>\n",
              "      <td>0</td>\n",
              "    </tr>\n",
              "    <tr>\n",
              "      <th>1</th>\n",
              "      <td>8842281e1d1347389f2ab93d60773d4d</td>\n",
              "      <td>18245960</td>\n",
              "      <td>dfdbb7b0eb5a7e4c26d59a937e2e5feb</td>\n",
              "      <td>5</td>\n",
              "      <td>This is a special book. It started slow for ab...</td>\n",
              "      <td>Sun Jul 30 07:44:10 -0700 2017</td>\n",
              "      <td>Wed Aug 30 00:00:26 -0700 2017</td>\n",
              "      <td>Sat Aug 26 12:05:52 -0700 2017</td>\n",
              "      <td>Tue Aug 15 13:23:18 -0700 2017</td>\n",
              "      <td>28</td>\n",
              "      <td>1</td>\n",
              "    </tr>\n",
              "    <tr>\n",
              "      <th>2</th>\n",
              "      <td>8842281e1d1347389f2ab93d60773d4d</td>\n",
              "      <td>6392944</td>\n",
              "      <td>5e212a62bced17b4dbe41150e5bb9037</td>\n",
              "      <td>3</td>\n",
              "      <td>I haven't read a fun mystery book in a while a...</td>\n",
              "      <td>Mon Jul 24 02:48:17 -0700 2017</td>\n",
              "      <td>Sun Jul 30 09:28:03 -0700 2017</td>\n",
              "      <td>Tue Jul 25 00:00:00 -0700 2017</td>\n",
              "      <td>Mon Jul 24 00:00:00 -0700 2017</td>\n",
              "      <td>6</td>\n",
              "      <td>0</td>\n",
              "    </tr>\n",
              "    <tr>\n",
              "      <th>3</th>\n",
              "      <td>8842281e1d1347389f2ab93d60773d4d</td>\n",
              "      <td>22078596</td>\n",
              "      <td>fdd13cad0695656be99828cd75d6eb73</td>\n",
              "      <td>4</td>\n",
              "      <td>Fun, fast paced, and disturbing tale of murder...</td>\n",
              "      <td>Mon Jul 24 02:33:09 -0700 2017</td>\n",
              "      <td>Sun Jul 30 10:23:54 -0700 2017</td>\n",
              "      <td>Sun Jul 30 15:42:05 -0700 2017</td>\n",
              "      <td>Tue Jul 25 00:00:00 -0700 2017</td>\n",
              "      <td>22</td>\n",
              "      <td>4</td>\n",
              "    </tr>\n",
              "    <tr>\n",
              "      <th>4</th>\n",
              "      <td>8842281e1d1347389f2ab93d60773d4d</td>\n",
              "      <td>6644782</td>\n",
              "      <td>bd0df91c9d918c0e433b9ab3a9a5c451</td>\n",
              "      <td>4</td>\n",
              "      <td>A fun book that gives you a sense of living in...</td>\n",
              "      <td>Mon Jul 24 02:28:14 -0700 2017</td>\n",
              "      <td>Thu Aug 24 00:07:20 -0700 2017</td>\n",
              "      <td>Sat Aug 05 00:00:00 -0700 2017</td>\n",
              "      <td>Sun Jul 30 00:00:00 -0700 2017</td>\n",
              "      <td>8</td>\n",
              "      <td>0</td>\n",
              "    </tr>\n",
              "  </tbody>\n",
              "</table>\n",
              "</div>"
            ],
            "text/plain": [
              "                            user_id   book_id  ... n_votes  n_comments\n",
              "0  8842281e1d1347389f2ab93d60773d4d  24375664  ...      16           0\n",
              "1  8842281e1d1347389f2ab93d60773d4d  18245960  ...      28           1\n",
              "2  8842281e1d1347389f2ab93d60773d4d   6392944  ...       6           0\n",
              "3  8842281e1d1347389f2ab93d60773d4d  22078596  ...      22           4\n",
              "4  8842281e1d1347389f2ab93d60773d4d   6644782  ...       8           0\n",
              "\n",
              "[5 rows x 11 columns]"
            ]
          },
          "metadata": {
            "tags": []
          },
          "execution_count": 3
        }
      ]
    },
    {
      "cell_type": "code",
      "metadata": {
        "id": "S9vUasPvZm86",
        "outputId": "7d4123e3-0581-43a5-a407-d6496b053f09",
        "colab": {
          "base_uri": "https://localhost:8080/",
          "height": 202
        }
      },
      "source": [
        "# Create ratings df containing only user ID, Goodreads book ID, and rating\n",
        "goodreads_ratings_df = goodreads_df[[\"user_id\", \"book_id\", \"rating\"]].copy()\n",
        "goodreads_ratings_df.head()"
      ],
      "execution_count": null,
      "outputs": [
        {
          "output_type": "execute_result",
          "data": {
            "text/html": [
              "<div>\n",
              "<style scoped>\n",
              "    .dataframe tbody tr th:only-of-type {\n",
              "        vertical-align: middle;\n",
              "    }\n",
              "\n",
              "    .dataframe tbody tr th {\n",
              "        vertical-align: top;\n",
              "    }\n",
              "\n",
              "    .dataframe thead th {\n",
              "        text-align: right;\n",
              "    }\n",
              "</style>\n",
              "<table border=\"1\" class=\"dataframe\">\n",
              "  <thead>\n",
              "    <tr style=\"text-align: right;\">\n",
              "      <th></th>\n",
              "      <th>user_id</th>\n",
              "      <th>book_id</th>\n",
              "      <th>rating</th>\n",
              "    </tr>\n",
              "  </thead>\n",
              "  <tbody>\n",
              "    <tr>\n",
              "      <th>0</th>\n",
              "      <td>8842281e1d1347389f2ab93d60773d4d</td>\n",
              "      <td>24375664</td>\n",
              "      <td>5</td>\n",
              "    </tr>\n",
              "    <tr>\n",
              "      <th>1</th>\n",
              "      <td>8842281e1d1347389f2ab93d60773d4d</td>\n",
              "      <td>18245960</td>\n",
              "      <td>5</td>\n",
              "    </tr>\n",
              "    <tr>\n",
              "      <th>2</th>\n",
              "      <td>8842281e1d1347389f2ab93d60773d4d</td>\n",
              "      <td>6392944</td>\n",
              "      <td>3</td>\n",
              "    </tr>\n",
              "    <tr>\n",
              "      <th>3</th>\n",
              "      <td>8842281e1d1347389f2ab93d60773d4d</td>\n",
              "      <td>22078596</td>\n",
              "      <td>4</td>\n",
              "    </tr>\n",
              "    <tr>\n",
              "      <th>4</th>\n",
              "      <td>8842281e1d1347389f2ab93d60773d4d</td>\n",
              "      <td>6644782</td>\n",
              "      <td>4</td>\n",
              "    </tr>\n",
              "  </tbody>\n",
              "</table>\n",
              "</div>"
            ],
            "text/plain": [
              "                            user_id   book_id  rating\n",
              "0  8842281e1d1347389f2ab93d60773d4d  24375664       5\n",
              "1  8842281e1d1347389f2ab93d60773d4d  18245960       5\n",
              "2  8842281e1d1347389f2ab93d60773d4d   6392944       3\n",
              "3  8842281e1d1347389f2ab93d60773d4d  22078596       4\n",
              "4  8842281e1d1347389f2ab93d60773d4d   6644782       4"
            ]
          },
          "metadata": {
            "tags": []
          },
          "execution_count": 4
        }
      ]
    },
    {
      "cell_type": "code",
      "metadata": {
        "id": "9sV28mJyZm88"
      },
      "source": [
        "# Save the Goodreads user ID, book ID, and rating dataframe as a CSV\n",
        "# goodreads_ratings_df.to_csv(\"ratings_4mill_goodreads.csv\", index=False)\n",
        "# print(\"Finished saving.\")"
      ],
      "execution_count": null,
      "outputs": []
    },
    {
      "cell_type": "code",
      "metadata": {
        "id": "QCkB12Dvc0yU",
        "outputId": "a56ea2c6-8b36-4302-c8b2-f3a54b1d4e3e",
        "colab": {
          "base_uri": "https://localhost:8080/"
        }
      },
      "source": [
        "# Credits-Prof Eirinaki, Rashmi Sharma and Aditya Patel\n",
        "# conda install -c conda-forge scikit-surprise\n",
        "!pip install scikit-surprise\n",
        "from surprise import BaselineOnly\n",
        "from surprise import Dataset\n",
        "from surprise import Reader\n",
        "from surprise.model_selection.split import train_test_split\n",
        "from surprise.model_selection import cross_validate, GridSearchCV\n",
        "import pandas as pd\n",
        "import numpy as np\n",
        "import os, io\n",
        "from surprise import KNNBasic, KNNWithMeans\n",
        "from surprise import SVDpp\n",
        "from surprise import SVD\n",
        "from surprise import accuracy"
      ],
      "execution_count": null,
      "outputs": [
        {
          "output_type": "stream",
          "text": [
            "Collecting scikit-surprise\n",
            "\u001b[?25l  Downloading https://files.pythonhosted.org/packages/97/37/5d334adaf5ddd65da99fc65f6507e0e4599d092ba048f4302fe8775619e8/scikit-surprise-1.1.1.tar.gz (11.8MB)\n",
            "\u001b[K     |████████████████████████████████| 11.8MB 4.9MB/s \n",
            "\u001b[?25hRequirement already satisfied: joblib>=0.11 in /usr/local/lib/python3.6/dist-packages (from scikit-surprise) (0.17.0)\n",
            "Requirement already satisfied: numpy>=1.11.2 in /usr/local/lib/python3.6/dist-packages (from scikit-surprise) (1.18.5)\n",
            "Requirement already satisfied: scipy>=1.0.0 in /usr/local/lib/python3.6/dist-packages (from scikit-surprise) (1.4.1)\n",
            "Requirement already satisfied: six>=1.10.0 in /usr/local/lib/python3.6/dist-packages (from scikit-surprise) (1.15.0)\n",
            "Building wheels for collected packages: scikit-surprise\n",
            "  Building wheel for scikit-surprise (setup.py) ... \u001b[?25l\u001b[?25hdone\n",
            "  Created wheel for scikit-surprise: filename=scikit_surprise-1.1.1-cp36-cp36m-linux_x86_64.whl size=1670934 sha256=300dfb6ac0e708174c143716697329490c95262794eb73925fca0fdfbd05acc2\n",
            "  Stored in directory: /root/.cache/pip/wheels/78/9c/3d/41b419c9d2aff5b6e2b4c0fc8d25c538202834058f9ed110d0\n",
            "Successfully built scikit-surprise\n",
            "Installing collected packages: scikit-surprise\n",
            "Successfully installed scikit-surprise-1.1.1\n"
          ],
          "name": "stdout"
        }
      ]
    },
    {
      "cell_type": "code",
      "metadata": {
        "id": "lnjvwLmXc0yb"
      },
      "source": [
        "reader = Reader(rating_scale=(1,5))  #invoke reader instance of surprise library\n",
        "data=Dataset.load_from_df(goodreads_ratings_df,reader) #load dataset into Surprise datastructure Dataset"
      ],
      "execution_count": null,
      "outputs": []
    },
    {
      "cell_type": "code",
      "metadata": {
        "id": "-7zjKSgjc0yd"
      },
      "source": [
        "#create training set\n",
        "trainingSet, testSet = train_test_split(data, test_size=0.2, train_size=None, random_state=None, shuffle=True)"
      ],
      "execution_count": null,
      "outputs": []
    },
    {
      "cell_type": "code",
      "metadata": {
        "id": "dWCV3rLuc0yf"
      },
      "source": [
        "#SVD\n",
        "svd = SVD()\n",
        "svd.fit(trainingSet) #fit model to the training set\n",
        "predictions_svd = svd.test(testSet) #predict for test set values"
      ],
      "execution_count": null,
      "outputs": []
    },
    {
      "cell_type": "markdown",
      "metadata": {
        "id": "75n6eEJSc0yh"
      },
      "source": [
        "Testing"
      ]
    },
    {
      "cell_type": "code",
      "metadata": {
        "id": "aYCcotgfc0yi",
        "outputId": "758b618e-28a4-4f6f-9943-987d36574f03",
        "colab": {
          "base_uri": "https://localhost:8080/"
        }
      },
      "source": [
        "#validating rating predictions using RMSE\n",
        "accuracy.rmse(predictions_svd, verbose=True) "
      ],
      "execution_count": null,
      "outputs": [
        {
          "output_type": "stream",
          "text": [
            "RMSE: 1.0788\n"
          ],
          "name": "stdout"
        },
        {
          "output_type": "execute_result",
          "data": {
            "text/plain": [
              "1.0787506691890305"
            ]
          },
          "metadata": {
            "tags": []
          },
          "execution_count": 10
        }
      ]
    },
    {
      "cell_type": "markdown",
      "metadata": {
        "id": "YcH3Vzttc0yj"
      },
      "source": [
        "Making Predictions"
      ]
    },
    {
      "cell_type": "code",
      "metadata": {
        "id": "0aIxCUu4c0yl",
        "outputId": "1a914921-b693-4c50-8196-d085d05a3937",
        "colab": {
          "base_uri": "https://localhost:8080/"
        }
      },
      "source": [
        "# Get predicted ratings of a user in the dataset\n",
        "goodreads_user_id = \"8842281e1d1347389f2ab93d60773d4d\"\n",
        "svd.predict(goodreads_user_id, \"24375664\") # The Dark Forest (Remembrance of Earth’s Past, #2), user already rated this 5.0\n",
        "svd.predict(goodreads_user_id, \"18245960\") # The Three-Body Problem (Remembrance of Earth’s Past, #1), user already rated this 5.0\n",
        "svd.predict(goodreads_user_id, \"6392944\") # The Murder on the Links (Hercule Poirot, #2), user already rated this 3.0"
      ],
      "execution_count": null,
      "outputs": [
        {
          "output_type": "execute_result",
          "data": {
            "text/plain": [
              "Prediction(uid='8842281e1d1347389f2ab93d60773d4d', iid='6392944', r_ui=None, est=3.3759328843860725, details={'was_impossible': False})"
            ]
          },
          "metadata": {
            "tags": []
          },
          "execution_count": 18
        }
      ]
    },
    {
      "cell_type": "code",
      "metadata": {
        "id": "rM4FfEoWeXRM",
        "outputId": "d0999ebc-7d7f-4dc1-b84a-3bc6c843250f",
        "colab": {
          "base_uri": "https://localhost:8080/"
        }
      },
      "source": [
        "# Get the titles of these books using client and Goodreads book ID\n",
        "import time\n",
        "get_title_with_goodreads_api(client, \"24375664\")\n",
        "time.sleep(1)\n",
        "get_title_with_goodreads_api(client, \"18245960\")\n",
        "time.sleep(1)\n",
        "get_title_with_goodreads_api(client, \"6392944\")"
      ],
      "execution_count": null,
      "outputs": [
        {
          "output_type": "stream",
          "text": [
            "{'id': '24375664', 'title': 'The Dark Forest (Remembrance of Earth’s Past, #2)', 'isbn': None}\n",
            "{'id': '18245960', 'title': 'The Three-Body Problem (Remembrance of Earth’s Past, #1)', 'isbn': None}\n",
            "{'id': '6392944', 'title': 'The Murder on the Links (Hercule Poirot, #2)', 'isbn': None}\n"
          ],
          "name": "stdout"
        },
        {
          "output_type": "execute_result",
          "data": {
            "text/plain": [
              "{'id': '6392944',\n",
              " 'isbn': None,\n",
              " 'title': 'The Murder on the Links (Hercule Poirot, #2)'}"
            ]
          },
          "metadata": {
            "tags": []
          },
          "execution_count": 17
        }
      ]
    },
    {
      "cell_type": "markdown",
      "metadata": {
        "id": "PqCoLYcESBAn"
      },
      "source": [
        "---\n",
        "**Display** title and authors\n",
        "\n",
        "After getting final list of recommended books of an Amazon user, display title and authors."
      ]
    },
    {
      "cell_type": "markdown",
      "metadata": {
        "id": "0BYPfqtONM_s"
      },
      "source": [
        "The model should know which users and books are unique. This is to make sure the model is not accidentally recommending the same book from Goodreads that a user has reviewed on Amazon."
      ]
    },
    {
      "cell_type": "markdown",
      "metadata": {
        "id": "6YOYSfh6n3rd"
      },
      "source": [
        "The model will assume all users on Amazon are \n",
        "different from all users on Goodreads.\n",
        "That is, all user IDs are unique. There is no user with both an Amazon and Goodreads ID."
      ]
    },
    {
      "cell_type": "markdown",
      "metadata": {
        "id": "XPocqKWUqAQX"
      },
      "source": [
        "To know which books are unique, we can check the book title and authors. If two books have the same title and authors, they are the same book.\n",
        "\n",
        "- The Amazon ASIN of a book is the same as the book's 10-digit ISBN (International Standard Book Number). \n",
        "- Can use Google Books API and ISBN to get book title and author.\n",
        " \n",
        "See links:\n",
        "- https://www.oreilly.com/library/view/amazon-hacks/0596005423/ch01s03.html\n",
        "- https://gist.github.com/AO8/faa3f52d3d5eac63820cfa7ec2b24aa7"
      ]
    },
    {
      "cell_type": "code",
      "metadata": {
        "id": "DSFq-KWt_6Ft"
      },
      "source": [
        "\"\"\"Searches a dictionary and returns title and authors if they exist,\n",
        "returns None otherwise.\n",
        "\n",
        ":param obj: a Python dictionary that was decoded from JSON\n",
        ":param isbn: the ISBN this book should have\n",
        ":returns: The result's title and authors if title and authors can be found, \n",
        "None otherwise\n",
        "\"\"\"\n",
        "def get_title_and_authors_by_isbn(obj, isbn):\n",
        "    volume_info = obj[\"items\"][0] \n",
        "    if \"title\" in volume_info[\"volumeInfo\"] and \"authors\" in volume_info[\"volumeInfo\"]:\n",
        "      title = volume_info[\"volumeInfo\"][\"title\"]\n",
        "      authors = volume_info[\"volumeInfo\"][\"authors\"]\n",
        "      return (title, authors)\n",
        "    else:\n",
        "      print(\"Title or authors not found for ISBN: \" + isbn)\n",
        "      return None"
      ],
      "execution_count": null,
      "outputs": []
    },
    {
      "cell_type": "code",
      "metadata": {
        "id": "UvewKZtQsLc9"
      },
      "source": [
        "\"\"\"Uses Google Books API and an ISBN \n",
        "and returns title and author of book with that ISBN.\n",
        "\n",
        ":param isbn: the ISBN this book should have\n",
        ":returns: The title and author if ISBN, title, and author can be found, None otherwise\n",
        "\"\"\"\n",
        "def get_title_and_authors_with_books_api(isbn):\n",
        "  with urlopen(base_api_link + curr_asin) as f:\n",
        "          text = f.read()\n",
        "  decoded_text = text.decode(\"utf-8\")\n",
        "  # deserializes decoded_text to a Python object (dictionary)\n",
        "  obj = json.loads(decoded_text)\n",
        "  # pretty_print_json(obj)\n",
        "  if (\"items\" in obj):\n",
        "    # print(\"current ISBN: \" + curr_asin)\n",
        "    return get_title_and_authors_by_isbn(obj, curr_asin)\n",
        "  else:\n",
        "    print(\"No items found with ISBN: \" + curr_asin)\n",
        "    return None"
      ],
      "execution_count": null,
      "outputs": []
    },
    {
      "cell_type": "code",
      "metadata": {
        "id": "qP_IamQkk8Wy"
      },
      "source": [
        "\"\"\"Print a dictionary decoded from JSON into a human-readable format, with 4 tabs\n",
        ":param obj: a Python dictionary that was decoded from JSON\n",
        ":returns: A human-readable String\n",
        "\"\"\"\n",
        "def pretty_print_json(obj):\n",
        "  readable_json_str = json.dumps(obj, indent=4, sort_keys=True)\n",
        "  print(readable_json_str)\n",
        "  return readable_json_str"
      ],
      "execution_count": null,
      "outputs": []
    },
    {
      "cell_type": "code",
      "metadata": {
        "id": "kqCwW0dUmH1Q"
      },
      "source": [
        "# Get ASIN of all books as a list\n",
        "asin_list = amazon_df[\"asin\"].tolist()\n",
        "\n",
        "# Get ASIN list without duplicate ASINs\n",
        "no_duplicates_asin_list = list( dict.fromkeys(asin_list) )\n",
        "# print length to get number of unique ASINs\n",
        "print(len(no_duplicates_asin_list))\n",
        "\n",
        "# List of all titles\n",
        "title_list = []\n",
        "# List of all authors\n",
        "author_list = []\n",
        "\n",
        "# Use Google Books API and ASIN to get title and authors.\n",
        "# Too many requests to API, ex. 1000 requests, gives HTTPError: HTTP Error 429: Too Many Requests\n",
        "# Using isbn: or ISBN: in search query may not return any items at all\n",
        "base_api_link = \"https://www.googleapis.com/books/v1/volumes?q=isbn:\"\n",
        "# Index of current ASIN\n",
        "asin_index = 0\n",
        "# Loop through all unique ASINs and get each book's title and authors\n",
        "while asin_index < 100:\n",
        "  curr_asin = no_duplicates_asin_list[asin_index]\n",
        "\n",
        "  # Result is a tuple of two elements. Element at index 0 is the title, and\n",
        "  # element at index 1 is the list of authors.\n",
        "  result_title_and_authors = get_title_and_authors_with_books_api(curr_asin)\n",
        "  if (result_title_and_authors != None):\n",
        "    # append title\n",
        "    title_list.append(result_title_and_authors[0])\n",
        "    # append authors\n",
        "    author_list.append(result_title_and_authors[1])\n",
        "  asin_index += 1\n",
        "\n",
        "# Use ASIN of each review to get the book's title and authors\n",
        "for title in title_list:\n",
        "  print(title)\n",
        "for authors in author_list:\n",
        "  # print each element from author list, separated by comma and space\n",
        "  print(\", \".join(authors))"
      ],
      "execution_count": null,
      "outputs": []
    },
    {
      "cell_type": "markdown",
      "metadata": {
        "id": "jb5S9ObEAXp3"
      },
      "source": [
        "- Goodreads book ID can be used to get title and author using separate books metadata dataset or Goodreads API.\n",
        "See links:\n",
        "  - https://pypi.org/project/Goodreads/\n",
        "  - https://www.goodreads.com/api\n",
        "  - https://sites.google.com/eng.ucsd.edu/ucsdbookgraph/books\n"
      ]
    },
    {
      "cell_type": "code",
      "metadata": {
        "id": "PPXfj8QHZh_w"
      },
      "source": [
        "\"\"\"Uses Goodreads API Python client and a Goodreads ID\n",
        "and returns Goodreads ID, title, and ISBN of book with that ID.\n",
        "\n",
        ":param client: The Goodreads API Python client\n",
        ":param id: the Goodreads ID this book should have\n",
        ":returns: Dictionary with the Goodreads ID, title, and ISBN of the book\n",
        "\"\"\"\n",
        "def get_title_with_goodreads_api(client, id):\n",
        "  book = client.Book.show(id)\n",
        "  keys_wanted = ['id', 'title', 'isbn']\n",
        "  reduced_book = {k:v for k, v in book.items() if k in keys_wanted}\n",
        "  print(reduced_book)\n",
        "  return reduced_book"
      ],
      "execution_count": null,
      "outputs": []
    },
    {
      "cell_type": "code",
      "metadata": {
        "id": "GScjfSC1l_zr"
      },
      "source": [
        "\"\"\"Uses Goodreads API Python client and an ISBN\n",
        "and returns Goodreads ID, title, and ISBN of book with that ID.\n",
        "\n",
        ":param client: The Goodreads API Python client\n",
        ":param isbn: The ISBN this book should have\n",
        ":returns: Dictionary with the Goodreads ID, title, and ISBN of the book\n",
        "\"\"\"\n",
        "def get_title_with_goodreads_api_and_isbn(client, isbn):\n",
        "  book = client.Book.show_by_isbn(isbn)\n",
        "  keys_wanted = ['id', 'title', 'isbn']\n",
        "  reduced_book = {k:v for k, v in book.items() if k in keys_wanted}\n",
        "  print(reduced_book)\n",
        "  return reduced_book"
      ],
      "execution_count": null,
      "outputs": []
    },
    {
      "cell_type": "code",
      "metadata": {
        "id": "IjX_JyvObDTX",
        "outputId": "15f5e06c-6329-4e33-935d-65c5e747d324",
        "colab": {
          "base_uri": "https://localhost:8080/"
        }
      },
      "source": [
        "# Test using Goodreads API on a random Goodreads book ID\n",
        "get_title_with_goodreads_api(client, \"1\")\n",
        "get_title_with_goodreads_api(client, \"4986701\")\n",
        "# Test using Goodreads API on a random ISBN\n",
        "get_title_with_goodreads_api_and_isbn(client, \"0001932349\")\n",
        "get_title_with_goodreads_api_and_isbn(client, \"0002005263\")"
      ],
      "execution_count": null,
      "outputs": [
        {
          "output_type": "stream",
          "text": [
            "{'id': '1', 'title': 'Harry Potter and the Half-Blood Prince (Harry Potter, #6)', 'isbn': None}\n",
            "{'id': '4986701', 'title': 'Ready-to-Use Old-Fashioned Illustrations of Books, Reading and Writing', 'isbn': '0486270939'}\n",
            "{'id': '1971963', 'title': 'Love is a Special Way of Feeling', 'isbn': '0001932349'}\n",
            "{'id': '9874253', 'title': 'The Sinister Pig', 'isbn': '0002005263'}\n"
          ],
          "name": "stdout"
        },
        {
          "output_type": "execute_result",
          "data": {
            "text/plain": [
              "{'id': '9874253', 'isbn': '0002005263', 'title': 'The Sinister Pig'}"
            ]
          },
          "metadata": {
            "tags": []
          },
          "execution_count": 8
        }
      ]
    },
    {
      "cell_type": "code",
      "metadata": {
        "id": "iovaMnMflN97"
      },
      "source": [
        ""
      ],
      "execution_count": null,
      "outputs": []
    }
  ]
}