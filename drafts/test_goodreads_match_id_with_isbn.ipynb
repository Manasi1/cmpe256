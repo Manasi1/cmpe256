{
  "nbformat": 4,
  "nbformat_minor": 0,
  "metadata": {
    "colab": {
      "name": "test_goodreads_match_id_with_isbn.ipynb",
      "provenance": []
    },
    "kernelspec": {
      "name": "python3",
      "display_name": "Python 3"
    }
  },
  "cells": [
    {
      "cell_type": "code",
      "metadata": {
        "id": "Vy4SyNDBFxwA"
      },
      "source": [
        "import gzip\n",
        "import json\n",
        "import numpy as np\n",
        "import pandas as pd"
      ],
      "execution_count": null,
      "outputs": []
    },
    {
      "cell_type": "code",
      "metadata": {
        "id": "AANQplEmE6Bu",
        "outputId": "3d819743-66a5-42b5-aaa2-ba3c74c5436a",
        "colab": {
          "base_uri": "https://localhost:8080/"
        }
      },
      "source": [
        "# mount to Google Drive\n",
        "from google.colab import drive\n",
        "drive.mount('/content/drive')"
      ],
      "execution_count": null,
      "outputs": [
        {
          "output_type": "stream",
          "text": [
            "Drive already mounted at /content/drive; to attempt to forcibly remount, call drive.mount(\"/content/drive\", force_remount=True).\n"
          ],
          "name": "stdout"
        }
      ]
    },
    {
      "cell_type": "code",
      "metadata": {
        "id": "7VyqvPvFFAKh",
        "outputId": "2049bd6e-c85b-493a-f482-a3a739ca1ca1",
        "colab": {
          "base_uri": "https://localhost:8080/"
        }
      },
      "source": [
        "# go to folder containing goodreads_reviews_dedup.json.gz, goodreads_books.json, and books.csv from Kaggle dataset\n",
        "%cd \"/content/drive/My Drive/data/ce256/project\""
      ],
      "execution_count": null,
      "outputs": [
        {
          "output_type": "stream",
          "text": [
            "/content/drive/My Drive/data/ce256/project\n"
          ],
          "name": "stdout"
        }
      ]
    },
    {
      "cell_type": "markdown",
      "metadata": {
        "id": "ScFWijUONid3"
      },
      "source": [
        "Load the reviews.\n",
        "\n",
        "Notebook: https://github.com/MengtingWan/goodreads/blob/master/samples.ipynb"
      ]
    },
    {
      "cell_type": "code",
      "metadata": {
        "id": "7BsJ0qtzFKWL"
      },
      "source": [
        "# This function shows how to load datasets\n",
        "def load_data(file_name, head = 10000):\n",
        "    count = 0\n",
        "    data = []\n",
        "    with gzip.open(file_name) as fin:\n",
        "        for l in fin:\n",
        "            d = json.loads(l)\n",
        "            count += 1\n",
        "            data.append(d)\n",
        "            \n",
        "            # break if reaches the 100th line\n",
        "            if (head is not None) and (count > head):\n",
        "                break\n",
        "    return data"
      ],
      "execution_count": null,
      "outputs": []
    },
    {
      "cell_type": "code",
      "metadata": {
        "id": "DvTSQceIFN8f",
        "outputId": "1d469c44-832a-4f34-d0e4-7cde2a6282eb",
        "colab": {
          "base_uri": "https://localhost:8080/"
        }
      },
      "source": [
        "# Load and display sample records of book reviews\n",
        "reviews = load_data('goodreads_reviews_dedup.json.gz')\n",
        "np.random.choice(reviews)"
      ],
      "execution_count": null,
      "outputs": [
        {
          "output_type": "execute_result",
          "data": {
            "text/plain": [
              "{'book_id': '29276588',\n",
              " 'date_added': 'Mon Nov 14 20:34:13 -0800 2016',\n",
              " 'date_updated': 'Sun Jan 22 09:12:16 -0800 2017',\n",
              " 'n_comments': 0,\n",
              " 'n_votes': 12,\n",
              " 'rating': 4,\n",
              " 'read_at': 'Sat Jan 14 00:00:00 -0800 2017',\n",
              " 'review_id': '0de5ec40fb9feed73446f3c3d445be06',\n",
              " 'review_text': '4.5 Stars! \\n \"I\\'m good at being what people want me to be. Watch me . . . You\\'ll see.\" \\n In this smart and very engaging mystery, we\\'re treated to three different perspectives on a crime that occurs very early on in the book. Hattie is a good girl, having grown up in a small town where everyone knows everyone else. She aches to break free and move to New York City after high school. Hattie is the perfect daughter, student, girlfriend and friend. \\n But Hattie has a secret life, one that threatens the delicate balance of her small Minnesota farming town. She is merely pretending, acting a role, when the \"real\" Hattie is far from perfect. Her actions will affect and change many people\\'s lives forever. Peter is her high school English teacher who feels trapped in a loveless marriage. And Del is the lead investigator on Hattie\\'s brutal murder. His voice lends a dry wit and careful reason to the series of events unfolding around him. Can he be neutral when the families he has known his whole life are brutally affected by this unspeakable crime? \\n \"Mom warned me that I had a lot to learn about the world. I wished she would\\'ve mentioned how much the learning was going to hurt.\" \\n I was enthralled by this deeply moving thriller! The small-town atmosphere is perfectly captured by the author. Every characters is flawed, some more so than others. I never saw the ending coming. This book was fast-paced, smart and engaging. Don\\'t be put off by the endless comparisons to other best-sellers in this genre. \\'Everything You Want Me to Be\\' stands on its own as a poignant and suspenseful story. Highly recommended for all fans of psychological thrillers and murder mysteries! \\n \"You can\\'t live your life acting for other people. Other people will just use you up. You have to know yourself and figure out what you want. I can\\'t do that for you. Nobody can.\" \\n (With thanks to Atria Books for the ARC.)',\n",
              " 'started_at': 'Sun Jan 08 00:00:00 -0800 2017',\n",
              " 'user_id': '01ec1a320ffded6b2dd47833f2c8e4fb'}"
            ]
          },
          "metadata": {
            "tags": []
          },
          "execution_count": 17
        }
      ]
    },
    {
      "cell_type": "code",
      "metadata": {
        "id": "BICENFMcFUG-",
        "outputId": "351a6386-51e4-437f-e10e-e29d784543ad",
        "colab": {
          "base_uri": "https://localhost:8080/"
        }
      },
      "source": [
        "# Load and display sample records of books\n",
        "books = load_data('goodreads_books.json.gz')\n",
        "np.random.choice(books)"
      ],
      "execution_count": null,
      "outputs": [
        {
          "output_type": "execute_result",
          "data": {
            "text/plain": [
              "{'asin': '',\n",
              " 'authors': [{'author_id': '13919300', 'role': ''}],\n",
              " 'average_rating': '4.75',\n",
              " 'book_id': '26120432',\n",
              " 'country_code': 'US',\n",
              " 'description': '\"I\\'m tired of being what you want me to be, feeling so faithless, lost under the surface.\" - Linkin Park.\\n*A novella* *Can be read before or after the Cut series*\\nPlaying local shows in seedy, downtown pubs when I was just Jamie with his guitar, and coming home to my girl who was waiting for me. A girl I couldn\\'t imagine living without. That was my life. A life I loved. A life that may not have been perfect, or filled with money and fame - but it was perfect to me.\\nPlaying packed out stadiums in beautiful cities, where Jay Ryker is who they scream for; and coming home to an empty hotel and a bottle of bourbon waiting for me. A bottle I wouldn\\'t dare try and live without. This was my life. A life I loathed. A life that may seem perfect on the outside, filled with money and fame - but it wasn\\'t perfect to me.\\nAfter losing my world that meant everything to me; I need to find my way back to the living.\\nI\\'m not sure I even want to. I don\\'t think I would survive any more pain.\\nIt may seem weak, but it\\'s easier being numb.',\n",
              " 'edition_information': '',\n",
              " 'format': 'Paperback',\n",
              " 'image_url': 'https://images.gr-assets.com/books/1439876373m/26120432.jpg',\n",
              " 'is_ebook': 'false',\n",
              " 'isbn': '',\n",
              " 'isbn13': '9781539779773',\n",
              " 'kindle_asin': '',\n",
              " 'language_code': 'eng',\n",
              " 'link': 'https://www.goodreads.com/book/show/26120432-numb',\n",
              " 'num_pages': '',\n",
              " 'popular_shelves': [{'count': '318', 'name': 'to-read'},\n",
              "  {'count': '4', 'name': 'currently-reading'},\n",
              "  {'count': '3', 'name': 'novella'},\n",
              "  {'count': '2', 'name': 'kindle'},\n",
              "  {'count': '1', 'name': 'written'},\n",
              "  {'count': '1', 'name': 'ultimate-book-boys'},\n",
              "  {'count': '1', 'name': 'own-as-paperback'},\n",
              "  {'count': '1', 'name': 'shelf-m-authors'},\n",
              "  {'count': '1', 'name': 'genre-otherfiction'},\n",
              "  {'count': '1', 'name': 'wins-to-be-read'},\n",
              "  {'count': '1', 'name': '1-amazon'},\n",
              "  {'count': '1', 'name': '01-tbr-on-kindle'},\n",
              "  {'count': '1', 'name': 'on-my-kindle'},\n",
              "  {'count': '1', 'name': '01-books'},\n",
              "  {'count': '1', 'name': 'to-read-have'},\n",
              "  {'count': '1', 'name': 'freebie'},\n",
              "  {'count': '1', 'name': 'contemporary-romance'},\n",
              "  {'count': '1', 'name': 'tears'},\n",
              "  {'count': '1', 'name': 'series'},\n",
              "  {'count': '1', 'name': 'pain'},\n",
              "  {'count': '1', 'name': 'loss'},\n",
              "  {'count': '1', 'name': 'arc'},\n",
              "  {'count': '1', 'name': 'giveaway'},\n",
              "  {'count': '1', 'name': 'unreleased'}],\n",
              " 'publication_day': '9',\n",
              " 'publication_month': '12',\n",
              " 'publication_year': '2016',\n",
              " 'publisher': '',\n",
              " 'ratings_count': '15',\n",
              " 'series': ['810760'],\n",
              " 'similar_books': [],\n",
              " 'text_reviews_count': '10',\n",
              " 'title': 'Numb (Cut, #0.5)',\n",
              " 'title_without_series': 'Numb (Cut, #0.5)',\n",
              " 'url': 'https://www.goodreads.com/book/show/26120432-numb',\n",
              " 'work_id': '46068352'}"
            ]
          },
          "metadata": {
            "tags": []
          },
          "execution_count": 18
        }
      ]
    },
    {
      "cell_type": "code",
      "metadata": {
        "id": "IESlmgBxHhrt"
      },
      "source": [
        "reviews_list = pd.DataFrame.from_dict(reviews)\n",
        "books_list = pd.DataFrame.from_dict(books)\n"
      ],
      "execution_count": null,
      "outputs": []
    },
    {
      "cell_type": "code",
      "metadata": {
        "id": "RSKZtRx8FQRt",
        "outputId": "f8e54d41-12de-4a35-b63e-58e602a27c23",
        "colab": {
          "base_uri": "https://localhost:8080/",
          "height": 603
        }
      },
      "source": [
        "# convert list into pandas dataframe\n",
        "goodreads_reviews_df = pd.DataFrame.from_dict(reviews)\n",
        "\n",
        "print(len(goodreads_reviews_df))\n",
        "goodreads_reviews_df.head()\n",
        "\n",
        "\n",
        "# convert list into pandas dataframe\n",
        "goodreads_books_df = pd.DataFrame.from_dict(books)\n",
        "\n",
        "print(len(goodreads_books_df))\n",
        "goodreads_books_df.head()"
      ],
      "execution_count": null,
      "outputs": [
        {
          "output_type": "stream",
          "text": [
            "10001\n",
            "10001\n"
          ],
          "name": "stdout"
        },
        {
          "output_type": "execute_result",
          "data": {
            "text/html": [
              "<div>\n",
              "<style scoped>\n",
              "    .dataframe tbody tr th:only-of-type {\n",
              "        vertical-align: middle;\n",
              "    }\n",
              "\n",
              "    .dataframe tbody tr th {\n",
              "        vertical-align: top;\n",
              "    }\n",
              "\n",
              "    .dataframe thead th {\n",
              "        text-align: right;\n",
              "    }\n",
              "</style>\n",
              "<table border=\"1\" class=\"dataframe\">\n",
              "  <thead>\n",
              "    <tr style=\"text-align: right;\">\n",
              "      <th></th>\n",
              "      <th>isbn</th>\n",
              "      <th>text_reviews_count</th>\n",
              "      <th>series</th>\n",
              "      <th>country_code</th>\n",
              "      <th>language_code</th>\n",
              "      <th>popular_shelves</th>\n",
              "      <th>asin</th>\n",
              "      <th>is_ebook</th>\n",
              "      <th>average_rating</th>\n",
              "      <th>kindle_asin</th>\n",
              "      <th>similar_books</th>\n",
              "      <th>description</th>\n",
              "      <th>format</th>\n",
              "      <th>link</th>\n",
              "      <th>authors</th>\n",
              "      <th>publisher</th>\n",
              "      <th>num_pages</th>\n",
              "      <th>publication_day</th>\n",
              "      <th>isbn13</th>\n",
              "      <th>publication_month</th>\n",
              "      <th>edition_information</th>\n",
              "      <th>publication_year</th>\n",
              "      <th>url</th>\n",
              "      <th>image_url</th>\n",
              "      <th>book_id</th>\n",
              "      <th>ratings_count</th>\n",
              "      <th>work_id</th>\n",
              "      <th>title</th>\n",
              "      <th>title_without_series</th>\n",
              "    </tr>\n",
              "  </thead>\n",
              "  <tbody>\n",
              "    <tr>\n",
              "      <th>0</th>\n",
              "      <td>0312853122</td>\n",
              "      <td>1</td>\n",
              "      <td>[]</td>\n",
              "      <td>US</td>\n",
              "      <td></td>\n",
              "      <td>[{'count': '3', 'name': 'to-read'}, {'count': ...</td>\n",
              "      <td></td>\n",
              "      <td>false</td>\n",
              "      <td>4.00</td>\n",
              "      <td></td>\n",
              "      <td>[]</td>\n",
              "      <td></td>\n",
              "      <td>Paperback</td>\n",
              "      <td>https://www.goodreads.com/book/show/5333265-w-...</td>\n",
              "      <td>[{'author_id': '604031', 'role': ''}]</td>\n",
              "      <td>St. Martin's Press</td>\n",
              "      <td>256</td>\n",
              "      <td>1</td>\n",
              "      <td>9780312853129</td>\n",
              "      <td>9</td>\n",
              "      <td></td>\n",
              "      <td>1984</td>\n",
              "      <td>https://www.goodreads.com/book/show/5333265-w-...</td>\n",
              "      <td>https://images.gr-assets.com/books/1310220028m...</td>\n",
              "      <td>5333265</td>\n",
              "      <td>3</td>\n",
              "      <td>5400751</td>\n",
              "      <td>W.C. Fields: A Life on Film</td>\n",
              "      <td>W.C. Fields: A Life on Film</td>\n",
              "    </tr>\n",
              "    <tr>\n",
              "      <th>1</th>\n",
              "      <td>0743509986</td>\n",
              "      <td>6</td>\n",
              "      <td>[]</td>\n",
              "      <td>US</td>\n",
              "      <td></td>\n",
              "      <td>[{'count': '2634', 'name': 'to-read'}, {'count...</td>\n",
              "      <td></td>\n",
              "      <td>false</td>\n",
              "      <td>3.23</td>\n",
              "      <td>B000FC0PBC</td>\n",
              "      <td>[8709549, 17074050, 28937, 158816, 228563, 112...</td>\n",
              "      <td>Anita Diamant's international bestseller \"The ...</td>\n",
              "      <td>Audio CD</td>\n",
              "      <td>https://www.goodreads.com/book/show/1333909.Go...</td>\n",
              "      <td>[{'author_id': '626222', 'role': ''}]</td>\n",
              "      <td>Simon &amp; Schuster Audio</td>\n",
              "      <td></td>\n",
              "      <td>1</td>\n",
              "      <td>9780743509985</td>\n",
              "      <td>10</td>\n",
              "      <td>Abridged</td>\n",
              "      <td>2001</td>\n",
              "      <td>https://www.goodreads.com/book/show/1333909.Go...</td>\n",
              "      <td>https://s.gr-assets.com/assets/nophoto/book/11...</td>\n",
              "      <td>1333909</td>\n",
              "      <td>10</td>\n",
              "      <td>1323437</td>\n",
              "      <td>Good Harbor</td>\n",
              "      <td>Good Harbor</td>\n",
              "    </tr>\n",
              "    <tr>\n",
              "      <th>2</th>\n",
              "      <td></td>\n",
              "      <td>7</td>\n",
              "      <td>[189911]</td>\n",
              "      <td>US</td>\n",
              "      <td>eng</td>\n",
              "      <td>[{'count': '58', 'name': 'to-read'}, {'count':...</td>\n",
              "      <td>B00071IKUY</td>\n",
              "      <td>false</td>\n",
              "      <td>4.03</td>\n",
              "      <td></td>\n",
              "      <td>[19997, 828466, 1569323, 425389, 1176674, 2627...</td>\n",
              "      <td>Omnibus book club edition containing the Ladie...</td>\n",
              "      <td>Hardcover</td>\n",
              "      <td>https://www.goodreads.com/book/show/7327624-th...</td>\n",
              "      <td>[{'author_id': '10333', 'role': ''}]</td>\n",
              "      <td>Nelson Doubleday, Inc.</td>\n",
              "      <td>600</td>\n",
              "      <td></td>\n",
              "      <td></td>\n",
              "      <td></td>\n",
              "      <td>Book Club Edition</td>\n",
              "      <td>1987</td>\n",
              "      <td>https://www.goodreads.com/book/show/7327624-th...</td>\n",
              "      <td>https://images.gr-assets.com/books/1304100136m...</td>\n",
              "      <td>7327624</td>\n",
              "      <td>140</td>\n",
              "      <td>8948723</td>\n",
              "      <td>The Unschooled Wizard (Sun Wolf and Starhawk, ...</td>\n",
              "      <td>The Unschooled Wizard (Sun Wolf and Starhawk, ...</td>\n",
              "    </tr>\n",
              "    <tr>\n",
              "      <th>3</th>\n",
              "      <td>0743294297</td>\n",
              "      <td>3282</td>\n",
              "      <td>[]</td>\n",
              "      <td>US</td>\n",
              "      <td>eng</td>\n",
              "      <td>[{'count': '7615', 'name': 'to-read'}, {'count...</td>\n",
              "      <td></td>\n",
              "      <td>false</td>\n",
              "      <td>3.49</td>\n",
              "      <td>B002ENBLOK</td>\n",
              "      <td>[6604176, 6054190, 2285777, 82641, 7569453, 70...</td>\n",
              "      <td>Addie Downs and Valerie Adler were eight when ...</td>\n",
              "      <td>Hardcover</td>\n",
              "      <td>https://www.goodreads.com/book/show/6066819-be...</td>\n",
              "      <td>[{'author_id': '9212', 'role': ''}]</td>\n",
              "      <td>Atria Books</td>\n",
              "      <td>368</td>\n",
              "      <td>14</td>\n",
              "      <td>9780743294294</td>\n",
              "      <td>7</td>\n",
              "      <td></td>\n",
              "      <td>2009</td>\n",
              "      <td>https://www.goodreads.com/book/show/6066819-be...</td>\n",
              "      <td>https://s.gr-assets.com/assets/nophoto/book/11...</td>\n",
              "      <td>6066819</td>\n",
              "      <td>51184</td>\n",
              "      <td>6243154</td>\n",
              "      <td>Best Friends Forever</td>\n",
              "      <td>Best Friends Forever</td>\n",
              "    </tr>\n",
              "    <tr>\n",
              "      <th>4</th>\n",
              "      <td>0850308712</td>\n",
              "      <td>5</td>\n",
              "      <td>[]</td>\n",
              "      <td>US</td>\n",
              "      <td></td>\n",
              "      <td>[{'count': '32', 'name': 'to-read'}, {'count':...</td>\n",
              "      <td></td>\n",
              "      <td>false</td>\n",
              "      <td>3.40</td>\n",
              "      <td></td>\n",
              "      <td>[]</td>\n",
              "      <td></td>\n",
              "      <td></td>\n",
              "      <td>https://www.goodreads.com/book/show/287140.Run...</td>\n",
              "      <td>[{'author_id': '149918', 'role': ''}]</td>\n",
              "      <td></td>\n",
              "      <td></td>\n",
              "      <td></td>\n",
              "      <td>9780850308716</td>\n",
              "      <td></td>\n",
              "      <td></td>\n",
              "      <td></td>\n",
              "      <td>https://www.goodreads.com/book/show/287140.Run...</td>\n",
              "      <td>https://images.gr-assets.com/books/1413219371m...</td>\n",
              "      <td>287140</td>\n",
              "      <td>15</td>\n",
              "      <td>278577</td>\n",
              "      <td>Runic Astrology: Starcraft and Timekeeping in ...</td>\n",
              "      <td>Runic Astrology: Starcraft and Timekeeping in ...</td>\n",
              "    </tr>\n",
              "  </tbody>\n",
              "</table>\n",
              "</div>"
            ],
            "text/plain": [
              "         isbn  ...                               title_without_series\n",
              "0  0312853122  ...                        W.C. Fields: A Life on Film\n",
              "1  0743509986  ...                                        Good Harbor\n",
              "2              ...  The Unschooled Wizard (Sun Wolf and Starhawk, ...\n",
              "3  0743294297  ...                               Best Friends Forever\n",
              "4  0850308712  ...  Runic Astrology: Starcraft and Timekeeping in ...\n",
              "\n",
              "[5 rows x 29 columns]"
            ]
          },
          "metadata": {
            "tags": []
          },
          "execution_count": 20
        }
      ]
    },
    {
      "cell_type": "code",
      "metadata": {
        "id": "M_Nq0xTrd9iN",
        "outputId": "768fa3f9-76c1-4fee-e5e7-d8bc296bf81f",
        "colab": {
          "base_uri": "https://localhost:8080/"
        }
      },
      "source": [
        "# print largest and smallest book ID in reviews dataset\n",
        "# convert string to int\n",
        "print(\"Row with largest book ID\")\n",
        "print(goodreads_reviews_df.loc[goodreads_reviews_df['book_id'].astype(int).idxmax()])\n",
        "print(\"Row with smallest book ID\")\n",
        "print(goodreads_reviews_df.loc[goodreads_reviews_df['book_id'].astype(int).idxmin()])"
      ],
      "execution_count": null,
      "outputs": [
        {
          "output_type": "stream",
          "text": [
            "Row with largest book ID\n",
            "user_id                          01ec1a320ffded6b2dd47833f2c8e4fb\n",
            "book_id                                                  36252773\n",
            "review_id                        eb51d6b8d38c25855c47de9b749365aa\n",
            "rating                                                          5\n",
            "review_text     4.5 Kinky Stars!! \\n Eve Dangerfield continues...\n",
            "date_added                         Mon Jul 31 00:18:59 -0700 2017\n",
            "date_updated                       Wed Sep 27 13:50:15 -0700 2017\n",
            "read_at                            Wed Sep 13 00:00:00 -0700 2017\n",
            "started_at                         Tue Sep 12 00:00:00 -0700 2017\n",
            "n_votes                                                        17\n",
            "n_comments                                                      0\n",
            "Name: 401, dtype: object\n",
            "Row with smallest book ID\n",
            "user_id                     4672eb229c808b792b8ea95f01f19784\n",
            "book_id                                                    1\n",
            "review_id                   6b75b2116cd8145e0c18eb5387d726f0\n",
            "rating                                                     5\n",
            "review_text     One of the best books in the series I think.\n",
            "date_added                    Thu Jan 03 12:15:33 -0800 2013\n",
            "date_updated                  Sun Oct 02 14:00:28 -0700 2016\n",
            "read_at                       Sun Sep 06 00:00:00 -0700 2015\n",
            "started_at                    Thu Sep 03 00:00:00 -0700 2015\n",
            "n_votes                                                    0\n",
            "n_comments                                                 4\n",
            "Name: 3016, dtype: object\n"
          ],
          "name": "stdout"
        }
      ]
    },
    {
      "cell_type": "code",
      "metadata": {
        "id": "Kn4SGWbGIdVb",
        "outputId": "f0aef528-6816-4be3-ee8e-c4fc73e24605",
        "colab": {
          "base_uri": "https://localhost:8080/"
        }
      },
      "source": [
        "num_match_id = 0\n",
        "for review_id in goodreads_reviews_df[\"book_id\"]:\n",
        "  for book_id in goodreads_books_df[\"book_id\"]:\n",
        "    if review_id == book_id:\n",
        "      num_match_id += 1\n",
        "\n",
        "print(num_match_id)"
      ],
      "execution_count": null,
      "outputs": [
        {
          "output_type": "stream",
          "text": [
            "41\n"
          ],
          "name": "stdout"
        }
      ]
    },
    {
      "cell_type": "code",
      "metadata": {
        "id": "IYhLYQWhZ8vF",
        "outputId": "4a973f04-e12e-467e-e539-50c4187807f0",
        "colab": {
          "base_uri": "https://localhost:8080/",
          "height": 777
        }
      },
      "source": [
        "# Get Kaggle books dataset as df\n",
        "# https://www.kaggle.com/jealousleopard/goodreadsbooks\n",
        "kaggle_books_df = pd.read_csv(\"books.csv\", error_bad_lines=False)\n",
        "print(len(kaggle_books_df))\n",
        "kaggle_books_df.head()"
      ],
      "execution_count": null,
      "outputs": [
        {
          "output_type": "stream",
          "text": [
            "11123\n"
          ],
          "name": "stdout"
        },
        {
          "output_type": "stream",
          "text": [
            "b'Skipping line 3350: expected 12 fields, saw 13\\nSkipping line 4704: expected 12 fields, saw 13\\nSkipping line 5879: expected 12 fields, saw 13\\nSkipping line 8981: expected 12 fields, saw 13\\n'\n"
          ],
          "name": "stderr"
        },
        {
          "output_type": "execute_result",
          "data": {
            "text/html": [
              "<div>\n",
              "<style scoped>\n",
              "    .dataframe tbody tr th:only-of-type {\n",
              "        vertical-align: middle;\n",
              "    }\n",
              "\n",
              "    .dataframe tbody tr th {\n",
              "        vertical-align: top;\n",
              "    }\n",
              "\n",
              "    .dataframe thead th {\n",
              "        text-align: right;\n",
              "    }\n",
              "</style>\n",
              "<table border=\"1\" class=\"dataframe\">\n",
              "  <thead>\n",
              "    <tr style=\"text-align: right;\">\n",
              "      <th></th>\n",
              "      <th>bookID</th>\n",
              "      <th>title</th>\n",
              "      <th>authors</th>\n",
              "      <th>average_rating</th>\n",
              "      <th>isbn</th>\n",
              "      <th>isbn13</th>\n",
              "      <th>language_code</th>\n",
              "      <th>num_pages</th>\n",
              "      <th>ratings_count</th>\n",
              "      <th>text_reviews_count</th>\n",
              "      <th>publication_date</th>\n",
              "      <th>publisher</th>\n",
              "    </tr>\n",
              "  </thead>\n",
              "  <tbody>\n",
              "    <tr>\n",
              "      <th>0</th>\n",
              "      <td>1</td>\n",
              "      <td>Harry Potter and the Half-Blood Prince (Harry ...</td>\n",
              "      <td>J.K. Rowling/Mary GrandPré</td>\n",
              "      <td>4.57</td>\n",
              "      <td>0439785960</td>\n",
              "      <td>9780439785969</td>\n",
              "      <td>eng</td>\n",
              "      <td>652</td>\n",
              "      <td>2095690</td>\n",
              "      <td>27591</td>\n",
              "      <td>9/16/2006</td>\n",
              "      <td>Scholastic Inc.</td>\n",
              "    </tr>\n",
              "    <tr>\n",
              "      <th>1</th>\n",
              "      <td>2</td>\n",
              "      <td>Harry Potter and the Order of the Phoenix (Har...</td>\n",
              "      <td>J.K. Rowling/Mary GrandPré</td>\n",
              "      <td>4.49</td>\n",
              "      <td>0439358078</td>\n",
              "      <td>9780439358071</td>\n",
              "      <td>eng</td>\n",
              "      <td>870</td>\n",
              "      <td>2153167</td>\n",
              "      <td>29221</td>\n",
              "      <td>9/1/2004</td>\n",
              "      <td>Scholastic Inc.</td>\n",
              "    </tr>\n",
              "    <tr>\n",
              "      <th>2</th>\n",
              "      <td>4</td>\n",
              "      <td>Harry Potter and the Chamber of Secrets (Harry...</td>\n",
              "      <td>J.K. Rowling</td>\n",
              "      <td>4.42</td>\n",
              "      <td>0439554896</td>\n",
              "      <td>9780439554893</td>\n",
              "      <td>eng</td>\n",
              "      <td>352</td>\n",
              "      <td>6333</td>\n",
              "      <td>244</td>\n",
              "      <td>11/1/2003</td>\n",
              "      <td>Scholastic</td>\n",
              "    </tr>\n",
              "    <tr>\n",
              "      <th>3</th>\n",
              "      <td>5</td>\n",
              "      <td>Harry Potter and the Prisoner of Azkaban (Harr...</td>\n",
              "      <td>J.K. Rowling/Mary GrandPré</td>\n",
              "      <td>4.56</td>\n",
              "      <td>043965548X</td>\n",
              "      <td>9780439655484</td>\n",
              "      <td>eng</td>\n",
              "      <td>435</td>\n",
              "      <td>2339585</td>\n",
              "      <td>36325</td>\n",
              "      <td>5/1/2004</td>\n",
              "      <td>Scholastic Inc.</td>\n",
              "    </tr>\n",
              "    <tr>\n",
              "      <th>4</th>\n",
              "      <td>8</td>\n",
              "      <td>Harry Potter Boxed Set  Books 1-5 (Harry Potte...</td>\n",
              "      <td>J.K. Rowling/Mary GrandPré</td>\n",
              "      <td>4.78</td>\n",
              "      <td>0439682584</td>\n",
              "      <td>9780439682589</td>\n",
              "      <td>eng</td>\n",
              "      <td>2690</td>\n",
              "      <td>41428</td>\n",
              "      <td>164</td>\n",
              "      <td>9/13/2004</td>\n",
              "      <td>Scholastic</td>\n",
              "    </tr>\n",
              "  </tbody>\n",
              "</table>\n",
              "</div>"
            ],
            "text/plain": [
              "   bookID  ...        publisher\n",
              "0       1  ...  Scholastic Inc.\n",
              "1       2  ...  Scholastic Inc.\n",
              "2       4  ...       Scholastic\n",
              "3       5  ...  Scholastic Inc.\n",
              "4       8  ...       Scholastic\n",
              "\n",
              "[5 rows x 12 columns]"
            ]
          },
          "metadata": {
            "tags": []
          },
          "execution_count": 30
        }
      ]
    },
    {
      "cell_type": "code",
      "metadata": {
        "id": "D3GpfVdyGs3h",
        "outputId": "44d30823-cab8-4b92-efeb-eef723a39d0c",
        "colab": {
          "base_uri": "https://localhost:8080/"
        }
      },
      "source": [
        "num_match_id = 0\n",
        "for review_id in goodreads_reviews_df[\"book_id\"]:\n",
        "  for book_id in kaggle_books_df[\"bookID\"]:\n",
        "    if review_id == str(book_id):\n",
        "      num_match_id += 1\n",
        "\n",
        "print(num_match_id)"
      ],
      "execution_count": null,
      "outputs": [
        {
          "output_type": "stream",
          "text": [
            "682\n"
          ],
          "name": "stdout"
        }
      ]
    },
    {
      "cell_type": "code",
      "metadata": {
        "id": "1H9j5cTxgRRv",
        "outputId": "87165bdf-b568-4d33-af7f-34505dd40e09",
        "colab": {
          "base_uri": "https://localhost:8080/"
        }
      },
      "source": [
        "for book_id in goodreads_reviews_df[\"book_id\"]:\n",
        "    if book_id == \"1\":\n",
        "      num_match_id += 1\n",
        "      print(\"Got it\")\n",
        "      break"
      ],
      "execution_count": null,
      "outputs": [
        {
          "output_type": "stream",
          "text": [
            "Got it\n"
          ],
          "name": "stdout"
        }
      ]
    },
    {
      "cell_type": "code",
      "metadata": {
        "id": "zZ_T4Ydbg3iv",
        "outputId": "90daaa03-c2d2-4e74-da8a-6f3f74c5df17",
        "colab": {
          "base_uri": "https://localhost:8080/"
        }
      },
      "source": [
        "for book_id in kaggle_books_df[\"bookID\"]:\n",
        "    if book_id == 1:\n",
        "      print(\"Got it\")\n",
        "      break"
      ],
      "execution_count": null,
      "outputs": [
        {
          "output_type": "stream",
          "text": [
            "Got it\n"
          ],
          "name": "stdout"
        }
      ]
    },
    {
      "cell_type": "code",
      "metadata": {
        "id": "AzngD0P0ipt5",
        "outputId": "a7d98ec3-b092-4fa3-be0b-3cd98098661a",
        "colab": {
          "base_uri": "https://localhost:8080/",
          "height": 725
        }
      },
      "source": [
        "# Get 1-100k Kaggle dataset as df\n",
        "# https://www.kaggle.com/bahramjannesarr/goodreads-book-datasets-10m\n",
        "kaggle_100k_books_df = pd.read_csv(\"book1-100k.csv\")\n",
        "print(len(kaggle_100k_books_df))\n",
        "kaggle_100k_books_df.head()"
      ],
      "execution_count": null,
      "outputs": [
        {
          "output_type": "stream",
          "text": [
            "58292\n"
          ],
          "name": "stdout"
        },
        {
          "output_type": "execute_result",
          "data": {
            "text/html": [
              "<div>\n",
              "<style scoped>\n",
              "    .dataframe tbody tr th:only-of-type {\n",
              "        vertical-align: middle;\n",
              "    }\n",
              "\n",
              "    .dataframe tbody tr th {\n",
              "        vertical-align: top;\n",
              "    }\n",
              "\n",
              "    .dataframe thead th {\n",
              "        text-align: right;\n",
              "    }\n",
              "</style>\n",
              "<table border=\"1\" class=\"dataframe\">\n",
              "  <thead>\n",
              "    <tr style=\"text-align: right;\">\n",
              "      <th></th>\n",
              "      <th>Id</th>\n",
              "      <th>Name</th>\n",
              "      <th>RatingDist1</th>\n",
              "      <th>pagesNumber</th>\n",
              "      <th>RatingDist4</th>\n",
              "      <th>RatingDistTotal</th>\n",
              "      <th>PublishMonth</th>\n",
              "      <th>PublishDay</th>\n",
              "      <th>Publisher</th>\n",
              "      <th>CountsOfReview</th>\n",
              "      <th>PublishYear</th>\n",
              "      <th>Language</th>\n",
              "      <th>Authors</th>\n",
              "      <th>Rating</th>\n",
              "      <th>RatingDist2</th>\n",
              "      <th>RatingDist5</th>\n",
              "      <th>ISBN</th>\n",
              "      <th>RatingDist3</th>\n",
              "    </tr>\n",
              "  </thead>\n",
              "  <tbody>\n",
              "    <tr>\n",
              "      <th>0</th>\n",
              "      <td>1</td>\n",
              "      <td>Harry Potter and the Half-Blood Prince (Harry ...</td>\n",
              "      <td>1:9896</td>\n",
              "      <td>652</td>\n",
              "      <td>4:556485</td>\n",
              "      <td>total:2298124</td>\n",
              "      <td>16</td>\n",
              "      <td>9</td>\n",
              "      <td>Scholastic Inc.</td>\n",
              "      <td>28062</td>\n",
              "      <td>2006</td>\n",
              "      <td>eng</td>\n",
              "      <td>J.K. Rowling</td>\n",
              "      <td>4.57</td>\n",
              "      <td>2:25317</td>\n",
              "      <td>5:1546466</td>\n",
              "      <td>NaN</td>\n",
              "      <td>3:159960</td>\n",
              "    </tr>\n",
              "    <tr>\n",
              "      <th>1</th>\n",
              "      <td>2</td>\n",
              "      <td>Harry Potter and the Order of the Phoenix (Har...</td>\n",
              "      <td>1:12455</td>\n",
              "      <td>870</td>\n",
              "      <td>4:604283</td>\n",
              "      <td>total:2358637</td>\n",
              "      <td>1</td>\n",
              "      <td>9</td>\n",
              "      <td>Scholastic Inc.</td>\n",
              "      <td>29770</td>\n",
              "      <td>2004</td>\n",
              "      <td>eng</td>\n",
              "      <td>J.K. Rowling</td>\n",
              "      <td>4.50</td>\n",
              "      <td>2:37005</td>\n",
              "      <td>5:1493113</td>\n",
              "      <td>0439358078</td>\n",
              "      <td>3:211781</td>\n",
              "    </tr>\n",
              "    <tr>\n",
              "      <th>2</th>\n",
              "      <td>3</td>\n",
              "      <td>Harry Potter and the Sorcerer's Stone (Harry P...</td>\n",
              "      <td>1:108202</td>\n",
              "      <td>309</td>\n",
              "      <td>4:1513191</td>\n",
              "      <td>total:6587388</td>\n",
              "      <td>1</td>\n",
              "      <td>11</td>\n",
              "      <td>Scholastic Inc</td>\n",
              "      <td>75911</td>\n",
              "      <td>2003</td>\n",
              "      <td>eng</td>\n",
              "      <td>J.K. Rowling</td>\n",
              "      <td>4.47</td>\n",
              "      <td>2:130310</td>\n",
              "      <td>5:4268227</td>\n",
              "      <td>NaN</td>\n",
              "      <td>3:567458</td>\n",
              "    </tr>\n",
              "    <tr>\n",
              "      <th>3</th>\n",
              "      <td>4</td>\n",
              "      <td>Harry Potter and the Chamber of Secrets (Harry...</td>\n",
              "      <td>1:11896</td>\n",
              "      <td>352</td>\n",
              "      <td>4:706082</td>\n",
              "      <td>total:2560657</td>\n",
              "      <td>1</td>\n",
              "      <td>11</td>\n",
              "      <td>Scholastic</td>\n",
              "      <td>244</td>\n",
              "      <td>2003</td>\n",
              "      <td>eng</td>\n",
              "      <td>J.K. Rowling</td>\n",
              "      <td>4.42</td>\n",
              "      <td>2:49353</td>\n",
              "      <td>5:1504505</td>\n",
              "      <td>0439554896</td>\n",
              "      <td>3:288821</td>\n",
              "    </tr>\n",
              "    <tr>\n",
              "      <th>4</th>\n",
              "      <td>5</td>\n",
              "      <td>Harry Potter and the Prisoner of Azkaban (Harr...</td>\n",
              "      <td>1:10128</td>\n",
              "      <td>435</td>\n",
              "      <td>4:630534</td>\n",
              "      <td>total:2610317</td>\n",
              "      <td>1</td>\n",
              "      <td>5</td>\n",
              "      <td>Scholastic Inc.</td>\n",
              "      <td>37093</td>\n",
              "      <td>2004</td>\n",
              "      <td>eng</td>\n",
              "      <td>J.K. Rowling</td>\n",
              "      <td>4.57</td>\n",
              "      <td>2:24849</td>\n",
              "      <td>5:1749958</td>\n",
              "      <td>043965548X</td>\n",
              "      <td>3:194848</td>\n",
              "    </tr>\n",
              "  </tbody>\n",
              "</table>\n",
              "</div>"
            ],
            "text/plain": [
              "   Id  ... RatingDist3\n",
              "0   1  ...    3:159960\n",
              "1   2  ...    3:211781\n",
              "2   3  ...    3:567458\n",
              "3   4  ...    3:288821\n",
              "4   5  ...    3:194848\n",
              "\n",
              "[5 rows x 18 columns]"
            ]
          },
          "metadata": {
            "tags": []
          },
          "execution_count": 36
        }
      ]
    },
    {
      "cell_type": "code",
      "metadata": {
        "id": "so8icPPkjOT9",
        "outputId": "38b74993-1756-43af-8b22-e9739eedc8b0",
        "colab": {
          "base_uri": "https://localhost:8080/"
        }
      },
      "source": [
        "num_match_id = 0\n",
        "for review_id in goodreads_reviews_df[\"book_id\"]:\n",
        "  for book_id in kaggle_100k_books_df[\"Id\"]:\n",
        "    if review_id == str(book_id):\n",
        "      num_match_id += 1\n",
        "\n",
        "print(num_match_id)"
      ],
      "execution_count": null,
      "outputs": [
        {
          "output_type": "stream",
          "text": [
            "976\n"
          ],
          "name": "stdout"
        }
      ]
    }
  ]
}