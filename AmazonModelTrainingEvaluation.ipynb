{
  "nbformat": 4,
  "nbformat_minor": 0,
  "metadata": {
    "colab": {
      "name": "AmazonModelTrainingEvaluation.ipynb",
      "provenance": [],
      "machine_shape": "hm",
      "authorship_tag": "ABX9TyO0OP44xi3IiGZ/L6j/HiGY",
      "include_colab_link": true
    },
    "kernelspec": {
      "display_name": "Python 3",
      "name": "python3"
    }
  },
  "cells": [
    {
      "cell_type": "markdown",
      "metadata": {
        "id": "view-in-github",
        "colab_type": "text"
      },
      "source": [
        "<a href=\"https://colab.research.google.com/github/Manasi1/cmpe256/blob/main/AmazonModelTrainingEvaluation.ipynb\" target=\"_parent\"><img src=\"https://colab.research.google.com/assets/colab-badge.svg\" alt=\"Open In Colab\"/></a>"
      ]
    },
    {
      "cell_type": "markdown",
      "metadata": {
        "id": "6wTPNoAn84Du"
      },
      "source": [
        "# **Evaluation Metric for Training model for Amazon Reviews Data**"
      ]
    },
    {
      "cell_type": "markdown",
      "metadata": {
        "id": "qs-B8KCf9LHS"
      },
      "source": [
        "### **Importing Surprise library for Collabertive filtering algorithms, Pandas**\n",
        "### **for loading dataset, and matplotlib library for visualizations**. "
      ]
    },
    {
      "cell_type": "code",
      "metadata": {
        "id": "WCjN7a-Utafz",
        "outputId": "fc94ba7d-2ef9-43d9-f1fb-b121dd3c7911",
        "colab": {
          "base_uri": "https://localhost:8080/"
        }
      },
      "source": [
        "# Credits-Prof Eirinaki, Rashmi Sharma and Aditya Patel\n",
        "# conda install -c conda-forge scikit-surprise\n",
        "!pip install scikit-surprise\n",
        "from surprise import BaselineOnly\n",
        "from surprise import Dataset\n",
        "from surprise import Reader\n",
        "from surprise.model_selection.split import train_test_split\n",
        "from surprise.model_selection import cross_validate, GridSearchCV\n",
        "import pandas as pd\n",
        "import numpy as np\n",
        "import os, io\n",
        "from surprise import KNNBasic, KNNWithMeans, KNNWithZScore, SlopeOne, NMF, CoClustering, NormalPredictor, KNNBaseline, BaselineOnly\n",
        "from surprise import SVDpp\n",
        "from surprise import SVD\n",
        "from surprise import accuracy\n",
        "\n",
        "from collections import defaultdict\n",
        "import matplotlib.pyplot as plt\n",
        "%matplotlib inline"
      ],
      "execution_count": 36,
      "outputs": [
        {
          "output_type": "stream",
          "text": [
            "Requirement already satisfied: scikit-surprise in /usr/local/lib/python3.6/dist-packages (1.1.1)\n",
            "Requirement already satisfied: numpy>=1.11.2 in /usr/local/lib/python3.6/dist-packages (from scikit-surprise) (1.18.5)\n",
            "Requirement already satisfied: scipy>=1.0.0 in /usr/local/lib/python3.6/dist-packages (from scikit-surprise) (1.4.1)\n",
            "Requirement already satisfied: joblib>=0.11 in /usr/local/lib/python3.6/dist-packages (from scikit-surprise) (0.17.0)\n",
            "Requirement already satisfied: six>=1.10.0 in /usr/local/lib/python3.6/dist-packages (from scikit-surprise) (1.15.0)\n"
          ],
          "name": "stdout"
        }
      ]
    },
    {
      "cell_type": "code",
      "metadata": {
        "id": "ZCgP9-GztQr4",
        "outputId": "1248fa67-66fa-4a8b-a0b1-cff1665be9f2",
        "colab": {
          "base_uri": "https://localhost:8080/"
        }
      },
      "source": [
        "# mount to Google Drive\n",
        "from google.colab import drive\n",
        "drive.mount('/content/drive')"
      ],
      "execution_count": 2,
      "outputs": [
        {
          "output_type": "stream",
          "text": [
            "Drive already mounted at /content/drive; to attempt to forcibly remount, call drive.mount(\"/content/drive\", force_remount=True).\n"
          ],
          "name": "stdout"
        }
      ]
    },
    {
      "cell_type": "code",
      "metadata": {
        "id": "SRtmI2nJaSwK",
        "outputId": "6320c457-cee5-4419-cc78-8bf5e485d860",
        "colab": {
          "base_uri": "https://localhost:8080/",
          "height": 255
        }
      },
      "source": [
        "# Get the dataframe from CSV named goodread_reviews_1.csv in Google Drive\n",
        "\n",
        "# Go to folder containing CSV\n",
        "%cd \"/content/drive/My Drive/data/ce256/project\"\n",
        "# load first 4 million reviews\n",
        "amazon_df = pd.read_csv(\"amazon_reviews_1\")\n",
        "\n",
        "# Check the CSV in Google Drive has the correct data\n",
        "amazon_df.head()"
      ],
      "execution_count": 3,
      "outputs": [
        {
          "output_type": "stream",
          "text": [
            "/content/drive/.shortcut-targets-by-id/1HAaJ2jKojgPKa8wfJoWiFU_cYq8hnytg/project\n"
          ],
          "name": "stdout"
        },
        {
          "output_type": "stream",
          "text": [
            "/usr/local/lib/python3.6/dist-packages/IPython/core/interactiveshell.py:2718: DtypeWarning: Columns (10,11) have mixed types.Specify dtype option on import or set low_memory=False.\n",
            "  interactivity=interactivity, compiler=compiler, result=result)\n"
          ],
          "name": "stderr"
        },
        {
          "output_type": "execute_result",
          "data": {
            "text/html": [
              "<div>\n",
              "<style scoped>\n",
              "    .dataframe tbody tr th:only-of-type {\n",
              "        vertical-align: middle;\n",
              "    }\n",
              "\n",
              "    .dataframe tbody tr th {\n",
              "        vertical-align: top;\n",
              "    }\n",
              "\n",
              "    .dataframe thead th {\n",
              "        text-align: right;\n",
              "    }\n",
              "</style>\n",
              "<table border=\"1\" class=\"dataframe\">\n",
              "  <thead>\n",
              "    <tr style=\"text-align: right;\">\n",
              "      <th></th>\n",
              "      <th>overall</th>\n",
              "      <th>verified</th>\n",
              "      <th>reviewTime</th>\n",
              "      <th>reviewerID</th>\n",
              "      <th>asin</th>\n",
              "      <th>style</th>\n",
              "      <th>reviewerName</th>\n",
              "      <th>reviewText</th>\n",
              "      <th>summary</th>\n",
              "      <th>unixReviewTime</th>\n",
              "      <th>vote</th>\n",
              "      <th>image</th>\n",
              "    </tr>\n",
              "  </thead>\n",
              "  <tbody>\n",
              "    <tr>\n",
              "      <th>0</th>\n",
              "      <td>5.0</td>\n",
              "      <td>False</td>\n",
              "      <td>03 30, 2005</td>\n",
              "      <td>A1REUF3A1YCPHM</td>\n",
              "      <td>0001713353</td>\n",
              "      <td>{'Format:': ' Hardcover'}</td>\n",
              "      <td>TW Ervin II</td>\n",
              "      <td>The King, the Mice and the Cheese by Nancy Gur...</td>\n",
              "      <td>A story children will love and learn from</td>\n",
              "      <td>1112140800</td>\n",
              "      <td>NaN</td>\n",
              "      <td>NaN</td>\n",
              "    </tr>\n",
              "    <tr>\n",
              "      <th>1</th>\n",
              "      <td>5.0</td>\n",
              "      <td>True</td>\n",
              "      <td>06 20, 2016</td>\n",
              "      <td>AVP0HXC9FG790</td>\n",
              "      <td>0001713353</td>\n",
              "      <td>NaN</td>\n",
              "      <td>Amazon Customer</td>\n",
              "      <td>The kids loved it!</td>\n",
              "      <td>Five Stars</td>\n",
              "      <td>1466380800</td>\n",
              "      <td>NaN</td>\n",
              "      <td>NaN</td>\n",
              "    </tr>\n",
              "    <tr>\n",
              "      <th>2</th>\n",
              "      <td>5.0</td>\n",
              "      <td>True</td>\n",
              "      <td>01 24, 2016</td>\n",
              "      <td>A324TTUBKTN73A</td>\n",
              "      <td>0001713353</td>\n",
              "      <td>{'Format:': ' Paperback'}</td>\n",
              "      <td>Tekla Borner</td>\n",
              "      <td>My students (3 &amp; 4 year olds) loved this book!...</td>\n",
              "      <td>Five Stars</td>\n",
              "      <td>1453593600</td>\n",
              "      <td>NaN</td>\n",
              "      <td>NaN</td>\n",
              "    </tr>\n",
              "    <tr>\n",
              "      <th>3</th>\n",
              "      <td>5.0</td>\n",
              "      <td>False</td>\n",
              "      <td>07 9, 2015</td>\n",
              "      <td>A2RE7WG349NV5D</td>\n",
              "      <td>0001713353</td>\n",
              "      <td>{'Format:': ' Paperback'}</td>\n",
              "      <td>Deborah K Woroniecki</td>\n",
              "      <td>LOVE IT</td>\n",
              "      <td>Five Stars</td>\n",
              "      <td>1436400000</td>\n",
              "      <td>NaN</td>\n",
              "      <td>NaN</td>\n",
              "    </tr>\n",
              "    <tr>\n",
              "      <th>4</th>\n",
              "      <td>5.0</td>\n",
              "      <td>True</td>\n",
              "      <td>01 18, 2015</td>\n",
              "      <td>A32B7QIUDQCD0E</td>\n",
              "      <td>0001713353</td>\n",
              "      <td>NaN</td>\n",
              "      <td>E</td>\n",
              "      <td>Great!</td>\n",
              "      <td>Five Stars</td>\n",
              "      <td>1421539200</td>\n",
              "      <td>NaN</td>\n",
              "      <td>NaN</td>\n",
              "    </tr>\n",
              "  </tbody>\n",
              "</table>\n",
              "</div>"
            ],
            "text/plain": [
              "   overall  verified   reviewTime  ... unixReviewTime vote image\n",
              "0      5.0     False  03 30, 2005  ...     1112140800  NaN   NaN\n",
              "1      5.0      True  06 20, 2016  ...     1466380800  NaN   NaN\n",
              "2      5.0      True  01 24, 2016  ...     1453593600  NaN   NaN\n",
              "3      5.0     False   07 9, 2015  ...     1436400000  NaN   NaN\n",
              "4      5.0      True  01 18, 2015  ...     1421539200  NaN   NaN\n",
              "\n",
              "[5 rows x 12 columns]"
            ]
          },
          "metadata": {
            "tags": []
          },
          "execution_count": 3
        }
      ]
    },
    {
      "cell_type": "markdown",
      "metadata": {
        "id": "kyAq_WMkR-8e"
      },
      "source": [
        "## Understanding the Metadata of the dataset"
      ]
    },
    {
      "cell_type": "code",
      "metadata": {
        "id": "ViVLMP7pugmN",
        "outputId": "54f123e2-a936-4072-ea2d-79bf64a4f51c",
        "colab": {
          "base_uri": "https://localhost:8080/"
        }
      },
      "source": [
        "amazon_df.info()"
      ],
      "execution_count": 5,
      "outputs": [
        {
          "output_type": "stream",
          "text": [
            "<class 'pandas.core.frame.DataFrame'>\n",
            "RangeIndex: 4000000 entries, 0 to 3999999\n",
            "Data columns (total 12 columns):\n",
            " #   Column          Dtype  \n",
            "---  ------          -----  \n",
            " 0   overall         float64\n",
            " 1   verified        bool   \n",
            " 2   reviewTime      object \n",
            " 3   reviewerID      object \n",
            " 4   asin            object \n",
            " 5   style           object \n",
            " 6   reviewerName    object \n",
            " 7   reviewText      object \n",
            " 8   summary         object \n",
            " 9   unixReviewTime  int64  \n",
            " 10  vote            object \n",
            " 11  image           object \n",
            "dtypes: bool(1), float64(1), int64(1), object(9)\n",
            "memory usage: 339.5+ MB\n"
          ],
          "name": "stdout"
        }
      ]
    },
    {
      "cell_type": "code",
      "metadata": {
        "id": "60uZgGOeum0l",
        "outputId": "51442f1e-a707-48b5-ffcd-dc1e59b46fd9",
        "colab": {
          "base_uri": "https://localhost:8080/",
          "height": 297
        }
      },
      "source": [
        "amazon_df.describe()"
      ],
      "execution_count": 7,
      "outputs": [
        {
          "output_type": "execute_result",
          "data": {
            "text/html": [
              "<div>\n",
              "<style scoped>\n",
              "    .dataframe tbody tr th:only-of-type {\n",
              "        vertical-align: middle;\n",
              "    }\n",
              "\n",
              "    .dataframe tbody tr th {\n",
              "        vertical-align: top;\n",
              "    }\n",
              "\n",
              "    .dataframe thead th {\n",
              "        text-align: right;\n",
              "    }\n",
              "</style>\n",
              "<table border=\"1\" class=\"dataframe\">\n",
              "  <thead>\n",
              "    <tr style=\"text-align: right;\">\n",
              "      <th></th>\n",
              "      <th>overall</th>\n",
              "      <th>unixReviewTime</th>\n",
              "    </tr>\n",
              "  </thead>\n",
              "  <tbody>\n",
              "    <tr>\n",
              "      <th>count</th>\n",
              "      <td>4.000000e+06</td>\n",
              "      <td>4.000000e+06</td>\n",
              "    </tr>\n",
              "    <tr>\n",
              "      <th>mean</th>\n",
              "      <td>4.301729e+00</td>\n",
              "      <td>1.372402e+09</td>\n",
              "    </tr>\n",
              "    <tr>\n",
              "      <th>std</th>\n",
              "      <td>1.053463e+00</td>\n",
              "      <td>1.178078e+08</td>\n",
              "    </tr>\n",
              "    <tr>\n",
              "      <th>min</th>\n",
              "      <td>1.000000e+00</td>\n",
              "      <td>8.325504e+08</td>\n",
              "    </tr>\n",
              "    <tr>\n",
              "      <th>25%</th>\n",
              "      <td>4.000000e+00</td>\n",
              "      <td>1.348445e+09</td>\n",
              "    </tr>\n",
              "    <tr>\n",
              "      <th>50%</th>\n",
              "      <td>5.000000e+00</td>\n",
              "      <td>1.404691e+09</td>\n",
              "    </tr>\n",
              "    <tr>\n",
              "      <th>75%</th>\n",
              "      <td>5.000000e+00</td>\n",
              "      <td>1.446682e+09</td>\n",
              "    </tr>\n",
              "    <tr>\n",
              "      <th>max</th>\n",
              "      <td>5.000000e+00</td>\n",
              "      <td>1.525306e+09</td>\n",
              "    </tr>\n",
              "  </tbody>\n",
              "</table>\n",
              "</div>"
            ],
            "text/plain": [
              "            overall  unixReviewTime\n",
              "count  4.000000e+06    4.000000e+06\n",
              "mean   4.301729e+00    1.372402e+09\n",
              "std    1.053463e+00    1.178078e+08\n",
              "min    1.000000e+00    8.325504e+08\n",
              "25%    4.000000e+00    1.348445e+09\n",
              "50%    5.000000e+00    1.404691e+09\n",
              "75%    5.000000e+00    1.446682e+09\n",
              "max    5.000000e+00    1.525306e+09"
            ]
          },
          "metadata": {
            "tags": []
          },
          "execution_count": 7
        }
      ]
    },
    {
      "cell_type": "markdown",
      "metadata": {
        "id": "oewv0nYcSJhA"
      },
      "source": [
        "## Calculate total count of each rating"
      ]
    },
    {
      "cell_type": "code",
      "metadata": {
        "id": "Wof3NWRRzFf-",
        "outputId": "b8a688cf-5840-4388-d26a-728699116177",
        "colab": {
          "base_uri": "https://localhost:8080/",
          "height": 235
        }
      },
      "source": [
        "total_count_rating = amazon_df.groupby('overall')['overall'].agg(['count'])\n",
        "total_count_rating"
      ],
      "execution_count": 10,
      "outputs": [
        {
          "output_type": "execute_result",
          "data": {
            "text/html": [
              "<div>\n",
              "<style scoped>\n",
              "    .dataframe tbody tr th:only-of-type {\n",
              "        vertical-align: middle;\n",
              "    }\n",
              "\n",
              "    .dataframe tbody tr th {\n",
              "        vertical-align: top;\n",
              "    }\n",
              "\n",
              "    .dataframe thead th {\n",
              "        text-align: right;\n",
              "    }\n",
              "</style>\n",
              "<table border=\"1\" class=\"dataframe\">\n",
              "  <thead>\n",
              "    <tr style=\"text-align: right;\">\n",
              "      <th></th>\n",
              "      <th>count</th>\n",
              "    </tr>\n",
              "    <tr>\n",
              "      <th>overall</th>\n",
              "      <th></th>\n",
              "    </tr>\n",
              "  </thead>\n",
              "  <tbody>\n",
              "    <tr>\n",
              "      <th>1.0</th>\n",
              "      <td>143760</td>\n",
              "    </tr>\n",
              "    <tr>\n",
              "      <th>2.0</th>\n",
              "      <td>179573</td>\n",
              "    </tr>\n",
              "    <tr>\n",
              "      <th>3.0</th>\n",
              "      <td>396912</td>\n",
              "    </tr>\n",
              "    <tr>\n",
              "      <th>4.0</th>\n",
              "      <td>885500</td>\n",
              "    </tr>\n",
              "    <tr>\n",
              "      <th>5.0</th>\n",
              "      <td>2394255</td>\n",
              "    </tr>\n",
              "  </tbody>\n",
              "</table>\n",
              "</div>"
            ],
            "text/plain": [
              "           count\n",
              "overall         \n",
              "1.0       143760\n",
              "2.0       179573\n",
              "3.0       396912\n",
              "4.0       885500\n",
              "5.0      2394255"
            ]
          },
          "metadata": {
            "tags": []
          },
          "execution_count": 10
        }
      ]
    },
    {
      "cell_type": "markdown",
      "metadata": {
        "id": "bMKx_7QkWM_v"
      },
      "source": [
        "## Calculate Unique book ids, user ids and total rating count"
      ]
    },
    {
      "cell_type": "code",
      "metadata": {
        "id": "oou3MhKaxsEi",
        "outputId": "ac6fbe9f-58b4-4576-8db9-c9256f920a15",
        "colab": {
          "base_uri": "https://localhost:8080/"
        }
      },
      "source": [
        "book_count = amazon_df[\"asin\"].nunique()\n",
        "user_count = amazon_df['reviewerID'].nunique()\n",
        "rating_count = amazon_df[\"overall\"].count()\n",
        "\n",
        "print('Unique Book Ids : ',book_count)\n",
        "print('Unique User Ids : ',user_count)\n",
        "print('Total rating count : ',user_count)"
      ],
      "execution_count": 12,
      "outputs": [
        {
          "output_type": "stream",
          "text": [
            "Unique Book Ids :  62209\n",
            "Unique User Ids :  1208867\n",
            "Total rating count :  1208867\n"
          ],
          "name": "stdout"
        }
      ]
    },
    {
      "cell_type": "markdown",
      "metadata": {
        "id": "vJ1EPIcQWztC"
      },
      "source": [
        "# **Visualize the rating count**"
      ]
    },
    {
      "cell_type": "code",
      "metadata": {
        "id": "E4omPyhP5cuw"
      },
      "source": [
        "rts_gp = amazon_df.groupby(by=['overall']).agg({'reviewerID': 'count'}).reset_index()\n",
        "rts_gp.columns = ['Rating', 'Count']"
      ],
      "execution_count": 14,
      "outputs": []
    },
    {
      "cell_type": "code",
      "metadata": {
        "id": "yDuv8aVR5Rqq",
        "outputId": "97b82c26-ea4d-42cd-d8ef-d9a43475528d",
        "colab": {
          "base_uri": "https://localhost:8080/",
          "height": 302
        }
      },
      "source": [
        "plt.barh(rts_gp.Rating, rts_gp.Count, color='royalblue')\n",
        "plt.title('Overall Count of Ratings', fontsize=15)\n",
        "plt.xlabel('Count', fontsize=15)\n",
        "plt.ylabel('Rating', fontsize=15)\n",
        "plt.grid(ls='dotted')\n",
        "plt.show()"
      ],
      "execution_count": 15,
      "outputs": [
        {
          "output_type": "display_data",
          "data": {
            "image/png": "[encoded data removed]",
            "text/plain": [
              "<Figure size 432x288 with 1 Axes>"
            ]
          },
          "metadata": {
            "tags": [],
            "needs_background": "light"
          }
        }
      ]
    },
    {
      "cell_type": "code",
      "metadata": {
        "id": "POwC17h8ywJ-",
        "outputId": "55eae288-46c7-498a-92e4-8ac9fec6ea06",
        "colab": {
          "base_uri": "https://localhost:8080/",
          "height": 596
        }
      },
      "source": [
        "ax = rts_gp.plot(kind = 'barh', legend = False, figsize = (15,10))\n",
        "plt.title('Total pool: {:,} Books, {:,} users, {:,} ratings given'.format(book_count, user_count, rating_count), fontsize=20)\n",
        "plt.axis('off')\n",
        "          \n",
        "for i in range(1,6):\n",
        "    ax.text(rts_gp.iloc[i-1][0]/4, i-1, 'Rating {}: {:.0f}%'.format(i, rts_gp.iloc[i-1][0]*100 / rts_gp.sum()[0]), color = 'black', weight = 'bold')"
      ],
      "execution_count": 19,
      "outputs": [
        {
          "output_type": "display_data",
          "data": {
            "image/png": "[encoded data removed]",
            "text/plain": [
              "<Figure size 1080x720 with 1 Axes>"
            ]
          },
          "metadata": {
            "tags": [],
            "needs_background": "light"
          }
        }
      ]
    },
    {
      "cell_type": "markdown",
      "metadata": {
        "id": "qqsDkSCWXXBI"
      },
      "source": [
        "# **Check for Null values in User id, Book Id, and Review Id**\n",
        "As we will be using overall,reviewerId and asin for our model training. We are checking "
      ]
    },
    {
      "cell_type": "code",
      "metadata": {
        "id": "aRIb7cHrzdBc",
        "outputId": "b5ae8ee9-4875-4a89-ae49-2e7be385d57d",
        "colab": {
          "base_uri": "https://localhost:8080/"
        }
      },
      "source": [
        "amazon_df.isnull().sum()"
      ],
      "execution_count": 20,
      "outputs": [
        {
          "output_type": "execute_result",
          "data": {
            "text/plain": [
              "overall                 0\n",
              "verified                0\n",
              "reviewTime              0\n",
              "reviewerID              0\n",
              "asin                    0\n",
              "style               57757\n",
              "reviewerName          285\n",
              "reviewText            495\n",
              "summary               439\n",
              "unixReviewTime          0\n",
              "vote              3109783\n",
              "image             3994761\n",
              "dtype: int64"
            ]
          },
          "metadata": {
            "tags": []
          },
          "execution_count": 20
        }
      ]
    },
    {
      "cell_type": "markdown",
      "metadata": {
        "id": "tBY0HnjRjqVZ"
      },
      "source": [
        "# **Data Slicing**\n",
        "\n",
        "To deal with huge dataset we need to trim the dataset for training the model. This will also improve the quality of our dataset.\n",
        "Delete rows that contains books with less reviews.\n",
        "Delete rows that contains users who give too reviews"
      ]
    },
    {
      "cell_type": "code",
      "metadata": {
        "id": "OLALVR6XiSpr",
        "outputId": "e4ea60d4-5814-4389-9228-d5829575ef65",
        "colab": {
          "base_uri": "https://localhost:8080/"
        }
      },
      "source": [
        "f = ['count','mean']\n",
        "\n",
        "df_book_summary = amazon_df.groupby('asin')['overall'].agg(f)\n",
        "book_benchmark = round(df_book_summary['count'].quantile(0.8),0)\n",
        "drop_book_list = df_book_summary[df_book_summary['count'] < book_benchmark].index\n",
        "\n",
        "print('Book minimum times of review: {}'.format(book_benchmark))\n",
        "\n",
        "df_user_summary = amazon_df.groupby('reviewerID')['overall'].agg(f)\n",
        "user_benchmark = round(df_user_summary['count'].quantile(0.8),0)\n",
        "drop_user_list = df_user_summary[df_user_summary['count'] < user_benchmark].index\n",
        "\n",
        "print('User minimum times of review: {}'.format(user_benchmark))"
      ],
      "execution_count": 7,
      "outputs": [
        {
          "output_type": "stream",
          "text": [
            "Book minimum times of review: 58.0\n",
            "User minimum times of review: 4.0\n"
          ],
          "name": "stdout"
        }
      ]
    },
    {
      "cell_type": "markdown",
      "metadata": {
        "id": "rthfRdbHXtbn"
      },
      "source": [
        "# **Trim Data**"
      ]
    },
    {
      "cell_type": "code",
      "metadata": {
        "id": "CfYPw_IOlhIA",
        "outputId": "fe97b3fe-b19e-4d40-fb56-e021c4998432",
        "colab": {
          "base_uri": "https://localhost:8080/"
        }
      },
      "source": [
        "print('Original Shape: {}'.format(amazon_df.shape))\n",
        "amazon_df = amazon_df[~amazon_df['asin'].isin(drop_book_list)]\n",
        "amazon_df = amazon_df[~amazon_df['reviewerID'].isin(drop_user_list)]\n",
        "print('After Trim Shape: {}'.format(amazon_df.shape))\n",
        "print('-Data Examples-')\n",
        "print(amazon_df.iloc[::20000, :])"
      ],
      "execution_count": 8,
      "outputs": [
        {
          "output_type": "stream",
          "text": [
            "Original Shape: (4000000, 12)\n",
            "After Trim Shape: (1977131, 12)\n",
            "-Data Examples-\n",
            "         overall  verified   reviewTime  ... unixReviewTime vote image\n",
            "79           3.0      True  05 12, 2003  ...     1052697600    6   NaN\n",
            "33850        3.0      True  07 18, 2017  ...     1500336000  NaN   NaN\n",
            "70892        5.0     False  08 24, 2014  ...     1408838400  NaN   NaN\n",
            "116939       2.0      True   08 6, 2013  ...     1375747200    3   NaN\n",
            "152643       3.0     False  01 10, 2005  ...     1105315200    2   NaN\n",
            "...          ...       ...          ...  ...            ...  ...   ...\n",
            "3796800      4.0      True   05 3, 2013  ...     1367539200  NaN   NaN\n",
            "3841780      5.0      True  06 12, 2015  ...     1434067200    4   NaN\n",
            "3883869      5.0     False   11 9, 2011  ...     1320796800  NaN   NaN\n",
            "3924443      5.0     False  09 30, 2010  ...     1285804800  NaN   NaN\n",
            "3964615      4.0     False  01 30, 2015  ...     1422576000  NaN   NaN\n",
            "\n",
            "[99 rows x 12 columns]\n"
          ],
          "name": "stdout"
        }
      ]
    },
    {
      "cell_type": "markdown",
      "metadata": {
        "id": "0kC9-YhEXz-Q"
      },
      "source": [
        "# **Taking initial 25% of total books for Model training**\n",
        "Using Full dataset   gives memory issue as it requires more than 30 GB ram for model training"
      ]
    },
    {
      "cell_type": "code",
      "metadata": {
        "id": "8ko0afWd-4tM"
      },
      "source": [
        "amazon_df=amazon_df[:220000]"
      ],
      "execution_count": 9,
      "outputs": []
    },
    {
      "cell_type": "code",
      "metadata": {
        "id": "4V6Ftuf5-KOU"
      },
      "source": [
        "reader = Reader(rating_scale=(1,5))\n",
        "\n",
        "data = Dataset.load_from_df(amazon_df[['reviewerID', 'asin', 'overall']], reader)\n"
      ],
      "execution_count": 10,
      "outputs": []
    },
    {
      "cell_type": "markdown",
      "metadata": {
        "id": "vvx_uKJkciM5"
      },
      "source": [
        "# **Splitting dataset in the ratio of 8:2**"
      ]
    },
    {
      "cell_type": "code",
      "metadata": {
        "id": "1BWN8UAFl94r"
      },
      "source": [
        "#create training set\n",
        "trainingSet, testSet = train_test_split(data, test_size=0.2, train_size=None, random_state=None, shuffle=True)"
      ],
      "execution_count": 12,
      "outputs": []
    },
    {
      "cell_type": "markdown",
      "metadata": {
        "id": "s6Wio4ftc1gx"
      },
      "source": [
        "# **Defined Parameters for KNN**\n",
        "For KNN we are using Cosine and Pearson similarity measure"
      ]
    },
    {
      "cell_type": "code",
      "metadata": {
        "id": "4XjTQRdxM45d"
      },
      "source": [
        "#lets configure some parameters for Collaborative Filtering Algorithm\n",
        "sim_cosine = {\n",
        "    'name': 'cosine', #similarity measure default is MSD\n",
        "    'user_based': False #user-based CF\n",
        "}"
      ],
      "execution_count": 10,
      "outputs": []
    },
    {
      "cell_type": "code",
      "metadata": {
        "id": "7Qei6qrSsXWl"
      },
      "source": [
        "sim_pearson = {\n",
        "    'name': 'pearson', #similarity measure default is MSD\n",
        "    'user_based': False #user-based CF\n",
        "}"
      ],
      "execution_count": 11,
      "outputs": []
    },
    {
      "cell_type": "markdown",
      "metadata": {
        "id": "DUqLEbWkcukT"
      },
      "source": [
        "# **Defined Parameters for SVD**"
      ]
    },
    {
      "cell_type": "markdown",
      "metadata": {
        "id": "YqUjm3g--MNX"
      },
      "source": [
        ""
      ]
    },
    {
      "cell_type": "code",
      "metadata": {
        "id": "aiXzXP1sbiTB"
      },
      "source": [
        "#SVD\n",
        "svd = SVD(n_factors=5, reg_all=0.1, n_epochs=1, biased = True, init_mean= 0, init_std_dev=0.1, lr_all=0.001)"
      ],
      "execution_count": 12,
      "outputs": []
    },
    {
      "cell_type": "code",
      "metadata": {
        "id": "4CDcPeZHzDVI"
      },
      "source": [
        "svd.fit(trainingSet) #fit model to the training set\n",
        "predictions_svd = svd.test(testSet) #predict for test set values"
      ],
      "execution_count": 13,
      "outputs": []
    },
    {
      "cell_type": "markdown",
      "metadata": {
        "id": "rnI6WjCcc7Pz"
      },
      "source": [
        "# **Cross Validation perfomed on SVD on 10k fold**"
      ]
    },
    {
      "cell_type": "code",
      "metadata": {
        "id": "nAkxkrVsgEiN",
        "outputId": "133e916f-02b7-421e-8554-3005e865f48c",
        "colab": {
          "base_uri": "https://localhost:8080/"
        }
      },
      "source": [
        "svd_cv = cross_validate(svd, data, cv=10, verbose=True) ##rerun the training part with different parameters"
      ],
      "execution_count": 14,
      "outputs": [
        {
          "output_type": "stream",
          "text": [
            "Evaluating RMSE, MAE of algorithm SVD on 10 split(s).\n",
            "\n",
            "                  Fold 1  Fold 2  Fold 3  Fold 4  Fold 5  Fold 6  Fold 7  Fold 8  Fold 9  Fold 10 Mean    Std     \n",
            "RMSE (testset)    1.0122  1.0209  1.0205  1.0130  1.0131  1.0269  1.0024  1.0142  1.0232  1.0140  1.0160  0.0066  \n",
            "MAE (testset)     0.7969  0.8036  0.8030  0.7949  0.7960  0.8047  0.7904  0.7929  0.8034  0.7977  0.7984  0.0048  \n",
            "Fit time          0.30    0.41    0.41    0.40    0.41    0.42    0.42    0.42    0.41    0.42    0.40    0.03    \n",
            "Test time         0.15    0.15    0.35    0.15    0.15    0.16    0.18    0.35    0.15    0.15    0.20    0.08    \n"
          ],
          "name": "stdout"
        }
      ]
    },
    {
      "cell_type": "markdown",
      "metadata": {
        "id": "q7Um_V9B-U-X"
      },
      "source": [
        "# **Cross Validation perfomed on NMF with 5k fold validation**"
      ]
    },
    {
      "cell_type": "code",
      "metadata": {
        "id": "4qouQDGTvqxn"
      },
      "source": [
        "nmf_cv = cross_validate(NMF(), data, cv=5, n_jobs=5, verbose=False)"
      ],
      "execution_count": 15,
      "outputs": []
    },
    {
      "cell_type": "markdown",
      "metadata": {
        "id": "09HaWEIy-fxy"
      },
      "source": [
        "# **Cross Validation perfomed on SVDpp with 5k fold validation**"
      ]
    },
    {
      "cell_type": "code",
      "metadata": {
        "id": "X1jO5kV90_UC"
      },
      "source": [
        "svdpp_cv = cross_validate(SVDpp(), data, cv=5, n_jobs=5, verbose=False)"
      ],
      "execution_count": 16,
      "outputs": []
    },
    {
      "cell_type": "markdown",
      "metadata": {
        "id": "9wwUVGul-ois"
      },
      "source": [
        "# **Training Model using KNNBasic**"
      ]
    },
    {
      "cell_type": "code",
      "metadata": {
        "id": "DuXbmdSXNYin",
        "outputId": "f80a58fa-ee88-474b-ada4-bd84b3a30bbf",
        "colab": {
          "base_uri": "https://localhost:8080/"
        }
      },
      "source": [
        "#KNN\n",
        "knn = KNNBasic(sim_options=sim_cosine,k=3,min_k=1) #neighbours=3, other parameters set as above\n",
        "knn.fit(trainingSet) #fit model to the training set\n",
        "predictions_knn = knn.test(testSet) #predict for test set values"
      ],
      "execution_count": 17,
      "outputs": [
        {
          "output_type": "stream",
          "text": [
            "Computing the cosine similarity matrix...\n",
            "Done computing similarity matrix.\n"
          ],
          "name": "stdout"
        }
      ]
    },
    {
      "cell_type": "markdown",
      "metadata": {
        "id": "qKnCYTT2-wx4"
      },
      "source": [
        "# **Defining Parameters for KNNWithMeans**"
      ]
    },
    {
      "cell_type": "code",
      "metadata": {
        "id": "HOgQ7hYs9NHw"
      },
      "source": [
        "knn_means = KNNWithMeans(sim_options=sim_cosine,k=3,min_k=1) #neighbours=3, other parameters set as above"
      ],
      "execution_count": 24,
      "outputs": []
    },
    {
      "cell_type": "markdown",
      "metadata": {
        "id": "2Wd0E8L--3bA"
      },
      "source": [
        "# **Defining Parameters for KNNWithZScore**"
      ]
    },
    {
      "cell_type": "code",
      "metadata": {
        "id": "dsXh9WAP9b1W"
      },
      "source": [
        "knn_zero = KNNWithZScore(sim_options=sim_cosine,k=3,min_k=1) #neighbours=3, other parameters set as above"
      ],
      "execution_count": 26,
      "outputs": []
    },
    {
      "cell_type": "markdown",
      "metadata": {
        "id": "OkvUslqIdPIm"
      },
      "source": [
        "# **Cross validation performed on k-NN Based Algorithms**"
      ]
    },
    {
      "cell_type": "code",
      "metadata": {
        "id": "FgXsQt4q6NOx"
      },
      "source": [
        "knnbasic_cv = cross_validate(knn, data, cv=5, n_jobs=5, verbose=False)"
      ],
      "execution_count": 18,
      "outputs": []
    },
    {
      "cell_type": "code",
      "metadata": {
        "id": "LmtsTaVk8W4Z"
      },
      "source": [
        "knnmeans_cv = cross_validate(knn_means, data, cv=5, n_jobs=5, verbose=False)"
      ],
      "execution_count": 25,
      "outputs": []
    },
    {
      "cell_type": "code",
      "metadata": {
        "id": "Q0p_uMyt-It5"
      },
      "source": [
        "knnz_cv = cross_validate(knn_zero, data, cv=5, n_jobs=5, verbose=False)"
      ],
      "execution_count": 27,
      "outputs": []
    },
    {
      "cell_type": "markdown",
      "metadata": {
        "id": "Kecj1Rqv-Nyh"
      },
      "source": [
        "# **Cross validation performed using Co-Clustering and SlopeOne Algorithm using with 5k fold validation**"
      ]
    },
    {
      "cell_type": "code",
      "metadata": {
        "id": "yVHx3Ttu7oCG"
      },
      "source": [
        "coclus_cv = cross_validate(CoClustering(), data, cv=5, n_jobs=5, verbose=False)"
      ],
      "execution_count": 21,
      "outputs": []
    },
    {
      "cell_type": "code",
      "metadata": {
        "id": "ksAOuHj58C5a"
      },
      "source": [
        "slope_cv = cross_validate(SlopeOne(), data, cv=5, n_jobs=5, verbose=False)"
      ],
      "execution_count": 22,
      "outputs": []
    },
    {
      "cell_type": "markdown",
      "metadata": {
        "id": "tPuc36h7dho8"
      },
      "source": [
        "# **Comparison of all algorithms on RMSE and MAE**"
      ]
    },
    {
      "cell_type": "code",
      "metadata": {
        "id": "jwIrM1QhPH-2",
        "outputId": "8ba9b42d-f455-4ba1-b7ec-f4e0b0be27de",
        "colab": {
          "base_uri": "https://localhost:8080/"
        }
      },
      "source": [
        "print('Algorithm\\t RMSE\\t\\t MAE')\n",
        "print()\n",
        "print('KNN Basic', '\\t', round(knnbasic_cv['test_rmse'].mean(), 4), '\\t', round(knnbasic_cv['test_mae'].mean(), 4))\n",
        "print('KNN Means', '\\t', round(knnmeans_cv['test_rmse'].mean(), 4), '\\t', round(knnmeans_cv['test_mae'].mean(), 4))\n",
        "print('KNN ZScore', '\\t', round(knnz_cv['test_rmse'].mean(), 4), '\\t', round(knnz_cv['test_mae'].mean(), 4))\n",
        "print()\n",
        "print('SVD', '\\t\\t', round(svd_cv['test_rmse'].mean(), 4), '\\t', round(svd_cv['test_mae'].mean(), 4))\n",
        "print('SVDpp', '\\t\\t', round(svdpp_cv['test_rmse'].mean(), 4), '\\t', round(svdpp_cv['test_mae'].mean(), 4))\n",
        "print('NMF', '\\t\\t', round(nmf_cv['test_rmse'].mean(), 4), '\\t', round(nmf_cv['test_mae'].mean(), 4))\n",
        "print()\n",
        "print('SlopeOne', '\\t', round(slope_cv['test_rmse'].mean(), 4), '\\t', round(slope_cv['test_mae'].mean(), 4))\n",
        "print('CoClustering', '\\t', round(coclus_cv['test_rmse'].mean(), 4), '\\t', round(coclus_cv['test_mae'].mean(), 4))\n",
        "print()"
      ],
      "execution_count": 28,
      "outputs": [
        {
          "output_type": "stream",
          "text": [
            "Algorithm\t RMSE\t\t MAE\n",
            "\n",
            "KNN Basic \t 1.0619 \t 0.7236\n",
            "KNN Means \t 1.0232 \t 0.7192\n",
            "KNN ZScore \t 1.0257 \t 0.716\n",
            "\n",
            "SVD \t\t 1.016 \t 0.7984\n",
            "SVDpp \t\t 0.958 \t 0.7147\n",
            "NMF \t\t 1.1148 \t 0.8561\n",
            "\n",
            "SlopeOne \t 1.0563 \t 0.7338\n",
            "CoClustering \t 1.0474 \t 0.7268\n",
            "\n"
          ],
          "name": "stdout"
        }
      ]
    },
    {
      "cell_type": "markdown",
      "metadata": {
        "id": "DUKeeKXld0KO"
      },
      "source": [
        "# **Visualization of Evaluation Metric**"
      ]
    },
    {
      "cell_type": "code",
      "metadata": {
        "id": "Tryn2GEAHHrr",
        "outputId": "170a8d51-3360-43c7-9521-266992d437b1",
        "colab": {
          "base_uri": "https://localhost:8080/",
          "height": 357
        }
      },
      "source": [
        "x_algo = ['KNN Basic', 'KNN Means', 'KNN ZScore', 'SVD', 'SVDpp', 'NMF', 'SlopeOne', 'CoClustering']\n",
        "all_algos_cv = [knnbasic_cv, knnmeans_cv, knnz_cv, svd_cv, svdpp_cv, nmf_cv, slope_cv, coclus_cv]\n",
        "\n",
        "rmse_cv = [round(res['test_rmse'].mean(), 4) for res in all_algos_cv]\n",
        "mae_cv = [round(res['test_mae'].mean(), 4) for res in all_algos_cv]\n",
        "\n",
        "plt.figure(figsize=(20,5))\n",
        "\n",
        "plt.subplot(1, 2, 1)\n",
        "plt.title('Comparison of Algorithms on RMSE', loc='center', fontsize=15)\n",
        "plt.plot(x_algo, rmse_cv, label='RMSE', color='darkgreen', marker='o')\n",
        "plt.xlabel('Algorithms', fontsize=15)\n",
        "plt.ylabel('RMSE Value', fontsize=15)\n",
        "plt.legend()\n",
        "plt.grid(ls='dashed')\n",
        "\n",
        "plt.subplot(1, 2, 2)\n",
        "plt.title('Comparison of Algorithms on MAE', loc='center', fontsize=15)\n",
        "plt.plot(x_algo, mae_cv, label='MAE', color='navy', marker='o')\n",
        "plt.xlabel('Algorithms', fontsize=15)\n",
        "plt.ylabel('MAE Value', fontsize=15)\n",
        "plt.legend()\n",
        "plt.grid(ls='dashed')\n",
        "\n",
        "plt.show()\n"
      ],
      "execution_count": 29,
      "outputs": [
        {
          "output_type": "display_data",
          "data": {
            "image/png": "[encoded data removed]",
            "text/plain": [
              "<Figure size 1440x360 with 2 Axes>"
            ]
          },
          "metadata": {
            "tags": [],
            "needs_background": "light"
          }
        }
      ]
    },
    {
      "cell_type": "markdown",
      "metadata": {
        "id": "c9zYqcr2bfkg"
      },
      "source": [
        "# **Perform GridSearch CV on top two algorithms - SVDpp, SVD**"
      ]
    },
    {
      "cell_type": "code",
      "metadata": {
        "id": "ofQetVHeVGK3"
      },
      "source": [
        "# Parameter space\n",
        "svd_param_grid = {'n_epochs': [10, 20], \n",
        "                  'lr_all': [0.007, 0.009, 0.01, 0.001],\n",
        "                  'reg_all': [0.4, 0.6, 0.2]}\n",
        "\n",
        "\n",
        "svd_gs = GridSearchCV(SVD, svd_param_grid, measures=['rmse', 'mae'], cv=5, n_jobs=5)\n",
        "svd_gs.fit(data)\n"
      ],
      "execution_count": 19,
      "outputs": []
    },
    {
      "cell_type": "markdown",
      "metadata": {
        "id": "sO_JPcNFbYir"
      },
      "source": [
        "# **Best parameters for SVD**"
      ]
    },
    {
      "cell_type": "code",
      "metadata": {
        "id": "sZ2Q9qVbbwx6",
        "outputId": "b54dffd8-70c8-47da-acd7-6e2989c93131",
        "colab": {
          "base_uri": "https://localhost:8080/"
        }
      },
      "source": [
        "print('RMSE =', svd_gs.best_params['rmse'])\n",
        "print('MAE =', svd_gs.best_params['mae'])"
      ],
      "execution_count": 20,
      "outputs": [
        {
          "output_type": "stream",
          "text": [
            "RMSE = {'n_epochs': 20, 'lr_all': 0.01, 'reg_all': 0.2}\n",
            "MAE = {'n_epochs': 20, 'lr_all': 0.01, 'reg_all': 0.2}\n"
          ],
          "name": "stdout"
        }
      ]
    },
    {
      "cell_type": "markdown",
      "metadata": {
        "id": "LBaVld7y_mew"
      },
      "source": [
        "# **Best RMSE and MAE Score using SVD**"
      ]
    },
    {
      "cell_type": "code",
      "metadata": {
        "id": "3ixHX0KkVUtT",
        "outputId": "5f1f4f9a-e9f2-48f6-89b0-eb7a2bf43581",
        "colab": {
          "base_uri": "https://localhost:8080/"
        }
      },
      "source": [
        "print('SVD   - RMSE:', round(svd_gs.best_score['rmse'], 4), '; MAE:', round(svd_gs.best_score['mae'], 4))"
      ],
      "execution_count": 21,
      "outputs": [
        {
          "output_type": "stream",
          "text": [
            "SVD   - RMSE: 0.9533 ; MAE: 0.7301\n"
          ],
          "name": "stdout"
        }
      ]
    },
    {
      "cell_type": "code",
      "metadata": {
        "id": "eyO0xkvWEAPV"
      },
      "source": [
        "svdpp_gs = GridSearchCV(SVDpp, svd_param_grid, measures=['rmse', 'mae'], cv=5, n_jobs=5)\n",
        "svdpp_gs.fit(data)\n"
      ],
      "execution_count": 22,
      "outputs": []
    },
    {
      "cell_type": "markdown",
      "metadata": {
        "id": "k3LgISlg_hXw"
      },
      "source": [
        "# **Best parameters for SVDpp**"
      ]
    },
    {
      "cell_type": "code",
      "metadata": {
        "id": "Sua9F7WNKK8r",
        "outputId": "1d0578d7-6e6a-426c-8da0-7c418d629872",
        "colab": {
          "base_uri": "https://localhost:8080/"
        }
      },
      "source": [
        "print('RMSE =', svdpp_gs.best_params['rmse'])\n",
        "print('MAE =', svdpp_gs.best_params['mae'])"
      ],
      "execution_count": 23,
      "outputs": [
        {
          "output_type": "stream",
          "text": [
            "RMSE = {'n_epochs': 20, 'lr_all': 0.01, 'reg_all': 0.2}\n",
            "MAE = {'n_epochs': 20, 'lr_all': 0.01, 'reg_all': 0.2}\n"
          ],
          "name": "stdout"
        }
      ]
    },
    {
      "cell_type": "markdown",
      "metadata": {
        "id": "07bwKTR1_ypF"
      },
      "source": [
        "# **Best RMSE and MAE Score using SVDpp**"
      ]
    },
    {
      "cell_type": "code",
      "metadata": {
        "id": "OmGCQBfNKRhj",
        "outputId": "9965a264-0c1a-4d15-a3fa-3d2bff3e7f8e",
        "colab": {
          "base_uri": "https://localhost:8080/"
        }
      },
      "source": [
        "print('SVDpp   - RMSE:', round(svdpp_gs.best_score['rmse'], 4), '; MAE:', round(svdpp_gs.best_score['mae'], 4))"
      ],
      "execution_count": 24,
      "outputs": [
        {
          "output_type": "stream",
          "text": [
            "SVDpp   - RMSE: 0.9542 ; MAE: 0.7303\n"
          ],
          "name": "stdout"
        }
      ]
    }
  ]
}